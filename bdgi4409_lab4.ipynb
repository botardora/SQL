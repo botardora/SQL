{
    "metadata": {
        "kernelspec": {
            "name": "SQL",
            "display_name": "SQL",
            "language": "sql"
        },
        "language_info": {
            "name": "sql",
            "version": ""
        }
    },
    "nbformat_minor": 2,
    "nbformat": 4,
    "cells": [
        {
            "cell_type": "markdown",
            "source": [
                "1. <span style=\"background-color: rgb(255, 255, 255); color: rgb(45, 59, 69); font-family: LatoWeb, &quot;Helvetica Neue&quot;, Helvetica, Arial, sans-serif; font-size: 16px;\">A</span> **lab2/6. feladatot** <span style=\"background-color: rgb(255, 255, 255); color: rgb(45, 59, 69); font-family: LatoWeb, &quot;Helvetica Neue&quot;, Helvetica, Arial, sans-serif; font-size: 16px;\">módosítsuk a következő módon:</span>\n",
                "\n",
                "\\-Hirdessünk **tranzakciót** a tárolt eljárásban: vagy minden beszúrást hajtson végre a rendszer, vagy egyiket sem!\n",
                "\n",
                "\\-Az adatok adatbázisban való meglétének ellenőrzését, az ID-k tárolását stb. oldjuk meg a lehető legkevesebb lekérdezés segítségével (használjunk lokális változókat)!\n",
                "\n",
                "\\-Minden beszúrás esetén **ellenőrizzük le**, hogy megtörtént-e a beszúrás. Ha nem, hiba(!)üzenet kiíratása mellett térjünk vissza -1-el a tárolt eljárásból (visszatérítési(!) érték).\n",
                "\n",
                "\\-**Fejezzük be minden esetben (pl. feltételes utasítások minden ágán) megfelelően a tranzakciót!**"
            ],
            "metadata": {
                "azdata_cell_guid": "db696619-7f45-40e8-90a0-5d57a5c644ce"
            },
            "attachments": {}
        },
        {
            "cell_type": "code",
            "source": [
                "CREATE OR ALTER PROCEDURE UjKocsma (\r\n",
                "    @pKocsmaNev VARCHAR(20),\r\n",
                "    @pCim VARCHAR(30),\r\n",
                "    @pNyitasDatuma DATE,\r\n",
                "    @pBaratNev VARCHAR(30),\r\n",
                "    @pBaratEmail VARCHAR(20),\r\n",
                "    @pItalTipNev VARCHAR(10),\r\n",
                "    @pItalNev VARCHAR(20),\r\n",
                "    @pAr REAL\r\n",
                ")\r\n",
                "\r\n",
                "AS\r\n",
                "BEGIN\r\n",
                "    SET NOCOUNT ON\r\n",
                "    BEGIN TRY\r\n",
                "        BEGIN TRANSACTION\r\n",
                "\r\n",
                "        DECLARE @UjKocsmaID INT\r\n",
                "        DECLARE @UjItalID INT\r\n",
                "        DECLARE @UjItalTipusID INT\r\n",
                "\r\n",
                "        IF EXISTS (SELECT 1 FROM Kocsmak WHERE Nev = @pKocsmaNev)\r\n",
                "        BEGIN\r\n",
                "            PRINT 'Ez a kocsma már szerepel az adatbázisban.'\r\n",
                "            ROLLBACK TRANSACTION\r\n",
                "            RETURN -1\r\n",
                "        END\r\n",
                "        ELSE\r\n",
                "        BEGIN\r\n",
                "            \r\n",
                "            IF NOT EXISTS (SELECT Nev FROM Baratok WHERE Nev = @pBaratNev)\r\n",
                "            BEGIN\r\n",
                "                INSERT INTO Baratok(Nev, Email) VALUES (@pBaratNev, @pBaratEmail)\r\n",
                "            END\r\n",
                "\r\n",
                "            IF NOT EXISTS (SELECT TipusNev FROM ItalTipusok WHERE TipusNev = @pItalTipNev)\r\n",
                "            BEGIN\r\n",
                "                INSERT INTO ItalTipusok(TipusNev) VALUES (@pItalTipNev)\r\n",
                "            END\r\n",
                "\r\n",
                "            IF NOT EXISTS (SELECT Nev FROM Italok WHERE Nev = @pItalNev)\r\n",
                "            BEGIN\r\n",
                "                SET @UjItalTipusID = (SELECT TipusID FROM ItalTipusok WHERE TipusNev = @pItalTipNev)\r\n",
                "                INSERT INTO Italok(Nev, TipusID) VALUES (@pItalNev, @UjItalTipusID)\r\n",
                "            END\r\n",
                "\r\n",
                "            INSERT INTO Kocsmak(Nev, Cim, NyitasDatuma) VALUES (@pKocsmaNev, @pCim, @pNyitasDatuma)\r\n",
                "            SET @UjKocsmaID = SCOPE_IDENTITY()\r\n",
                "\r\n",
                "            SET @UjItalID = (SELECT ItalID FROM Italok WHERE Nev = @pItalNev)\r\n",
                "\r\n",
                "            INSERT INTO Arak(Ar, KocsmaID, ItalID) VALUES (@pAr, @UjKocsmaID, @UjItalID)\r\n",
                "\r\n",
                "            COMMIT TRANSACTION\r\n",
                "        END\r\n",
                "    END TRY\r\n",
                "    BEGIN CATCH\r\n",
                "        ROLLBACK TRANSACTION;\r\n",
                "        PRINT 'Hiba történt a feldolgozás során.';\r\n",
                "        RETURN -1;\r\n",
                "    END CATCH\r\n",
                "END\r\n",
                ""
            ],
            "metadata": {
                "azdata_cell_guid": "cd888be9-48c3-4061-b73d-c8bf36a3b86a",
                "language": "sql"
            },
            "outputs": [
                {
                    "output_type": "display_data",
                    "data": {
                        "text/html": "Commands completed successfully."
                    },
                    "metadata": {}
                },
                {
                    "output_type": "display_data",
                    "data": {
                        "text/html": "Total execution time: 00:00:00.021"
                    },
                    "metadata": {}
                }
            ],
            "execution_count": 2
        },
        {
            "cell_type": "code",
            "source": [
                "EXEC UjKocsma\r\n",
                "    @pKocsmanev = 'Planetarium',\r\n",
                "    @pCim = 'Cim Plani',\r\n",
                "    @pNyitasDatuma = '2018-10-10',\r\n",
                "    @pBaratNev = 'Jani',\r\n",
                "    @pBaratEmail = 'b.jani005@gmail.com ',\r\n",
                "    @pItalTipNev = 'bor',\r\n",
                "    @pItalNev = 'rose',\r\n",
                "    @pAr = 9"
            ],
            "metadata": {
                "azdata_cell_guid": "c85b3c1a-81b2-4666-baf8-a9617792ed0b",
                "language": "sql"
            },
            "outputs": [
                {
                    "output_type": "display_data",
                    "data": {
                        "text/html": "Commands completed successfully."
                    },
                    "metadata": {}
                },
                {
                    "output_type": "display_data",
                    "data": {
                        "text/html": "Total execution time: 00:00:00.057"
                    },
                    "metadata": {}
                }
            ],
            "execution_count": 3
        },
        {
            "cell_type": "code",
            "source": [
                "EXEC UjKocsma\r\n",
                "    @pKocsmanev = 'Daisy Geeve',\r\n",
                "    @pCim = 'Cim Plani',\r\n",
                "    @pNyitasDatuma = '2018-10-10',\r\n",
                "    @pBaratNev = 'Jani',\r\n",
                "    @pBaratEmail = 'b.jani005@gmail.com ',\r\n",
                "    @pItalTipNev = 'bor',\r\n",
                "    @pItalNev = 'rose',\r\n",
                "    @pAr = 9"
            ],
            "metadata": {
                "language": "sql",
                "azdata_cell_guid": "da8b7fb5-d07a-426a-94f7-d1434e5fee0d"
            },
            "outputs": [
                {
                    "output_type": "display_data",
                    "data": {
                        "text/html": "Ez a kocsma már szerepel az adatbázisban."
                    },
                    "metadata": {}
                },
                {
                    "output_type": "display_data",
                    "data": {
                        "text/html": "Total execution time: 00:00:00.001"
                    },
                    "metadata": {}
                }
            ],
            "execution_count": 6
        },
        {
            "cell_type": "code",
            "source": [
                "SELECT * FROM Kocsmak\r\n",
                "SELECT * FROM Baratok"
            ],
            "metadata": {
                "language": "sql",
                "azdata_cell_guid": "35bb23e4-4fd9-4a78-8a46-677e7ac74937",
                "tags": [
                    "hide_input"
                ]
            },
            "outputs": [
                {
                    "output_type": "display_data",
                    "data": {
                        "text/html": "(12 rows affected)"
                    },
                    "metadata": {}
                },
                {
                    "output_type": "display_data",
                    "data": {
                        "text/html": "(17 rows affected)"
                    },
                    "metadata": {}
                },
                {
                    "output_type": "display_data",
                    "data": {
                        "text/html": "Total execution time: 00:00:00.116"
                    },
                    "metadata": {}
                },
                {
                    "output_type": "execute_result",
                    "execution_count": 4,
                    "data": {
                        "application/vnd.dataresource+json": {
                            "schema": {
                                "fields": [
                                    {
                                        "name": "KocsmaID"
                                    },
                                    {
                                        "name": "Nev"
                                    },
                                    {
                                        "name": "Cim"
                                    },
                                    {
                                        "name": "NyitasDatuma"
                                    },
                                    {
                                        "name": "Bevetel"
                                    }
                                ]
                            },
                            "data": [
                                {
                                    "KocsmaID": "1",
                                    "Nev": "Frederico Sawley",
                                    "Cim": "9 Logan Way",
                                    "NyitasDatuma": "2014-12-06",
                                    "Bevetel": "0"
                                },
                                {
                                    "KocsmaID": "2",
                                    "Nev": "Orren Broadhurst",
                                    "Cim": "87124 Basil Avenue",
                                    "NyitasDatuma": "2016-12-20",
                                    "Bevetel": "0"
                                },
                                {
                                    "KocsmaID": "3",
                                    "Nev": "Daisy Geeve",
                                    "Cim": "5265 Maple Wood Point",
                                    "NyitasDatuma": "2010-08-26",
                                    "Bevetel": "0"
                                },
                                {
                                    "KocsmaID": "4",
                                    "Nev": "Hedwiga Ledbetter",
                                    "Cim": "6 Packers Parkway",
                                    "NyitasDatuma": "2012-07-07",
                                    "Bevetel": "0"
                                },
                                {
                                    "KocsmaID": "5",
                                    "Nev": "Talia Henrionot",
                                    "Cim": "20571 Waxwing Junction",
                                    "NyitasDatuma": "2016-12-07",
                                    "Bevetel": "0"
                                },
                                {
                                    "KocsmaID": "6",
                                    "Nev": "Nilson Allflatt",
                                    "Cim": "954 Roth Pass",
                                    "NyitasDatuma": "2017-09-16",
                                    "Bevetel": "0"
                                },
                                {
                                    "KocsmaID": "7",
                                    "Nev": "Lewes Ashbrook",
                                    "Cim": "10 Clyde Gallagher Crossing",
                                    "NyitasDatuma": "2012-10-08",
                                    "Bevetel": "0"
                                },
                                {
                                    "KocsmaID": "8",
                                    "Nev": "Sandra Tweed",
                                    "Cim": "8 Superior Alley",
                                    "NyitasDatuma": "2011-08-28",
                                    "Bevetel": "0"
                                },
                                {
                                    "KocsmaID": "9",
                                    "Nev": "Perrine Chuney",
                                    "Cim": "26 Almo Road",
                                    "NyitasDatuma": "2015-10-12",
                                    "Bevetel": "0"
                                },
                                {
                                    "KocsmaID": "10",
                                    "Nev": "Sosanna Segeswoeth",
                                    "Cim": "4 Cody Park",
                                    "NyitasDatuma": "2013-08-30",
                                    "Bevetel": "0"
                                },
                                {
                                    "KocsmaID": "11",
                                    "Nev": "Lewes Ledbetter",
                                    "Cim": "6 Hyde Park",
                                    "NyitasDatuma": "2016-12-25",
                                    "Bevetel": "0"
                                },
                                {
                                    "KocsmaID": "12",
                                    "Nev": "Planetarium",
                                    "Cim": "Cim Plani",
                                    "NyitasDatuma": "2018-10-10",
                                    "Bevetel": "0"
                                }
                            ]
                        },
                        "text/html": "<table><tr><th>KocsmaID</th><th>Nev</th><th>Cim</th><th>NyitasDatuma</th><th>Bevetel</th></tr><tr><td>1</td><td>Frederico Sawley</td><td>9 Logan Way</td><td>2014-12-06</td><td>0</td></tr><tr><td>2</td><td>Orren Broadhurst</td><td>87124 Basil Avenue</td><td>2016-12-20</td><td>0</td></tr><tr><td>3</td><td>Daisy Geeve</td><td>5265 Maple Wood Point</td><td>2010-08-26</td><td>0</td></tr><tr><td>4</td><td>Hedwiga Ledbetter</td><td>6 Packers Parkway</td><td>2012-07-07</td><td>0</td></tr><tr><td>5</td><td>Talia Henrionot</td><td>20571 Waxwing Junction</td><td>2016-12-07</td><td>0</td></tr><tr><td>6</td><td>Nilson Allflatt</td><td>954 Roth Pass</td><td>2017-09-16</td><td>0</td></tr><tr><td>7</td><td>Lewes Ashbrook</td><td>10 Clyde Gallagher Crossing</td><td>2012-10-08</td><td>0</td></tr><tr><td>8</td><td>Sandra Tweed</td><td>8 Superior Alley</td><td>2011-08-28</td><td>0</td></tr><tr><td>9</td><td>Perrine Chuney</td><td>26 Almo Road</td><td>2015-10-12</td><td>0</td></tr><tr><td>10</td><td>Sosanna Segeswoeth</td><td>4 Cody Park</td><td>2013-08-30</td><td>0</td></tr><tr><td>11</td><td>Lewes Ledbetter</td><td>6 Hyde Park</td><td>2016-12-25</td><td>0</td></tr><tr><td>12</td><td>Planetarium</td><td>Cim Plani</td><td>2018-10-10</td><td>0</td></tr></table>"
                    },
                    "metadata": {}
                },
                {
                    "output_type": "execute_result",
                    "execution_count": 4,
                    "data": {
                        "application/vnd.dataresource+json": {
                            "schema": {
                                "fields": [
                                    {
                                        "name": "BaratID"
                                    },
                                    {
                                        "name": "Nev"
                                    },
                                    {
                                        "name": "Tel"
                                    },
                                    {
                                        "name": "Email"
                                    },
                                    {
                                        "name": "Cim"
                                    }
                                ]
                            },
                            "data": [
                                {
                                    "BaratID": "1",
                                    "Nev": "Fern Dunphy",
                                    "Tel": "6483578626",
                                    "Email": "fdunphy0@princeton.edu",
                                    "Cim": "8261 Waxwing Place"
                                },
                                {
                                    "BaratID": "2",
                                    "Nev": "Dinnie Hebble",
                                    "Tel": "1821798103",
                                    "Email": "dhebble1@angelfire.com",
                                    "Cim": "76066 Tennessee Road"
                                },
                                {
                                    "BaratID": "3",
                                    "Nev": "Prisca Dronsfield",
                                    "Tel": "8331573181",
                                    "Email": "pdronsfield2@guardian.co.uk",
                                    "Cim": "5824 Brown Center"
                                },
                                {
                                    "BaratID": "4",
                                    "Nev": "Dennie Billison",
                                    "Tel": "2911989379",
                                    "Email": "dbillison3@twitter.com",
                                    "Cim": "9 Bay Lane"
                                },
                                {
                                    "BaratID": "5",
                                    "Nev": "Elle Shortell",
                                    "Tel": "8449569855",
                                    "Email": "eshortell4@topsy.com",
                                    "Cim": "291 Holy Cross Parkway"
                                },
                                {
                                    "BaratID": "6",
                                    "Nev": "Gipsy Yashunin",
                                    "Tel": "6315387706",
                                    "Email": "gyashunin5@csmonitor.com",
                                    "Cim": "9 Meadow Ridge Hill"
                                },
                                {
                                    "BaratID": "7",
                                    "Nev": "Aarika Mashal",
                                    "Tel": "5523618089",
                                    "Email": "amashal6@wired.com",
                                    "Cim": "288 Lotheville Avenue"
                                },
                                {
                                    "BaratID": "8",
                                    "Nev": "Celestina Woolaston",
                                    "Tel": "9998149794",
                                    "Email": "cwoolaston7@alibaba.gov.cn",
                                    "Cim": "934 Kings Center"
                                },
                                {
                                    "BaratID": "9",
                                    "Nev": "Garvey Chartre",
                                    "Tel": "4934922638",
                                    "Email": "gchartre8@alibaba.com",
                                    "Cim": "218 Spenser Terrace"
                                },
                                {
                                    "BaratID": "10",
                                    "Nev": "Rik Turbard",
                                    "Tel": "8485977307",
                                    "Email": "rturbard9@vistaprint.com",
                                    "Cim": "737 Ramsey Plaza"
                                },
                                {
                                    "BaratID": "11",
                                    "Nev": "Lucius Elce",
                                    "Tel": "4104352971",
                                    "Email": "lelcea@taobao.com",
                                    "Cim": "3636 Mockingbird Lane"
                                },
                                {
                                    "BaratID": "12",
                                    "Nev": "Adeline Whittington",
                                    "Tel": "6226594773",
                                    "Email": "awhittingtonb@kickstarter.com",
                                    "Cim": "09 Lillian Street"
                                },
                                {
                                    "BaratID": "13",
                                    "Nev": "Ganny Ffoulkes",
                                    "Tel": "4649570937",
                                    "Email": "gffoulkesc@qq.com",
                                    "Cim": "26595 Macpherson Court"
                                },
                                {
                                    "BaratID": "14",
                                    "Nev": "Bryn Darragon",
                                    "Tel": "7278018298",
                                    "Email": "bdarragond@youtube.com",
                                    "Cim": "782 Fremont Crossing"
                                },
                                {
                                    "BaratID": "15",
                                    "Nev": "Karim Measor",
                                    "Tel": "3237902132",
                                    "Email": "kmeasore@sitemeter.com",
                                    "Cim": "10 Division Lane"
                                },
                                {
                                    "BaratID": "16",
                                    "Nev": "Rik Turbard",
                                    "Tel": "88888833344",
                                    "Email": "rik1@sitemeter.com",
                                    "Cim": "10 Avenue Lane"
                                },
                                {
                                    "BaratID": "17",
                                    "Nev": "Jani",
                                    "Tel": "NULL",
                                    "Email": "b.jani005@gmail.com ",
                                    "Cim": "UNKNOWN"
                                }
                            ]
                        },
                        "text/html": "<table><tr><th>BaratID</th><th>Nev</th><th>Tel</th><th>Email</th><th>Cim</th></tr><tr><td>1</td><td>Fern Dunphy</td><td>6483578626</td><td>fdunphy0@princeton.edu</td><td>8261 Waxwing Place</td></tr><tr><td>2</td><td>Dinnie Hebble</td><td>1821798103</td><td>dhebble1@angelfire.com</td><td>76066 Tennessee Road</td></tr><tr><td>3</td><td>Prisca Dronsfield</td><td>8331573181</td><td>pdronsfield2@guardian.co.uk</td><td>5824 Brown Center</td></tr><tr><td>4</td><td>Dennie Billison</td><td>2911989379</td><td>dbillison3@twitter.com</td><td>9 Bay Lane</td></tr><tr><td>5</td><td>Elle Shortell</td><td>8449569855</td><td>eshortell4@topsy.com</td><td>291 Holy Cross Parkway</td></tr><tr><td>6</td><td>Gipsy Yashunin</td><td>6315387706</td><td>gyashunin5@csmonitor.com</td><td>9 Meadow Ridge Hill</td></tr><tr><td>7</td><td>Aarika Mashal</td><td>5523618089</td><td>amashal6@wired.com</td><td>288 Lotheville Avenue</td></tr><tr><td>8</td><td>Celestina Woolaston</td><td>9998149794</td><td>cwoolaston7@alibaba.gov.cn</td><td>934 Kings Center</td></tr><tr><td>9</td><td>Garvey Chartre</td><td>4934922638</td><td>gchartre8@alibaba.com</td><td>218 Spenser Terrace</td></tr><tr><td>10</td><td>Rik Turbard</td><td>8485977307</td><td>rturbard9@vistaprint.com</td><td>737 Ramsey Plaza</td></tr><tr><td>11</td><td>Lucius Elce</td><td>4104352971</td><td>lelcea@taobao.com</td><td>3636 Mockingbird Lane</td></tr><tr><td>12</td><td>Adeline Whittington</td><td>6226594773</td><td>awhittingtonb@kickstarter.com</td><td>09 Lillian Street</td></tr><tr><td>13</td><td>Ganny Ffoulkes</td><td>4649570937</td><td>gffoulkesc@qq.com</td><td>26595 Macpherson Court</td></tr><tr><td>14</td><td>Bryn Darragon</td><td>7278018298</td><td>bdarragond@youtube.com</td><td>782 Fremont Crossing</td></tr><tr><td>15</td><td>Karim Measor</td><td>3237902132</td><td>kmeasore@sitemeter.com</td><td>10 Division Lane</td></tr><tr><td>16</td><td>Rik Turbard</td><td>88888833344</td><td>rik1@sitemeter.com</td><td>10 Avenue Lane</td></tr><tr><td>17</td><td>Jani</td><td>NULL</td><td>b.jani005@gmail.com </td><td>UNKNOWN</td></tr></table>"
                    },
                    "metadata": {}
                }
            ],
            "execution_count": 4
        },
        {
            "cell_type": "markdown",
            "source": [
                "2.  **a.** **Szúrjuk be** <span style=\"color: rgb(45, 59, 69); font-family: LatoWeb, &quot;Helvetica Neue&quot;, Helvetica, Arial, sans-serif; font-size: 16px; background-color: rgb(255, 255, 255);\">a Kedveltseg mezőt a Kocsmak táblába, ahol Kedveltseg-INT típusú mező, 0-5 közötti értékeket vehet fel, alapértelmezés szerinti értéke 0.</span>"
            ],
            "metadata": {
                "azdata_cell_guid": "5d73558b-4ac3-437d-9cfc-d6160741647e"
            },
            "attachments": {}
        },
        {
            "cell_type": "code",
            "source": [
                "ALTER TABLE Kocsmak\r\n",
                "ADD Kedveltseg INT DEFAULT 0 CHECK (Kedveltseg >= 0 AND Kedveltseg <= 5);"
            ],
            "metadata": {
                "azdata_cell_guid": "b08af354-8e78-4be4-bd0c-e7699ba1a9c7",
                "language": "sql"
            },
            "outputs": [
                {
                    "output_type": "display_data",
                    "data": {
                        "text/html": "Commands completed successfully."
                    },
                    "metadata": {}
                },
                {
                    "output_type": "display_data",
                    "data": {
                        "text/html": "Total execution time: 00:00:00.028"
                    },
                    "metadata": {}
                }
            ],
            "execution_count": 7
        },
        {
            "cell_type": "markdown",
            "source": [
                "2. **b.** Írjunk **tárolt eljárást**, mely minden kocsma esetén beállítja a Kedveltseg mező értékét annak megfelelően, hogy hány barátunk adott neki 2-nél nagyobb értékelést:\n",
                "\n",
                "- Barátok száma \\< = 4  **(0 is lehet!)** –\\> Kedveltseg = 1;\n",
                "- Barátok száma \\> 4 és \\<= 10  –\\> Kedveltseg = 2;\n",
                "- Barátok száma \\> 10 és \\<= 20  –\\> Kedveltseg = 3;\n",
                "- Barátok száma \\> 20 és \\<= 30  –\\> Kedveltseg = 4;\n",
                "- Barátok száma \\> 30  –\\> Kedveltseg = 5;"
            ],
            "metadata": {
                "language": "sql",
                "azdata_cell_guid": "9c648eee-aae0-44da-bf96-cb9e0be36f5d"
            },
            "attachments": {}
        },
        {
            "cell_type": "code",
            "source": [
                "CREATE OR ALTER PROCEDURE KedveltsegBeallitas\r\n",
                "AS\r\n",
                "BEGIN\r\n",
                "    SET NOCOUNT ON\r\n",
                "    DECLARE \r\n",
                "    @KocsmaID INT,\r\n",
                "    @BaratokSzama INT\r\n",
                "\r\n",
                "    DECLARE kocsmak_cursor CURSOR FOR\r\n",
                "    SELECT KocsmaID FROM Kocsmak\r\n",
                "\r\n",
                "    OPEN kocsmak_cursor\r\n",
                "    FETCH NEXT FROM kocsmak_cursor INTO @KocsmaID\r\n",
                "\r\n",
                "    WHILE @@FETCH_STATUS = 0\r\n",
                "    BEGIN\r\n",
                "        SELECT @BaratokSzama = COUNT(*) FROM Kedvencek\r\n",
                "        WHERE KocsmaID = @KocsmaID AND Ertekeles > 2\r\n",
                "\r\n",
                "        BEGIN TRANSACTION\r\n",
                "        UPDATE Kocsmak\r\n",
                "        SET Kedveltseg = \r\n",
                "            CASE\r\n",
                "                WHEN @BaratokSzama<=4 THEN 1\r\n",
                "                WHEN @BaratokSzama>4 AND @BaratokSzama<=10 THEN 2\r\n",
                "                WHEN @BaratokSzama>10 AND @BaratokSzama<=20 THEN 3\r\n",
                "                WHEN @BaratokSzama>20 AND @BaratokSzama<=30 THEN 4\r\n",
                "                ELSE 5\r\n",
                "            END\r\n",
                "        WHERE KocsmaID = @KocsmaID\r\n",
                "\r\n",
                "        COMMIT TRANSACTION\r\n",
                "\r\n",
                "        FETCH NEXT FROM kocsmak_cursor INTO @KocsmaID\r\n",
                "    END\r\n",
                "\r\n",
                "    CLOSE kocsmak_cursor\r\n",
                "    DEALLOCATE kocsmak_cursor\r\n",
                "END"
            ],
            "metadata": {
                "language": "sql",
                "azdata_cell_guid": "b93e4454-7e2a-4f68-9005-0fa35394e98d"
            },
            "outputs": [
                {
                    "output_type": "display_data",
                    "data": {
                        "text/html": "Commands completed successfully."
                    },
                    "metadata": {}
                },
                {
                    "output_type": "display_data",
                    "data": {
                        "text/html": "Total execution time: 00:00:00.005"
                    },
                    "metadata": {}
                }
            ],
            "execution_count": 12
        },
        {
            "cell_type": "code",
            "source": [
                "EXEC KedveltsegBeallitas"
            ],
            "metadata": {
                "azdata_cell_guid": "5e14e83f-1c15-4084-86cb-dc0c677257ae",
                "language": "sql"
            },
            "outputs": [
                {
                    "output_type": "display_data",
                    "data": {
                        "text/html": "Commands completed successfully."
                    },
                    "metadata": {}
                },
                {
                    "output_type": "display_data",
                    "data": {
                        "text/html": "Total execution time: 00:00:00.018"
                    },
                    "metadata": {}
                }
            ],
            "execution_count": 10
        },
        {
            "cell_type": "code",
            "source": [
                "SELECT * from Kocsmak"
            ],
            "metadata": {
                "language": "sql",
                "azdata_cell_guid": "f12aee8d-e3aa-4a1d-9fae-61f869ae47dc"
            },
            "outputs": [
                {
                    "output_type": "display_data",
                    "data": {
                        "text/html": "(12 rows affected)"
                    },
                    "metadata": {}
                },
                {
                    "output_type": "display_data",
                    "data": {
                        "text/html": "Total execution time: 00:00:00.011"
                    },
                    "metadata": {}
                },
                {
                    "output_type": "execute_result",
                    "metadata": {},
                    "execution_count": 11,
                    "data": {
                        "application/vnd.dataresource+json": {
                            "schema": {
                                "fields": [
                                    {
                                        "name": "KocsmaID"
                                    },
                                    {
                                        "name": "Nev"
                                    },
                                    {
                                        "name": "Cim"
                                    },
                                    {
                                        "name": "NyitasDatuma"
                                    },
                                    {
                                        "name": "Bevetel"
                                    },
                                    {
                                        "name": "Kedveltseg"
                                    }
                                ]
                            },
                            "data": [
                                {
                                    "KocsmaID": "1",
                                    "Nev": "Frederico Sawley",
                                    "Cim": "9 Logan Way",
                                    "NyitasDatuma": "2014-12-06",
                                    "Bevetel": "0",
                                    "Kedveltseg": "1"
                                },
                                {
                                    "KocsmaID": "2",
                                    "Nev": "Orren Broadhurst",
                                    "Cim": "87124 Basil Avenue",
                                    "NyitasDatuma": "2016-12-20",
                                    "Bevetel": "0",
                                    "Kedveltseg": "1"
                                },
                                {
                                    "KocsmaID": "3",
                                    "Nev": "Daisy Geeve",
                                    "Cim": "5265 Maple Wood Point",
                                    "NyitasDatuma": "2010-08-26",
                                    "Bevetel": "0",
                                    "Kedveltseg": "1"
                                },
                                {
                                    "KocsmaID": "4",
                                    "Nev": "Hedwiga Ledbetter",
                                    "Cim": "6 Packers Parkway",
                                    "NyitasDatuma": "2012-07-07",
                                    "Bevetel": "0",
                                    "Kedveltseg": "1"
                                },
                                {
                                    "KocsmaID": "5",
                                    "Nev": "Talia Henrionot",
                                    "Cim": "20571 Waxwing Junction",
                                    "NyitasDatuma": "2016-12-07",
                                    "Bevetel": "0",
                                    "Kedveltseg": "1"
                                },
                                {
                                    "KocsmaID": "6",
                                    "Nev": "Nilson Allflatt",
                                    "Cim": "954 Roth Pass",
                                    "NyitasDatuma": "2017-09-16",
                                    "Bevetel": "0",
                                    "Kedveltseg": "1"
                                },
                                {
                                    "KocsmaID": "7",
                                    "Nev": "Lewes Ashbrook",
                                    "Cim": "10 Clyde Gallagher Crossing",
                                    "NyitasDatuma": "2012-10-08",
                                    "Bevetel": "0",
                                    "Kedveltseg": "1"
                                },
                                {
                                    "KocsmaID": "8",
                                    "Nev": "Sandra Tweed",
                                    "Cim": "8 Superior Alley",
                                    "NyitasDatuma": "2011-08-28",
                                    "Bevetel": "0",
                                    "Kedveltseg": "1"
                                },
                                {
                                    "KocsmaID": "9",
                                    "Nev": "Perrine Chuney",
                                    "Cim": "26 Almo Road",
                                    "NyitasDatuma": "2015-10-12",
                                    "Bevetel": "0",
                                    "Kedveltseg": "1"
                                },
                                {
                                    "KocsmaID": "10",
                                    "Nev": "Sosanna Segeswoeth",
                                    "Cim": "4 Cody Park",
                                    "NyitasDatuma": "2013-08-30",
                                    "Bevetel": "0",
                                    "Kedveltseg": "1"
                                },
                                {
                                    "KocsmaID": "11",
                                    "Nev": "Lewes Ledbetter",
                                    "Cim": "6 Hyde Park",
                                    "NyitasDatuma": "2016-12-25",
                                    "Bevetel": "0",
                                    "Kedveltseg": "1"
                                },
                                {
                                    "KocsmaID": "12",
                                    "Nev": "Planetarium",
                                    "Cim": "Cim Plani",
                                    "NyitasDatuma": "2018-10-10",
                                    "Bevetel": "0",
                                    "Kedveltseg": "1"
                                }
                            ]
                        },
                        "text/html": [
                            "<table>",
                            "<tr><th>KocsmaID</th><th>Nev</th><th>Cim</th><th>NyitasDatuma</th><th>Bevetel</th><th>Kedveltseg</th></tr>",
                            "<tr><td>1</td><td>Frederico Sawley</td><td>9 Logan Way</td><td>2014-12-06</td><td>0</td><td>1</td></tr>",
                            "<tr><td>2</td><td>Orren Broadhurst</td><td>87124 Basil Avenue</td><td>2016-12-20</td><td>0</td><td>1</td></tr>",
                            "<tr><td>3</td><td>Daisy Geeve</td><td>5265 Maple Wood Point</td><td>2010-08-26</td><td>0</td><td>1</td></tr>",
                            "<tr><td>4</td><td>Hedwiga Ledbetter</td><td>6 Packers Parkway</td><td>2012-07-07</td><td>0</td><td>1</td></tr>",
                            "<tr><td>5</td><td>Talia Henrionot</td><td>20571 Waxwing Junction</td><td>2016-12-07</td><td>0</td><td>1</td></tr>",
                            "<tr><td>6</td><td>Nilson Allflatt</td><td>954 Roth Pass</td><td>2017-09-16</td><td>0</td><td>1</td></tr>",
                            "<tr><td>7</td><td>Lewes Ashbrook</td><td>10 Clyde Gallagher Crossing</td><td>2012-10-08</td><td>0</td><td>1</td></tr>",
                            "<tr><td>8</td><td>Sandra Tweed</td><td>8 Superior Alley</td><td>2011-08-28</td><td>0</td><td>1</td></tr>",
                            "<tr><td>9</td><td>Perrine Chuney</td><td>26 Almo Road</td><td>2015-10-12</td><td>0</td><td>1</td></tr>",
                            "<tr><td>10</td><td>Sosanna Segeswoeth</td><td>4 Cody Park</td><td>2013-08-30</td><td>0</td><td>1</td></tr>",
                            "<tr><td>11</td><td>Lewes Ledbetter</td><td>6 Hyde Park</td><td>2016-12-25</td><td>0</td><td>1</td></tr>",
                            "<tr><td>12</td><td>Planetarium</td><td>Cim Plani</td><td>2018-10-10</td><td>0</td><td>1</td></tr>",
                            "</table>"
                        ]
                    }
                }
            ],
            "execution_count": 11
        },
        {
            "cell_type": "markdown",
            "source": [
                "3\\. Írjunk INSERT és DELETE triggert, mely a Kedvencek táblába való beszúrás illetve törlés esetén aktualizálja a Kocsmak tábla Kedveltseg mezőjének értékét! Fontos! Nem elfogadott megoldás: ha a triggeren belül egyszerűen csak meghívjuk a 2. feladatban megírt tárolt eljárást!\n",
                "\n",
                "**Megj.** Két megoldás is elfogadható: feltételezve, hogy egyszerre (1) csak egy sort, (2) több sort szúrhatunk be/törölhetünk a táblába/táblából! A (2)-es megoldásában bennfoglaltatik az (1)-es megoldása is. **+0.5p:** (2)-es megoldás választása esetén. \n",
                "\n",
                "**Megj.** A 3. feladatnak NEM kizáró feltétele a 2. b. alpontban szereplő tárolt eljárás megléte. Ez utóbbi esetben manuálisan adjunk értéket a Kedveltseg mezőnek!"
            ],
            "metadata": {
                "azdata_cell_guid": "dd5b74ff-a47a-4305-9f88-dd52b6f64c23"
            },
            "attachments": {}
        },
        {
            "cell_type": "code",
            "source": [
                "CREATE TRIGGER InsertKedvencek\r\n",
                "ON Kedvencek\r\n",
                "AFTER INSERT\r\n",
                "AS\r\n",
                "BEGIN\r\n",
                "    SET NOCOUNT ON\r\n",
                "    DECLARE \r\n",
                "    @KocsmaID INT, \r\n",
                "    @BaratokSzama INT\r\n",
                "\r\n",
                "    SELECT @KocsmaID=KocsmaID FROM inserted\r\n",
                "\r\n",
                "    SELECT @BaratokSzama=COUNT(*) FROM Kedvencek\r\n",
                "    WHERE KocsmaID=@KocsmaID AND Ertekeles>2\r\n",
                "\r\n",
                "    UPDATE Kocsmak\r\n",
                "    SET Kedveltseg = \r\n",
                "        CASE\r\n",
                "            WHEN @BaratokSzama<=4 THEN 1\r\n",
                "            WHEN @BaratokSzama>4 AND @BaratokSzama<=10 THEN 2\r\n",
                "            WHEN @BaratokSzama>10 AND @BaratokSzama<=20 THEN 3\r\n",
                "            WHEN @BaratokSzama>20 AND @BaratokSzama<=30 THEN 4\r\n",
                "            ELSE 5\r\n",
                "        END\r\n",
                "    WHERE KocsmaID=@KocsmaID\r\n",
                "END"
            ],
            "metadata": {
                "azdata_cell_guid": "45e53bb0-061a-42e7-8f22-427373aa42f6",
                "language": "sql"
            },
            "outputs": [
                {
                    "output_type": "display_data",
                    "data": {
                        "text/html": "Commands completed successfully."
                    },
                    "metadata": {}
                },
                {
                    "output_type": "display_data",
                    "data": {
                        "text/html": "Total execution time: 00:00:00.033"
                    },
                    "metadata": {}
                }
            ],
            "execution_count": 13
        },
        {
            "cell_type": "code",
            "source": [
                "CREATE TRIGGER DeleteKedvencek\r\n",
                "ON Kedvencek\r\n",
                "AFTER DELETE\r\n",
                "AS\r\n",
                "BEGIN\r\n",
                "    SET NOCOUNT ON\r\n",
                "    DECLARE \r\n",
                "    @KocsmaID INT, \r\n",
                "    @BaratokSzama INT;\r\n",
                "\r\n",
                "    SELECT @KocsmaID=KocsmaID FROM deleted\r\n",
                "\r\n",
                "    SELECT @BaratokSzama=COUNT(*) FROM Kedvencek\r\n",
                "    WHERE KocsmaID=@KocsmaID AND Ertekeles>2\r\n",
                "\r\n",
                "    UPDATE Kocsmak\r\n",
                "    SET Kedveltseg = \r\n",
                "        CASE\r\n",
                "            WHEN @BaratokSzama<=4 THEN 1\r\n",
                "            WHEN @BaratokSzama>4 AND @BaratokSzama<=10 THEN 2\r\n",
                "            WHEN @BaratokSzama>10 AND @BaratokSzama<=20 THEN 3\r\n",
                "            WHEN @BaratokSzama>20 AND @BaratokSzama<=30 THEN 4\r\n",
                "            ELSE 5\r\n",
                "        END\r\n",
                "    WHERE KocsmaID=@KocsmaID\r\n",
                "END"
            ],
            "metadata": {
                "language": "sql",
                "azdata_cell_guid": "4ac3c668-03d4-434a-a805-12f0a5910e85"
            },
            "outputs": [
                {
                    "output_type": "display_data",
                    "data": {
                        "text/html": "Commands completed successfully."
                    },
                    "metadata": {}
                },
                {
                    "output_type": "display_data",
                    "data": {
                        "text/html": "Total execution time: 00:00:00.009"
                    },
                    "metadata": {}
                }
            ],
            "execution_count": 14
        },
        {
            "cell_type": "code",
            "source": [
                "INSERT INTO Kedvencek (BaratID,KocsmaID,Ertekeles) VALUES (8,1,5)\r\n",
                "INSERT INTO Kedvencek (BaratID,KocsmaID,Ertekeles) VALUES (3,10,5)"
            ],
            "metadata": {
                "azdata_cell_guid": "d869f9cb-9bcb-4a18-b886-fbeafab085e9",
                "language": "sql"
            },
            "outputs": [
                {
                    "output_type": "display_data",
                    "data": {
                        "text/html": "(1 row affected)"
                    },
                    "metadata": {}
                },
                {
                    "output_type": "display_data",
                    "data": {
                        "text/html": "(1 row affected)"
                    },
                    "metadata": {}
                },
                {
                    "output_type": "display_data",
                    "data": {
                        "text/html": "Total execution time: 00:00:00.020"
                    },
                    "metadata": {}
                }
            ],
            "execution_count": 19
        },
        {
            "cell_type": "code",
            "source": [
                "SELECT * FROM Kedvencek"
            ],
            "metadata": {
                "language": "sql",
                "azdata_cell_guid": "767c4d55-5461-4f82-8330-bf3494866bea"
            },
            "outputs": [
                {
                    "output_type": "display_data",
                    "data": {
                        "text/html": "(21 rows affected)"
                    },
                    "metadata": {}
                },
                {
                    "output_type": "display_data",
                    "data": {
                        "text/html": "Total execution time: 00:00:00.023"
                    },
                    "metadata": {}
                },
                {
                    "output_type": "execute_result",
                    "metadata": {},
                    "execution_count": 20,
                    "data": {
                        "application/vnd.dataresource+json": {
                            "schema": {
                                "fields": [
                                    {
                                        "name": "BaratID"
                                    },
                                    {
                                        "name": "KocsmaID"
                                    },
                                    {
                                        "name": "Ertekeles"
                                    }
                                ]
                            },
                            "data": [
                                {
                                    "BaratID": "1",
                                    "KocsmaID": "1",
                                    "Ertekeles": "5"
                                },
                                {
                                    "BaratID": "2",
                                    "KocsmaID": "2",
                                    "Ertekeles": "4"
                                },
                                {
                                    "BaratID": "3",
                                    "KocsmaID": "1",
                                    "Ertekeles": "5"
                                },
                                {
                                    "BaratID": "3",
                                    "KocsmaID": "4",
                                    "Ertekeles": "4"
                                },
                                {
                                    "BaratID": "3",
                                    "KocsmaID": "7",
                                    "Ertekeles": "5"
                                },
                                {
                                    "BaratID": "3",
                                    "KocsmaID": "10",
                                    "Ertekeles": "5"
                                },
                                {
                                    "BaratID": "4",
                                    "KocsmaID": "1",
                                    "Ertekeles": "4"
                                },
                                {
                                    "BaratID": "4",
                                    "KocsmaID": "9",
                                    "Ertekeles": "3"
                                },
                                {
                                    "BaratID": "5",
                                    "KocsmaID": "1",
                                    "Ertekeles": "1"
                                },
                                {
                                    "BaratID": "6",
                                    "KocsmaID": "9",
                                    "Ertekeles": "4"
                                },
                                {
                                    "BaratID": "7",
                                    "KocsmaID": "2",
                                    "Ertekeles": "5"
                                },
                                {
                                    "BaratID": "7",
                                    "KocsmaID": "4",
                                    "Ertekeles": "2"
                                },
                                {
                                    "BaratID": "8",
                                    "KocsmaID": "1",
                                    "Ertekeles": "5"
                                },
                                {
                                    "BaratID": "8",
                                    "KocsmaID": "2",
                                    "Ertekeles": "1"
                                },
                                {
                                    "BaratID": "8",
                                    "KocsmaID": "4",
                                    "Ertekeles": "5"
                                },
                                {
                                    "BaratID": "9",
                                    "KocsmaID": "7",
                                    "Ertekeles": "5"
                                },
                                {
                                    "BaratID": "10",
                                    "KocsmaID": "4",
                                    "Ertekeles": "4"
                                },
                                {
                                    "BaratID": "10",
                                    "KocsmaID": "5",
                                    "Ertekeles": "5"
                                },
                                {
                                    "BaratID": "10",
                                    "KocsmaID": "8",
                                    "Ertekeles": "3"
                                },
                                {
                                    "BaratID": "11",
                                    "KocsmaID": "10",
                                    "Ertekeles": "2"
                                },
                                {
                                    "BaratID": "15",
                                    "KocsmaID": "1",
                                    "Ertekeles": "4"
                                }
                            ]
                        },
                        "text/html": [
                            "<table>",
                            "<tr><th>BaratID</th><th>KocsmaID</th><th>Ertekeles</th></tr>",
                            "<tr><td>1</td><td>1</td><td>5</td></tr>",
                            "<tr><td>2</td><td>2</td><td>4</td></tr>",
                            "<tr><td>3</td><td>1</td><td>5</td></tr>",
                            "<tr><td>3</td><td>4</td><td>4</td></tr>",
                            "<tr><td>3</td><td>7</td><td>5</td></tr>",
                            "<tr><td>3</td><td>10</td><td>5</td></tr>",
                            "<tr><td>4</td><td>1</td><td>4</td></tr>",
                            "<tr><td>4</td><td>9</td><td>3</td></tr>",
                            "<tr><td>5</td><td>1</td><td>1</td></tr>",
                            "<tr><td>6</td><td>9</td><td>4</td></tr>",
                            "<tr><td>7</td><td>2</td><td>5</td></tr>",
                            "<tr><td>7</td><td>4</td><td>2</td></tr>",
                            "<tr><td>8</td><td>1</td><td>5</td></tr>",
                            "<tr><td>8</td><td>2</td><td>1</td></tr>",
                            "<tr><td>8</td><td>4</td><td>5</td></tr>",
                            "<tr><td>9</td><td>7</td><td>5</td></tr>",
                            "<tr><td>10</td><td>4</td><td>4</td></tr>",
                            "<tr><td>10</td><td>5</td><td>5</td></tr>",
                            "<tr><td>10</td><td>8</td><td>3</td></tr>",
                            "<tr><td>11</td><td>10</td><td>2</td></tr>",
                            "<tr><td>15</td><td>1</td><td>4</td></tr>",
                            "</table>"
                        ]
                    }
                }
            ],
            "execution_count": 20
        },
        {
            "cell_type": "code",
            "source": [
                "SELECT * FROM Kocsmak"
            ],
            "metadata": {
                "language": "sql",
                "azdata_cell_guid": "809a8535-896a-4c8b-bce3-5659a6eb0063"
            },
            "outputs": [
                {
                    "output_type": "display_data",
                    "data": {
                        "text/html": "(12 rows affected)"
                    },
                    "metadata": {}
                },
                {
                    "output_type": "display_data",
                    "data": {
                        "text/html": "Total execution time: 00:00:00.025"
                    },
                    "metadata": {}
                },
                {
                    "output_type": "execute_result",
                    "metadata": {},
                    "execution_count": 21,
                    "data": {
                        "application/vnd.dataresource+json": {
                            "schema": {
                                "fields": [
                                    {
                                        "name": "KocsmaID"
                                    },
                                    {
                                        "name": "Nev"
                                    },
                                    {
                                        "name": "Cim"
                                    },
                                    {
                                        "name": "NyitasDatuma"
                                    },
                                    {
                                        "name": "Bevetel"
                                    },
                                    {
                                        "name": "Kedveltseg"
                                    }
                                ]
                            },
                            "data": [
                                {
                                    "KocsmaID": "1",
                                    "Nev": "Frederico Sawley",
                                    "Cim": "9 Logan Way",
                                    "NyitasDatuma": "2014-12-06",
                                    "Bevetel": "0",
                                    "Kedveltseg": "2"
                                },
                                {
                                    "KocsmaID": "2",
                                    "Nev": "Orren Broadhurst",
                                    "Cim": "87124 Basil Avenue",
                                    "NyitasDatuma": "2016-12-20",
                                    "Bevetel": "0",
                                    "Kedveltseg": "1"
                                },
                                {
                                    "KocsmaID": "3",
                                    "Nev": "Daisy Geeve",
                                    "Cim": "5265 Maple Wood Point",
                                    "NyitasDatuma": "2010-08-26",
                                    "Bevetel": "0",
                                    "Kedveltseg": "1"
                                },
                                {
                                    "KocsmaID": "4",
                                    "Nev": "Hedwiga Ledbetter",
                                    "Cim": "6 Packers Parkway",
                                    "NyitasDatuma": "2012-07-07",
                                    "Bevetel": "0",
                                    "Kedveltseg": "1"
                                },
                                {
                                    "KocsmaID": "5",
                                    "Nev": "Talia Henrionot",
                                    "Cim": "20571 Waxwing Junction",
                                    "NyitasDatuma": "2016-12-07",
                                    "Bevetel": "0",
                                    "Kedveltseg": "1"
                                },
                                {
                                    "KocsmaID": "6",
                                    "Nev": "Nilson Allflatt",
                                    "Cim": "954 Roth Pass",
                                    "NyitasDatuma": "2017-09-16",
                                    "Bevetel": "0",
                                    "Kedveltseg": "1"
                                },
                                {
                                    "KocsmaID": "7",
                                    "Nev": "Lewes Ashbrook",
                                    "Cim": "10 Clyde Gallagher Crossing",
                                    "NyitasDatuma": "2012-10-08",
                                    "Bevetel": "0",
                                    "Kedveltseg": "1"
                                },
                                {
                                    "KocsmaID": "8",
                                    "Nev": "Sandra Tweed",
                                    "Cim": "8 Superior Alley",
                                    "NyitasDatuma": "2011-08-28",
                                    "Bevetel": "0",
                                    "Kedveltseg": "1"
                                },
                                {
                                    "KocsmaID": "9",
                                    "Nev": "Perrine Chuney",
                                    "Cim": "26 Almo Road",
                                    "NyitasDatuma": "2015-10-12",
                                    "Bevetel": "0",
                                    "Kedveltseg": "1"
                                },
                                {
                                    "KocsmaID": "10",
                                    "Nev": "Sosanna Segeswoeth",
                                    "Cim": "4 Cody Park",
                                    "NyitasDatuma": "2013-08-30",
                                    "Bevetel": "0",
                                    "Kedveltseg": "1"
                                },
                                {
                                    "KocsmaID": "11",
                                    "Nev": "Lewes Ledbetter",
                                    "Cim": "6 Hyde Park",
                                    "NyitasDatuma": "2016-12-25",
                                    "Bevetel": "0",
                                    "Kedveltseg": "1"
                                },
                                {
                                    "KocsmaID": "12",
                                    "Nev": "Planetarium",
                                    "Cim": "Cim Plani",
                                    "NyitasDatuma": "2018-10-10",
                                    "Bevetel": "0",
                                    "Kedveltseg": "1"
                                }
                            ]
                        },
                        "text/html": [
                            "<table>",
                            "<tr><th>KocsmaID</th><th>Nev</th><th>Cim</th><th>NyitasDatuma</th><th>Bevetel</th><th>Kedveltseg</th></tr>",
                            "<tr><td>1</td><td>Frederico Sawley</td><td>9 Logan Way</td><td>2014-12-06</td><td>0</td><td>2</td></tr>",
                            "<tr><td>2</td><td>Orren Broadhurst</td><td>87124 Basil Avenue</td><td>2016-12-20</td><td>0</td><td>1</td></tr>",
                            "<tr><td>3</td><td>Daisy Geeve</td><td>5265 Maple Wood Point</td><td>2010-08-26</td><td>0</td><td>1</td></tr>",
                            "<tr><td>4</td><td>Hedwiga Ledbetter</td><td>6 Packers Parkway</td><td>2012-07-07</td><td>0</td><td>1</td></tr>",
                            "<tr><td>5</td><td>Talia Henrionot</td><td>20571 Waxwing Junction</td><td>2016-12-07</td><td>0</td><td>1</td></tr>",
                            "<tr><td>6</td><td>Nilson Allflatt</td><td>954 Roth Pass</td><td>2017-09-16</td><td>0</td><td>1</td></tr>",
                            "<tr><td>7</td><td>Lewes Ashbrook</td><td>10 Clyde Gallagher Crossing</td><td>2012-10-08</td><td>0</td><td>1</td></tr>",
                            "<tr><td>8</td><td>Sandra Tweed</td><td>8 Superior Alley</td><td>2011-08-28</td><td>0</td><td>1</td></tr>",
                            "<tr><td>9</td><td>Perrine Chuney</td><td>26 Almo Road</td><td>2015-10-12</td><td>0</td><td>1</td></tr>",
                            "<tr><td>10</td><td>Sosanna Segeswoeth</td><td>4 Cody Park</td><td>2013-08-30</td><td>0</td><td>1</td></tr>",
                            "<tr><td>11</td><td>Lewes Ledbetter</td><td>6 Hyde Park</td><td>2016-12-25</td><td>0</td><td>1</td></tr>",
                            "<tr><td>12</td><td>Planetarium</td><td>Cim Plani</td><td>2018-10-10</td><td>0</td><td>1</td></tr>",
                            "</table>"
                        ]
                    }
                }
            ],
            "execution_count": 21
        },
        {
            "cell_type": "code",
            "source": [
                "DELETE FROM Kedvencek WHERE BaratID=3 AND KocsmaID=7\r\n",
                "DELETE FROM Kedvencek WHERE BaratID=8 AND KocsmaID=1"
            ],
            "metadata": {
                "azdata_cell_guid": "290ca847-1874-4c49-b3c8-953dbb1a9997",
                "language": "sql",
                "tags": []
            },
            "outputs": [
                {
                    "output_type": "display_data",
                    "data": {
                        "text/html": "(1 row affected)"
                    },
                    "metadata": {}
                },
                {
                    "output_type": "display_data",
                    "data": {
                        "text/html": "(1 row affected)"
                    },
                    "metadata": {}
                },
                {
                    "output_type": "display_data",
                    "data": {
                        "text/html": "Total execution time: 00:00:00.011"
                    },
                    "metadata": {}
                }
            ],
            "execution_count": 24
        },
        {
            "cell_type": "code",
            "source": [
                "SELECT * FROM Kedvencek\r\n",
                "SELECT * FROM Kocsmak"
            ],
            "metadata": {
                "language": "sql",
                "azdata_cell_guid": "6b3af32d-bd1f-469e-8103-24edd7ee790e"
            },
            "outputs": [
                {
                    "output_type": "display_data",
                    "data": {
                        "text/html": "(18 rows affected)"
                    },
                    "metadata": {}
                },
                {
                    "output_type": "display_data",
                    "data": {
                        "text/html": "(12 rows affected)"
                    },
                    "metadata": {}
                },
                {
                    "output_type": "display_data",
                    "data": {
                        "text/html": "Total execution time: 00:00:00.028"
                    },
                    "metadata": {}
                },
                {
                    "output_type": "execute_result",
                    "metadata": {},
                    "execution_count": 25,
                    "data": {
                        "application/vnd.dataresource+json": {
                            "schema": {
                                "fields": [
                                    {
                                        "name": "BaratID"
                                    },
                                    {
                                        "name": "KocsmaID"
                                    },
                                    {
                                        "name": "Ertekeles"
                                    }
                                ]
                            },
                            "data": [
                                {
                                    "BaratID": "1",
                                    "KocsmaID": "1",
                                    "Ertekeles": "5"
                                },
                                {
                                    "BaratID": "2",
                                    "KocsmaID": "2",
                                    "Ertekeles": "4"
                                },
                                {
                                    "BaratID": "3",
                                    "KocsmaID": "4",
                                    "Ertekeles": "4"
                                },
                                {
                                    "BaratID": "3",
                                    "KocsmaID": "10",
                                    "Ertekeles": "5"
                                },
                                {
                                    "BaratID": "4",
                                    "KocsmaID": "1",
                                    "Ertekeles": "4"
                                },
                                {
                                    "BaratID": "4",
                                    "KocsmaID": "9",
                                    "Ertekeles": "3"
                                },
                                {
                                    "BaratID": "5",
                                    "KocsmaID": "1",
                                    "Ertekeles": "1"
                                },
                                {
                                    "BaratID": "6",
                                    "KocsmaID": "9",
                                    "Ertekeles": "4"
                                },
                                {
                                    "BaratID": "7",
                                    "KocsmaID": "2",
                                    "Ertekeles": "5"
                                },
                                {
                                    "BaratID": "7",
                                    "KocsmaID": "4",
                                    "Ertekeles": "2"
                                },
                                {
                                    "BaratID": "8",
                                    "KocsmaID": "2",
                                    "Ertekeles": "1"
                                },
                                {
                                    "BaratID": "8",
                                    "KocsmaID": "4",
                                    "Ertekeles": "5"
                                },
                                {
                                    "BaratID": "9",
                                    "KocsmaID": "7",
                                    "Ertekeles": "5"
                                },
                                {
                                    "BaratID": "10",
                                    "KocsmaID": "4",
                                    "Ertekeles": "4"
                                },
                                {
                                    "BaratID": "10",
                                    "KocsmaID": "5",
                                    "Ertekeles": "5"
                                },
                                {
                                    "BaratID": "10",
                                    "KocsmaID": "8",
                                    "Ertekeles": "3"
                                },
                                {
                                    "BaratID": "11",
                                    "KocsmaID": "10",
                                    "Ertekeles": "2"
                                },
                                {
                                    "BaratID": "15",
                                    "KocsmaID": "1",
                                    "Ertekeles": "4"
                                }
                            ]
                        },
                        "text/html": [
                            "<table>",
                            "<tr><th>BaratID</th><th>KocsmaID</th><th>Ertekeles</th></tr>",
                            "<tr><td>1</td><td>1</td><td>5</td></tr>",
                            "<tr><td>2</td><td>2</td><td>4</td></tr>",
                            "<tr><td>3</td><td>4</td><td>4</td></tr>",
                            "<tr><td>3</td><td>10</td><td>5</td></tr>",
                            "<tr><td>4</td><td>1</td><td>4</td></tr>",
                            "<tr><td>4</td><td>9</td><td>3</td></tr>",
                            "<tr><td>5</td><td>1</td><td>1</td></tr>",
                            "<tr><td>6</td><td>9</td><td>4</td></tr>",
                            "<tr><td>7</td><td>2</td><td>5</td></tr>",
                            "<tr><td>7</td><td>4</td><td>2</td></tr>",
                            "<tr><td>8</td><td>2</td><td>1</td></tr>",
                            "<tr><td>8</td><td>4</td><td>5</td></tr>",
                            "<tr><td>9</td><td>7</td><td>5</td></tr>",
                            "<tr><td>10</td><td>4</td><td>4</td></tr>",
                            "<tr><td>10</td><td>5</td><td>5</td></tr>",
                            "<tr><td>10</td><td>8</td><td>3</td></tr>",
                            "<tr><td>11</td><td>10</td><td>2</td></tr>",
                            "<tr><td>15</td><td>1</td><td>4</td></tr>",
                            "</table>"
                        ]
                    }
                },
                {
                    "output_type": "execute_result",
                    "metadata": {},
                    "execution_count": 25,
                    "data": {
                        "application/vnd.dataresource+json": {
                            "schema": {
                                "fields": [
                                    {
                                        "name": "KocsmaID"
                                    },
                                    {
                                        "name": "Nev"
                                    },
                                    {
                                        "name": "Cim"
                                    },
                                    {
                                        "name": "NyitasDatuma"
                                    },
                                    {
                                        "name": "Bevetel"
                                    },
                                    {
                                        "name": "Kedveltseg"
                                    }
                                ]
                            },
                            "data": [
                                {
                                    "KocsmaID": "1",
                                    "Nev": "Frederico Sawley",
                                    "Cim": "9 Logan Way",
                                    "NyitasDatuma": "2014-12-06",
                                    "Bevetel": "0",
                                    "Kedveltseg": "1"
                                },
                                {
                                    "KocsmaID": "2",
                                    "Nev": "Orren Broadhurst",
                                    "Cim": "87124 Basil Avenue",
                                    "NyitasDatuma": "2016-12-20",
                                    "Bevetel": "0",
                                    "Kedveltseg": "1"
                                },
                                {
                                    "KocsmaID": "3",
                                    "Nev": "Daisy Geeve",
                                    "Cim": "5265 Maple Wood Point",
                                    "NyitasDatuma": "2010-08-26",
                                    "Bevetel": "0",
                                    "Kedveltseg": "1"
                                },
                                {
                                    "KocsmaID": "4",
                                    "Nev": "Hedwiga Ledbetter",
                                    "Cim": "6 Packers Parkway",
                                    "NyitasDatuma": "2012-07-07",
                                    "Bevetel": "0",
                                    "Kedveltseg": "1"
                                },
                                {
                                    "KocsmaID": "5",
                                    "Nev": "Talia Henrionot",
                                    "Cim": "20571 Waxwing Junction",
                                    "NyitasDatuma": "2016-12-07",
                                    "Bevetel": "0",
                                    "Kedveltseg": "1"
                                },
                                {
                                    "KocsmaID": "6",
                                    "Nev": "Nilson Allflatt",
                                    "Cim": "954 Roth Pass",
                                    "NyitasDatuma": "2017-09-16",
                                    "Bevetel": "0",
                                    "Kedveltseg": "1"
                                },
                                {
                                    "KocsmaID": "7",
                                    "Nev": "Lewes Ashbrook",
                                    "Cim": "10 Clyde Gallagher Crossing",
                                    "NyitasDatuma": "2012-10-08",
                                    "Bevetel": "0",
                                    "Kedveltseg": "1"
                                },
                                {
                                    "KocsmaID": "8",
                                    "Nev": "Sandra Tweed",
                                    "Cim": "8 Superior Alley",
                                    "NyitasDatuma": "2011-08-28",
                                    "Bevetel": "0",
                                    "Kedveltseg": "1"
                                },
                                {
                                    "KocsmaID": "9",
                                    "Nev": "Perrine Chuney",
                                    "Cim": "26 Almo Road",
                                    "NyitasDatuma": "2015-10-12",
                                    "Bevetel": "0",
                                    "Kedveltseg": "1"
                                },
                                {
                                    "KocsmaID": "10",
                                    "Nev": "Sosanna Segeswoeth",
                                    "Cim": "4 Cody Park",
                                    "NyitasDatuma": "2013-08-30",
                                    "Bevetel": "0",
                                    "Kedveltseg": "1"
                                },
                                {
                                    "KocsmaID": "11",
                                    "Nev": "Lewes Ledbetter",
                                    "Cim": "6 Hyde Park",
                                    "NyitasDatuma": "2016-12-25",
                                    "Bevetel": "0",
                                    "Kedveltseg": "1"
                                },
                                {
                                    "KocsmaID": "12",
                                    "Nev": "Planetarium",
                                    "Cim": "Cim Plani",
                                    "NyitasDatuma": "2018-10-10",
                                    "Bevetel": "0",
                                    "Kedveltseg": "1"
                                }
                            ]
                        },
                        "text/html": [
                            "<table>",
                            "<tr><th>KocsmaID</th><th>Nev</th><th>Cim</th><th>NyitasDatuma</th><th>Bevetel</th><th>Kedveltseg</th></tr>",
                            "<tr><td>1</td><td>Frederico Sawley</td><td>9 Logan Way</td><td>2014-12-06</td><td>0</td><td>1</td></tr>",
                            "<tr><td>2</td><td>Orren Broadhurst</td><td>87124 Basil Avenue</td><td>2016-12-20</td><td>0</td><td>1</td></tr>",
                            "<tr><td>3</td><td>Daisy Geeve</td><td>5265 Maple Wood Point</td><td>2010-08-26</td><td>0</td><td>1</td></tr>",
                            "<tr><td>4</td><td>Hedwiga Ledbetter</td><td>6 Packers Parkway</td><td>2012-07-07</td><td>0</td><td>1</td></tr>",
                            "<tr><td>5</td><td>Talia Henrionot</td><td>20571 Waxwing Junction</td><td>2016-12-07</td><td>0</td><td>1</td></tr>",
                            "<tr><td>6</td><td>Nilson Allflatt</td><td>954 Roth Pass</td><td>2017-09-16</td><td>0</td><td>1</td></tr>",
                            "<tr><td>7</td><td>Lewes Ashbrook</td><td>10 Clyde Gallagher Crossing</td><td>2012-10-08</td><td>0</td><td>1</td></tr>",
                            "<tr><td>8</td><td>Sandra Tweed</td><td>8 Superior Alley</td><td>2011-08-28</td><td>0</td><td>1</td></tr>",
                            "<tr><td>9</td><td>Perrine Chuney</td><td>26 Almo Road</td><td>2015-10-12</td><td>0</td><td>1</td></tr>",
                            "<tr><td>10</td><td>Sosanna Segeswoeth</td><td>4 Cody Park</td><td>2013-08-30</td><td>0</td><td>1</td></tr>",
                            "<tr><td>11</td><td>Lewes Ledbetter</td><td>6 Hyde Park</td><td>2016-12-25</td><td>0</td><td>1</td></tr>",
                            "<tr><td>12</td><td>Planetarium</td><td>Cim Plani</td><td>2018-10-10</td><td>0</td><td>1</td></tr>",
                            "</table>"
                        ]
                    }
                }
            ],
            "execution_count": 25
        },
        {
            "cell_type": "markdown",
            "source": [
                "4. **a.** Módositsuk az adatbázisunkat a következő módon:\n",
                "\n",
                "- Keszitsünk egy Eladasok táblát mely a naponta eladott termékeket tartalmazza egy illető Kocsmában: ItalID:Int, KocsmaID:Int, Mennyiseg:Int , Egysegar: float, Datum:Date(aktuális dátum alapértelmezett értékkel) Az elsődleges kulcs legyen a KocsmaID, ItalID, Datum összetett kulcs valamint a KocsmaID és ItalID külső kulcsok."
            ],
            "metadata": {
                "azdata_cell_guid": "ef0a3c11-37d6-4f4a-83e1-5bd207a8d409"
            },
            "attachments": {}
        },
        {
            "cell_type": "code",
            "source": [
                "CREATE TABLE Eladasok (\r\n",
                "    ItalID INT,\r\n",
                "    KocsmaID INT,\r\n",
                "    Mennyiseg INT,\r\n",
                "    Egysegar FLOAT,\r\n",
                "    Datum DATE DEFAULT GETDATE(),\r\n",
                "    PRIMARY KEY (KocsmaID, ItalID, Datum),\r\n",
                "    FOREIGN KEY (ItalID) REFERENCES Italok(ItalID),\r\n",
                "    FOREIGN KEY (KocsmaID) REFERENCES Kocsmak(KocsmaID)\r\n",
                ")"
            ],
            "metadata": {
                "azdata_cell_guid": "d0b7ba36-62df-4475-945d-ff96ff414459",
                "language": "sql"
            },
            "outputs": [
                {
                    "output_type": "display_data",
                    "data": {
                        "text/html": "Commands completed successfully."
                    },
                    "metadata": {}
                },
                {
                    "output_type": "display_data",
                    "data": {
                        "text/html": "Total execution time: 00:00:00.012"
                    },
                    "metadata": {}
                }
            ],
            "execution_count": 26
        },
        {
            "cell_type": "markdown",
            "source": [
                "**b.** <span style=\"color: rgb(45, 59, 69); font-family: LatoWeb, &quot;Helvetica Neue&quot;, Helvetica, Arial, sans-serif; font-size: 16px; background-color: rgb(255, 255, 255);\">&nbsp;Írj tárolt eljárást mely felvezet az Eladások táblába. A tárolt eljárás paraméterei: @KocsmaNev, @ItalNev,&nbsp; @ItalTipusNev, @Mennyiseg, @EgysegAr. A tárolt eljárás ellenőrizze, a kocsma létezését,&nbsp; ha nem létezik hibát jelezve lépjen ki, valamint, hogy az eladott mennyiség pozitív. Ha az&nbsp;</span> <span style=\"color: rgb(45, 59, 69); font-family: LatoWeb, &quot;Helvetica Neue&quot;, Helvetica, Arial, sans-serif; font-size: 16px; background-color: rgb(255, 255, 255);\">@ItalNev</span> <span style=\"color: rgb(45, 59, 69); font-family: LatoWeb, &quot;Helvetica Neue&quot;, Helvetica, Arial, sans-serif; font-size: 16px; background-color: rgb(255, 255, 255);\">&nbsp;vagy a hozzá tartozó</span> <span style=\"color: rgb(45, 59, 69); font-family: LatoWeb, &quot;Helvetica Neue&quot;, Helvetica, Arial, sans-serif; font-size: 16px; background-color: rgb(255, 255, 255);\">@ItalTipusNev típusú ital&nbsp;</span> <span style=\"color: rgb(45, 59, 69); font-family: LatoWeb, &quot;Helvetica Neue&quot;, Helvetica, Arial, sans-serif; font-size: 16px; background-color: rgb(255, 255, 255);\">nem létezik kerüljon felvezetésre az Italok és ItalTipusok táblába valamint a megadott @EgysegAr-al az Arak táblába is. Abban az esetben ha létezik, frissítse az Arak.Ar mezőjét az uj értékkel ha az változott. Az eladás felvezetésekor az eladás Dátuma legyen az aktuális dátum. Végül frissítse a kocsma bevételét hozzáadva a @Mennyiseg * @EgysegAr erteket.</span>"
            ],
            "metadata": {
                "language": "sql",
                "azdata_cell_guid": "8858f964-b240-4d60-9121-3df4d889cf2c"
            },
            "attachments": {}
        },
        {
            "cell_type": "code",
            "source": [
                "CREATE OR ALTER PROCEDURE EladasokBeirasa(\r\n",
                "    @KocsmaNev VARCHAR(30),\r\n",
                "    @ItalNev VARCHAR(30),\r\n",
                "    @ItalTipusNev VARCHAR(30),\r\n",
                "    @Mennyiseg INT,\r\n",
                "    @EgysegAr FLOAT\r\n",
                ")\r\n",
                "AS\r\n",
                "BEGIN\r\n",
                "    SET NOCOUNT ON;\r\n",
                "\r\n",
                "    DECLARE @KocsmaID INT, @ItalID INT, @ItalTipusID INT, @Ar FLOAT\r\n",
                "    \r\n",
                "    SELECT @KocsmaID = KocsmaID FROM Kocsmak\r\n",
                "    WHERE Nev = @KocsmaNev\r\n",
                "\r\n",
                "    IF @KocsmaID IS NULL\r\n",
                "    BEGIN\r\n",
                "        RAISERROR('Hiba: A kocsma nincs benne az adatbazisban.', 16, 1);\r\n",
                "        RETURN\r\n",
                "    END\r\n",
                "    IF @Mennyiseg<=0\r\n",
                "    BEGIN\r\n",
                "        RAISERROR ('Hiba: Az eladott mennyiseg nem pozitiv', 16, 2)\r\n",
                "        RETURN\r\n",
                "    END\r\n",
                "\r\n",
                "\r\n",
                "    SELECT @ItalTipusID = TipusID FROM ItalTipusok\r\n",
                "    WHERE TipusNev = @ItalTipusNev;\r\n",
                "\r\n",
                "    IF @ItalTipusID IS NULL\r\n",
                "    BEGIN\r\n",
                "        INSERT INTO ItalTipusok (TipusNev) VALUES (@ItalTipusNev)\r\n",
                "        SELECT @ItalTipusID=SCOPE_IDENTITY()\r\n",
                "    END\r\n",
                "\r\n",
                "    SELECT @ItalID = ItalID FROM Italok\r\n",
                "    WHERE Nev =@ItalNev AND TipusID= @ItalTipusID;\r\n",
                "\r\n",
                "    IF @ItalID IS NULL\r\n",
                "    BEGIN\r\n",
                "        INSERT INTO Italok (Nev, TipusID) VALUES (@ItalNev, @ItalTipusID)\r\n",
                "        SELECT @ItalID=SCOPE_IDENTITY()\r\n",
                "    END\r\n",
                "\r\n",
                "    SELECT @Ar =Ar FROM Arak\r\n",
                "    WHERE KocsmaID= @KocsmaID AND ItalID = @ItalID\r\n",
                "\r\n",
                "    IF @Ar IS NULL OR @Ar <> @EgysegAr\r\n",
                "    BEGIN\r\n",
                "        IF @Ar IS NULL\r\n",
                "        BEGIN\r\n",
                "            INSERT INTO Arak (KocsmaID, ItalID, Ar) VALUES (@KocsmaID, @ItalID, @EgysegAr)\r\n",
                "        END\r\n",
                "        ELSE\r\n",
                "        BEGIN\r\n",
                "            UPDATE Arak\r\n",
                "            SET Ar = @EgysegAr WHERE KocsmaID =@KocsmaID AND ItalID = @ItalID\r\n",
                "        END\r\n",
                "    END\r\n",
                "\r\n",
                "    INSERT INTO Eladasok (ItalID, KocsmaID, Mennyiseg, Egysegar) VALUES (@ItalID, @KocsmaID, @Mennyiseg, @EgysegAr)\r\n",
                "\r\n",
                "\r\n",
                "    UPDATE Kocsmak\r\n",
                "    SET Bevetel = Bevetel+(@Mennyiseg*@EgysegAr) WHERE KocsmaID = @KocsmaID\r\n",
                "END\r\n",
                "\r\n",
                "   \r\n",
                ""
            ],
            "metadata": {
                "language": "sql",
                "azdata_cell_guid": "569e2941-f9bd-4415-944a-a53f2998be9b"
            },
            "outputs": [
                {
                    "output_type": "display_data",
                    "data": {
                        "text/html": "Commands completed successfully."
                    },
                    "metadata": {}
                },
                {
                    "output_type": "display_data",
                    "data": {
                        "text/html": "Total execution time: 00:00:00.016"
                    },
                    "metadata": {}
                }
            ],
            "execution_count": 31
        },
        {
            "cell_type": "code",
            "source": [
                "SELECT Nev, KocsmaID FROM Kocsmak\r\n",
                "SELECT Nev, ItalID FROM Italok\r\n",
                "SELECT * FROM ItalTipusok\r\n",
                "SELECT * FROM Arak"
            ],
            "metadata": {
                "azdata_cell_guid": "07d020e2-e766-4620-a752-b30098f50a85",
                "language": "sql"
            },
            "outputs": [
                {
                    "output_type": "display_data",
                    "data": {
                        "text/html": "(12 rows affected)"
                    },
                    "metadata": {}
                },
                {
                    "output_type": "display_data",
                    "data": {
                        "text/html": "(11 rows affected)"
                    },
                    "metadata": {}
                },
                {
                    "output_type": "display_data",
                    "data": {
                        "text/html": "(6 rows affected)"
                    },
                    "metadata": {}
                },
                {
                    "output_type": "display_data",
                    "data": {
                        "text/html": "(30 rows affected)"
                    },
                    "metadata": {}
                },
                {
                    "output_type": "display_data",
                    "data": {
                        "text/html": "Total execution time: 00:00:00.043"
                    },
                    "metadata": {}
                },
                {
                    "output_type": "execute_result",
                    "metadata": {},
                    "execution_count": 30,
                    "data": {
                        "application/vnd.dataresource+json": {
                            "schema": {
                                "fields": [
                                    {
                                        "name": "Nev"
                                    },
                                    {
                                        "name": "KocsmaID"
                                    }
                                ]
                            },
                            "data": [
                                {
                                    "Nev": "Frederico Sawley",
                                    "KocsmaID": "1"
                                },
                                {
                                    "Nev": "Orren Broadhurst",
                                    "KocsmaID": "2"
                                },
                                {
                                    "Nev": "Daisy Geeve",
                                    "KocsmaID": "3"
                                },
                                {
                                    "Nev": "Hedwiga Ledbetter",
                                    "KocsmaID": "4"
                                },
                                {
                                    "Nev": "Talia Henrionot",
                                    "KocsmaID": "5"
                                },
                                {
                                    "Nev": "Nilson Allflatt",
                                    "KocsmaID": "6"
                                },
                                {
                                    "Nev": "Lewes Ashbrook",
                                    "KocsmaID": "7"
                                },
                                {
                                    "Nev": "Sandra Tweed",
                                    "KocsmaID": "8"
                                },
                                {
                                    "Nev": "Perrine Chuney",
                                    "KocsmaID": "9"
                                },
                                {
                                    "Nev": "Sosanna Segeswoeth",
                                    "KocsmaID": "10"
                                },
                                {
                                    "Nev": "Lewes Ledbetter",
                                    "KocsmaID": "11"
                                },
                                {
                                    "Nev": "Planetarium",
                                    "KocsmaID": "12"
                                }
                            ]
                        },
                        "text/html": [
                            "<table>",
                            "<tr><th>Nev</th><th>KocsmaID</th></tr>",
                            "<tr><td>Frederico Sawley</td><td>1</td></tr>",
                            "<tr><td>Orren Broadhurst</td><td>2</td></tr>",
                            "<tr><td>Daisy Geeve</td><td>3</td></tr>",
                            "<tr><td>Hedwiga Ledbetter</td><td>4</td></tr>",
                            "<tr><td>Talia Henrionot</td><td>5</td></tr>",
                            "<tr><td>Nilson Allflatt</td><td>6</td></tr>",
                            "<tr><td>Lewes Ashbrook</td><td>7</td></tr>",
                            "<tr><td>Sandra Tweed</td><td>8</td></tr>",
                            "<tr><td>Perrine Chuney</td><td>9</td></tr>",
                            "<tr><td>Sosanna Segeswoeth</td><td>10</td></tr>",
                            "<tr><td>Lewes Ledbetter</td><td>11</td></tr>",
                            "<tr><td>Planetarium</td><td>12</td></tr>",
                            "</table>"
                        ]
                    }
                },
                {
                    "output_type": "execute_result",
                    "metadata": {},
                    "execution_count": 30,
                    "data": {
                        "application/vnd.dataresource+json": {
                            "schema": {
                                "fields": [
                                    {
                                        "name": "Nev"
                                    },
                                    {
                                        "name": "ItalID"
                                    }
                                ]
                            },
                            "data": [
                                {
                                    "Nev": "Valenties",
                                    "ItalID": "1"
                                },
                                {
                                    "Nev": "Alexandrion",
                                    "ItalID": "2"
                                },
                                {
                                    "Nev": "Absolute",
                                    "ItalID": "3"
                                },
                                {
                                    "Nev": "Alexander",
                                    "ItalID": "4"
                                },
                                {
                                    "Nev": "V33",
                                    "ItalID": "5"
                                },
                                {
                                    "Nev": "Tatra tea",
                                    "ItalID": "6"
                                },
                                {
                                    "Nev": "Coca Cola",
                                    "ItalID": "7"
                                },
                                {
                                    "Nev": "Banderas",
                                    "ItalID": "8"
                                },
                                {
                                    "Nev": "Fekete tea",
                                    "ItalID": "9"
                                },
                                {
                                    "Nev": "Kinley",
                                    "ItalID": "10"
                                },
                                {
                                    "Nev": "rose",
                                    "ItalID": "11"
                                }
                            ]
                        },
                        "text/html": [
                            "<table>",
                            "<tr><th>Nev</th><th>ItalID</th></tr>",
                            "<tr><td>Valenties</td><td>1</td></tr>",
                            "<tr><td>Alexandrion</td><td>2</td></tr>",
                            "<tr><td>Absolute</td><td>3</td></tr>",
                            "<tr><td>Alexander</td><td>4</td></tr>",
                            "<tr><td>V33</td><td>5</td></tr>",
                            "<tr><td>Tatra tea</td><td>6</td></tr>",
                            "<tr><td>Coca Cola</td><td>7</td></tr>",
                            "<tr><td>Banderas</td><td>8</td></tr>",
                            "<tr><td>Fekete tea</td><td>9</td></tr>",
                            "<tr><td>Kinley</td><td>10</td></tr>",
                            "<tr><td>rose</td><td>11</td></tr>",
                            "</table>"
                        ]
                    }
                },
                {
                    "output_type": "execute_result",
                    "metadata": {},
                    "execution_count": 30,
                    "data": {
                        "application/vnd.dataresource+json": {
                            "schema": {
                                "fields": [
                                    {
                                        "name": "TipusID"
                                    },
                                    {
                                        "name": "TipusNev"
                                    }
                                ]
                            },
                            "data": [
                                {
                                    "TipusID": "6",
                                    "TipusNev": "bor"
                                },
                                {
                                    "TipusID": "3",
                                    "TipusNev": "konyak"
                                },
                                {
                                    "TipusID": "4",
                                    "TipusNev": "tea"
                                },
                                {
                                    "TipusID": "5",
                                    "TipusNev": "tonic"
                                },
                                {
                                    "TipusID": "2",
                                    "TipusNev": "vodka"
                                },
                                {
                                    "TipusID": "1",
                                    "TipusNev": "whiskey"
                                }
                            ]
                        },
                        "text/html": [
                            "<table>",
                            "<tr><th>TipusID</th><th>TipusNev</th></tr>",
                            "<tr><td>6</td><td>bor</td></tr>",
                            "<tr><td>3</td><td>konyak</td></tr>",
                            "<tr><td>4</td><td>tea</td></tr>",
                            "<tr><td>5</td><td>tonic</td></tr>",
                            "<tr><td>2</td><td>vodka</td></tr>",
                            "<tr><td>1</td><td>whiskey</td></tr>",
                            "</table>"
                        ]
                    }
                },
                {
                    "output_type": "execute_result",
                    "metadata": {},
                    "execution_count": 30,
                    "data": {
                        "application/vnd.dataresource+json": {
                            "schema": {
                                "fields": [
                                    {
                                        "name": "KocsmaID"
                                    },
                                    {
                                        "name": "ItalID"
                                    },
                                    {
                                        "name": "Ar"
                                    }
                                ]
                            },
                            "data": [
                                {
                                    "KocsmaID": "1",
                                    "ItalID": "1",
                                    "Ar": "8"
                                },
                                {
                                    "KocsmaID": "1",
                                    "ItalID": "2",
                                    "Ar": "16"
                                },
                                {
                                    "KocsmaID": "1",
                                    "ItalID": "4",
                                    "Ar": "9"
                                },
                                {
                                    "KocsmaID": "1",
                                    "ItalID": "5",
                                    "Ar": "6"
                                },
                                {
                                    "KocsmaID": "1",
                                    "ItalID": "8",
                                    "Ar": "45"
                                },
                                {
                                    "KocsmaID": "1",
                                    "ItalID": "9",
                                    "Ar": "25"
                                },
                                {
                                    "KocsmaID": "1",
                                    "ItalID": "10",
                                    "Ar": "29"
                                },
                                {
                                    "KocsmaID": "2",
                                    "ItalID": "2",
                                    "Ar": "38"
                                },
                                {
                                    "KocsmaID": "2",
                                    "ItalID": "7",
                                    "Ar": "39"
                                },
                                {
                                    "KocsmaID": "2",
                                    "ItalID": "10",
                                    "Ar": "32"
                                },
                                {
                                    "KocsmaID": "4",
                                    "ItalID": "2",
                                    "Ar": "30"
                                },
                                {
                                    "KocsmaID": "4",
                                    "ItalID": "6",
                                    "Ar": "33"
                                },
                                {
                                    "KocsmaID": "4",
                                    "ItalID": "7",
                                    "Ar": "15"
                                },
                                {
                                    "KocsmaID": "4",
                                    "ItalID": "9",
                                    "Ar": "29"
                                },
                                {
                                    "KocsmaID": "5",
                                    "ItalID": "2",
                                    "Ar": "21"
                                },
                                {
                                    "KocsmaID": "6",
                                    "ItalID": "3",
                                    "Ar": "6"
                                },
                                {
                                    "KocsmaID": "6",
                                    "ItalID": "5",
                                    "Ar": "39"
                                },
                                {
                                    "KocsmaID": "7",
                                    "ItalID": "3",
                                    "Ar": "21"
                                },
                                {
                                    "KocsmaID": "7",
                                    "ItalID": "4",
                                    "Ar": "19"
                                },
                                {
                                    "KocsmaID": "7",
                                    "ItalID": "9",
                                    "Ar": "17"
                                },
                                {
                                    "KocsmaID": "8",
                                    "ItalID": "2",
                                    "Ar": "35"
                                },
                                {
                                    "KocsmaID": "8",
                                    "ItalID": "9",
                                    "Ar": "22"
                                },
                                {
                                    "KocsmaID": "8",
                                    "ItalID": "10",
                                    "Ar": "29"
                                },
                                {
                                    "KocsmaID": "9",
                                    "ItalID": "2",
                                    "Ar": "16"
                                },
                                {
                                    "KocsmaID": "9",
                                    "ItalID": "3",
                                    "Ar": "39"
                                },
                                {
                                    "KocsmaID": "9",
                                    "ItalID": "4",
                                    "Ar": "28"
                                },
                                {
                                    "KocsmaID": "9",
                                    "ItalID": "5",
                                    "Ar": "36"
                                },
                                {
                                    "KocsmaID": "10",
                                    "ItalID": "4",
                                    "Ar": "8"
                                },
                                {
                                    "KocsmaID": "11",
                                    "ItalID": "9",
                                    "Ar": "6"
                                },
                                {
                                    "KocsmaID": "12",
                                    "ItalID": "11",
                                    "Ar": "9"
                                }
                            ]
                        },
                        "text/html": [
                            "<table>",
                            "<tr><th>KocsmaID</th><th>ItalID</th><th>Ar</th></tr>",
                            "<tr><td>1</td><td>1</td><td>8</td></tr>",
                            "<tr><td>1</td><td>2</td><td>16</td></tr>",
                            "<tr><td>1</td><td>4</td><td>9</td></tr>",
                            "<tr><td>1</td><td>5</td><td>6</td></tr>",
                            "<tr><td>1</td><td>8</td><td>45</td></tr>",
                            "<tr><td>1</td><td>9</td><td>25</td></tr>",
                            "<tr><td>1</td><td>10</td><td>29</td></tr>",
                            "<tr><td>2</td><td>2</td><td>38</td></tr>",
                            "<tr><td>2</td><td>7</td><td>39</td></tr>",
                            "<tr><td>2</td><td>10</td><td>32</td></tr>",
                            "<tr><td>4</td><td>2</td><td>30</td></tr>",
                            "<tr><td>4</td><td>6</td><td>33</td></tr>",
                            "<tr><td>4</td><td>7</td><td>15</td></tr>",
                            "<tr><td>4</td><td>9</td><td>29</td></tr>",
                            "<tr><td>5</td><td>2</td><td>21</td></tr>",
                            "<tr><td>6</td><td>3</td><td>6</td></tr>",
                            "<tr><td>6</td><td>5</td><td>39</td></tr>",
                            "<tr><td>7</td><td>3</td><td>21</td></tr>",
                            "<tr><td>7</td><td>4</td><td>19</td></tr>",
                            "<tr><td>7</td><td>9</td><td>17</td></tr>",
                            "<tr><td>8</td><td>2</td><td>35</td></tr>",
                            "<tr><td>8</td><td>9</td><td>22</td></tr>",
                            "<tr><td>8</td><td>10</td><td>29</td></tr>",
                            "<tr><td>9</td><td>2</td><td>16</td></tr>",
                            "<tr><td>9</td><td>3</td><td>39</td></tr>",
                            "<tr><td>9</td><td>4</td><td>28</td></tr>",
                            "<tr><td>9</td><td>5</td><td>36</td></tr>",
                            "<tr><td>10</td><td>4</td><td>8</td></tr>",
                            "<tr><td>11</td><td>9</td><td>6</td></tr>",
                            "<tr><td>12</td><td>11</td><td>9</td></tr>",
                            "</table>"
                        ]
                    }
                }
            ],
            "execution_count": 30
        },
        {
            "cell_type": "code",
            "source": [
                "DECLARE \r\n",
                "    @KocsmaNev VARCHAR(30) = (SELECT Nev FROM Kocsmak WHERE KocsmaID=4),\r\n",
                "    @ItalNev VARCHAR(30) = (SELECT Nev FROM Italok WHERE ItalID=11),\r\n",
                "    @ItalTipusNev VARCHAR(30) = (SELECT TipusNev FROM ItalTipusok WHERE TipusID=6),\r\n",
                "    @Mennyiseg INT = 3,\r\n",
                "    @EgysegAr FLOAT = 10.5\r\n",
                "EXEC EladasokBeirasa @KocsmaNev, @ItalNev, @ItalTipusNev, @Mennyiseg, @EgysegAr "
            ],
            "metadata": {
                "azdata_cell_guid": "93c1d67d-000a-461a-ad92-52446f7d4ef0",
                "language": "sql"
            },
            "outputs": [
                {
                    "output_type": "display_data",
                    "data": {
                        "text/html": "Commands completed successfully."
                    },
                    "metadata": {}
                },
                {
                    "output_type": "display_data",
                    "data": {
                        "text/html": "Total execution time: 00:00:00.031"
                    },
                    "metadata": {}
                }
            ],
            "execution_count": 34
        },
        {
            "cell_type": "code",
            "source": [
                "SELECT * From Eladasok\r\n",
                "SELECT Nev, KocsmaID FROM Kocsmak\r\n",
                "SELECT Nev, ItalID FROM Italok\r\n",
                "SELECT * FROM ItalTipusok\r\n",
                "SELECT * FROM Arak"
            ],
            "metadata": {
                "language": "sql",
                "azdata_cell_guid": "3889944d-c255-4747-9c55-b844822133de"
            },
            "outputs": [
                {
                    "output_type": "display_data",
                    "data": {
                        "text/html": "(1 row affected)"
                    },
                    "metadata": {}
                },
                {
                    "output_type": "display_data",
                    "data": {
                        "text/html": "(12 rows affected)"
                    },
                    "metadata": {}
                },
                {
                    "output_type": "display_data",
                    "data": {
                        "text/html": "(11 rows affected)"
                    },
                    "metadata": {}
                },
                {
                    "output_type": "display_data",
                    "data": {
                        "text/html": "(6 rows affected)"
                    },
                    "metadata": {}
                },
                {
                    "output_type": "display_data",
                    "data": {
                        "text/html": "(31 rows affected)"
                    },
                    "metadata": {}
                },
                {
                    "output_type": "display_data",
                    "data": {
                        "text/html": "Total execution time: 00:00:00.033"
                    },
                    "metadata": {}
                },
                {
                    "output_type": "execute_result",
                    "metadata": {},
                    "execution_count": 36,
                    "data": {
                        "application/vnd.dataresource+json": {
                            "schema": {
                                "fields": [
                                    {
                                        "name": "ItalID"
                                    },
                                    {
                                        "name": "KocsmaID"
                                    },
                                    {
                                        "name": "Mennyiseg"
                                    },
                                    {
                                        "name": "Egysegar"
                                    },
                                    {
                                        "name": "Datum"
                                    }
                                ]
                            },
                            "data": [
                                {
                                    "ItalID": "11",
                                    "KocsmaID": "4",
                                    "Mennyiseg": "3",
                                    "Egysegar": "10.5",
                                    "Datum": "2024-01-06"
                                }
                            ]
                        },
                        "text/html": [
                            "<table>",
                            "<tr><th>ItalID</th><th>KocsmaID</th><th>Mennyiseg</th><th>Egysegar</th><th>Datum</th></tr>",
                            "<tr><td>11</td><td>4</td><td>3</td><td>10.5</td><td>2024-01-06</td></tr>",
                            "</table>"
                        ]
                    }
                },
                {
                    "output_type": "execute_result",
                    "metadata": {},
                    "execution_count": 36,
                    "data": {
                        "application/vnd.dataresource+json": {
                            "schema": {
                                "fields": [
                                    {
                                        "name": "Nev"
                                    },
                                    {
                                        "name": "KocsmaID"
                                    }
                                ]
                            },
                            "data": [
                                {
                                    "Nev": "Frederico Sawley",
                                    "KocsmaID": "1"
                                },
                                {
                                    "Nev": "Orren Broadhurst",
                                    "KocsmaID": "2"
                                },
                                {
                                    "Nev": "Daisy Geeve",
                                    "KocsmaID": "3"
                                },
                                {
                                    "Nev": "Hedwiga Ledbetter",
                                    "KocsmaID": "4"
                                },
                                {
                                    "Nev": "Talia Henrionot",
                                    "KocsmaID": "5"
                                },
                                {
                                    "Nev": "Nilson Allflatt",
                                    "KocsmaID": "6"
                                },
                                {
                                    "Nev": "Lewes Ashbrook",
                                    "KocsmaID": "7"
                                },
                                {
                                    "Nev": "Sandra Tweed",
                                    "KocsmaID": "8"
                                },
                                {
                                    "Nev": "Perrine Chuney",
                                    "KocsmaID": "9"
                                },
                                {
                                    "Nev": "Sosanna Segeswoeth",
                                    "KocsmaID": "10"
                                },
                                {
                                    "Nev": "Lewes Ledbetter",
                                    "KocsmaID": "11"
                                },
                                {
                                    "Nev": "Planetarium",
                                    "KocsmaID": "12"
                                }
                            ]
                        },
                        "text/html": [
                            "<table>",
                            "<tr><th>Nev</th><th>KocsmaID</th></tr>",
                            "<tr><td>Frederico Sawley</td><td>1</td></tr>",
                            "<tr><td>Orren Broadhurst</td><td>2</td></tr>",
                            "<tr><td>Daisy Geeve</td><td>3</td></tr>",
                            "<tr><td>Hedwiga Ledbetter</td><td>4</td></tr>",
                            "<tr><td>Talia Henrionot</td><td>5</td></tr>",
                            "<tr><td>Nilson Allflatt</td><td>6</td></tr>",
                            "<tr><td>Lewes Ashbrook</td><td>7</td></tr>",
                            "<tr><td>Sandra Tweed</td><td>8</td></tr>",
                            "<tr><td>Perrine Chuney</td><td>9</td></tr>",
                            "<tr><td>Sosanna Segeswoeth</td><td>10</td></tr>",
                            "<tr><td>Lewes Ledbetter</td><td>11</td></tr>",
                            "<tr><td>Planetarium</td><td>12</td></tr>",
                            "</table>"
                        ]
                    }
                },
                {
                    "output_type": "execute_result",
                    "metadata": {},
                    "execution_count": 36,
                    "data": {
                        "application/vnd.dataresource+json": {
                            "schema": {
                                "fields": [
                                    {
                                        "name": "Nev"
                                    },
                                    {
                                        "name": "ItalID"
                                    }
                                ]
                            },
                            "data": [
                                {
                                    "Nev": "Valenties",
                                    "ItalID": "1"
                                },
                                {
                                    "Nev": "Alexandrion",
                                    "ItalID": "2"
                                },
                                {
                                    "Nev": "Absolute",
                                    "ItalID": "3"
                                },
                                {
                                    "Nev": "Alexander",
                                    "ItalID": "4"
                                },
                                {
                                    "Nev": "V33",
                                    "ItalID": "5"
                                },
                                {
                                    "Nev": "Tatra tea",
                                    "ItalID": "6"
                                },
                                {
                                    "Nev": "Coca Cola",
                                    "ItalID": "7"
                                },
                                {
                                    "Nev": "Banderas",
                                    "ItalID": "8"
                                },
                                {
                                    "Nev": "Fekete tea",
                                    "ItalID": "9"
                                },
                                {
                                    "Nev": "Kinley",
                                    "ItalID": "10"
                                },
                                {
                                    "Nev": "rose",
                                    "ItalID": "11"
                                }
                            ]
                        },
                        "text/html": [
                            "<table>",
                            "<tr><th>Nev</th><th>ItalID</th></tr>",
                            "<tr><td>Valenties</td><td>1</td></tr>",
                            "<tr><td>Alexandrion</td><td>2</td></tr>",
                            "<tr><td>Absolute</td><td>3</td></tr>",
                            "<tr><td>Alexander</td><td>4</td></tr>",
                            "<tr><td>V33</td><td>5</td></tr>",
                            "<tr><td>Tatra tea</td><td>6</td></tr>",
                            "<tr><td>Coca Cola</td><td>7</td></tr>",
                            "<tr><td>Banderas</td><td>8</td></tr>",
                            "<tr><td>Fekete tea</td><td>9</td></tr>",
                            "<tr><td>Kinley</td><td>10</td></tr>",
                            "<tr><td>rose</td><td>11</td></tr>",
                            "</table>"
                        ]
                    }
                },
                {
                    "output_type": "execute_result",
                    "metadata": {},
                    "execution_count": 36,
                    "data": {
                        "application/vnd.dataresource+json": {
                            "schema": {
                                "fields": [
                                    {
                                        "name": "TipusID"
                                    },
                                    {
                                        "name": "TipusNev"
                                    }
                                ]
                            },
                            "data": [
                                {
                                    "TipusID": "6",
                                    "TipusNev": "bor"
                                },
                                {
                                    "TipusID": "3",
                                    "TipusNev": "konyak"
                                },
                                {
                                    "TipusID": "4",
                                    "TipusNev": "tea"
                                },
                                {
                                    "TipusID": "5",
                                    "TipusNev": "tonic"
                                },
                                {
                                    "TipusID": "2",
                                    "TipusNev": "vodka"
                                },
                                {
                                    "TipusID": "1",
                                    "TipusNev": "whiskey"
                                }
                            ]
                        },
                        "text/html": [
                            "<table>",
                            "<tr><th>TipusID</th><th>TipusNev</th></tr>",
                            "<tr><td>6</td><td>bor</td></tr>",
                            "<tr><td>3</td><td>konyak</td></tr>",
                            "<tr><td>4</td><td>tea</td></tr>",
                            "<tr><td>5</td><td>tonic</td></tr>",
                            "<tr><td>2</td><td>vodka</td></tr>",
                            "<tr><td>1</td><td>whiskey</td></tr>",
                            "</table>"
                        ]
                    }
                },
                {
                    "output_type": "execute_result",
                    "metadata": {},
                    "execution_count": 36,
                    "data": {
                        "application/vnd.dataresource+json": {
                            "schema": {
                                "fields": [
                                    {
                                        "name": "KocsmaID"
                                    },
                                    {
                                        "name": "ItalID"
                                    },
                                    {
                                        "name": "Ar"
                                    }
                                ]
                            },
                            "data": [
                                {
                                    "KocsmaID": "1",
                                    "ItalID": "1",
                                    "Ar": "8"
                                },
                                {
                                    "KocsmaID": "1",
                                    "ItalID": "2",
                                    "Ar": "16"
                                },
                                {
                                    "KocsmaID": "1",
                                    "ItalID": "4",
                                    "Ar": "9"
                                },
                                {
                                    "KocsmaID": "1",
                                    "ItalID": "5",
                                    "Ar": "6"
                                },
                                {
                                    "KocsmaID": "1",
                                    "ItalID": "8",
                                    "Ar": "45"
                                },
                                {
                                    "KocsmaID": "1",
                                    "ItalID": "9",
                                    "Ar": "25"
                                },
                                {
                                    "KocsmaID": "1",
                                    "ItalID": "10",
                                    "Ar": "29"
                                },
                                {
                                    "KocsmaID": "2",
                                    "ItalID": "2",
                                    "Ar": "38"
                                },
                                {
                                    "KocsmaID": "2",
                                    "ItalID": "7",
                                    "Ar": "39"
                                },
                                {
                                    "KocsmaID": "2",
                                    "ItalID": "10",
                                    "Ar": "32"
                                },
                                {
                                    "KocsmaID": "4",
                                    "ItalID": "2",
                                    "Ar": "30"
                                },
                                {
                                    "KocsmaID": "4",
                                    "ItalID": "6",
                                    "Ar": "33"
                                },
                                {
                                    "KocsmaID": "4",
                                    "ItalID": "7",
                                    "Ar": "15"
                                },
                                {
                                    "KocsmaID": "4",
                                    "ItalID": "9",
                                    "Ar": "29"
                                },
                                {
                                    "KocsmaID": "4",
                                    "ItalID": "11",
                                    "Ar": "10"
                                },
                                {
                                    "KocsmaID": "5",
                                    "ItalID": "2",
                                    "Ar": "21"
                                },
                                {
                                    "KocsmaID": "6",
                                    "ItalID": "3",
                                    "Ar": "6"
                                },
                                {
                                    "KocsmaID": "6",
                                    "ItalID": "5",
                                    "Ar": "39"
                                },
                                {
                                    "KocsmaID": "7",
                                    "ItalID": "3",
                                    "Ar": "21"
                                },
                                {
                                    "KocsmaID": "7",
                                    "ItalID": "4",
                                    "Ar": "19"
                                },
                                {
                                    "KocsmaID": "7",
                                    "ItalID": "9",
                                    "Ar": "17"
                                },
                                {
                                    "KocsmaID": "8",
                                    "ItalID": "2",
                                    "Ar": "35"
                                },
                                {
                                    "KocsmaID": "8",
                                    "ItalID": "9",
                                    "Ar": "22"
                                },
                                {
                                    "KocsmaID": "8",
                                    "ItalID": "10",
                                    "Ar": "29"
                                },
                                {
                                    "KocsmaID": "9",
                                    "ItalID": "2",
                                    "Ar": "16"
                                },
                                {
                                    "KocsmaID": "9",
                                    "ItalID": "3",
                                    "Ar": "39"
                                },
                                {
                                    "KocsmaID": "9",
                                    "ItalID": "4",
                                    "Ar": "28"
                                },
                                {
                                    "KocsmaID": "9",
                                    "ItalID": "5",
                                    "Ar": "36"
                                },
                                {
                                    "KocsmaID": "10",
                                    "ItalID": "4",
                                    "Ar": "8"
                                },
                                {
                                    "KocsmaID": "11",
                                    "ItalID": "9",
                                    "Ar": "6"
                                },
                                {
                                    "KocsmaID": "12",
                                    "ItalID": "11",
                                    "Ar": "9"
                                }
                            ]
                        },
                        "text/html": [
                            "<table>",
                            "<tr><th>KocsmaID</th><th>ItalID</th><th>Ar</th></tr>",
                            "<tr><td>1</td><td>1</td><td>8</td></tr>",
                            "<tr><td>1</td><td>2</td><td>16</td></tr>",
                            "<tr><td>1</td><td>4</td><td>9</td></tr>",
                            "<tr><td>1</td><td>5</td><td>6</td></tr>",
                            "<tr><td>1</td><td>8</td><td>45</td></tr>",
                            "<tr><td>1</td><td>9</td><td>25</td></tr>",
                            "<tr><td>1</td><td>10</td><td>29</td></tr>",
                            "<tr><td>2</td><td>2</td><td>38</td></tr>",
                            "<tr><td>2</td><td>7</td><td>39</td></tr>",
                            "<tr><td>2</td><td>10</td><td>32</td></tr>",
                            "<tr><td>4</td><td>2</td><td>30</td></tr>",
                            "<tr><td>4</td><td>6</td><td>33</td></tr>",
                            "<tr><td>4</td><td>7</td><td>15</td></tr>",
                            "<tr><td>4</td><td>9</td><td>29</td></tr>",
                            "<tr><td>4</td><td>11</td><td>10</td></tr>",
                            "<tr><td>5</td><td>2</td><td>21</td></tr>",
                            "<tr><td>6</td><td>3</td><td>6</td></tr>",
                            "<tr><td>6</td><td>5</td><td>39</td></tr>",
                            "<tr><td>7</td><td>3</td><td>21</td></tr>",
                            "<tr><td>7</td><td>4</td><td>19</td></tr>",
                            "<tr><td>7</td><td>9</td><td>17</td></tr>",
                            "<tr><td>8</td><td>2</td><td>35</td></tr>",
                            "<tr><td>8</td><td>9</td><td>22</td></tr>",
                            "<tr><td>8</td><td>10</td><td>29</td></tr>",
                            "<tr><td>9</td><td>2</td><td>16</td></tr>",
                            "<tr><td>9</td><td>3</td><td>39</td></tr>",
                            "<tr><td>9</td><td>4</td><td>28</td></tr>",
                            "<tr><td>9</td><td>5</td><td>36</td></tr>",
                            "<tr><td>10</td><td>4</td><td>8</td></tr>",
                            "<tr><td>11</td><td>9</td><td>6</td></tr>",
                            "<tr><td>12</td><td>11</td><td>9</td></tr>",
                            "</table>"
                        ]
                    }
                }
            ],
            "execution_count": 36
        },
        {
            "cell_type": "code",
            "source": [
                "EXEC EladasokBeirasa 'Bleriot', 'Hugo', 'pezsgo', 2, 40 "
            ],
            "metadata": {
                "azdata_cell_guid": "93dc2ec8-68b5-4972-9b3f-3ce188c8389a",
                "language": "sql"
            },
            "outputs": [
                {
                    "output_type": "error",
                    "evalue": "Msg 50000, Level 16, State 1, Procedure EladasokBeirasa, Line 19\r\nHiba: A kocsma nincs benne az adatbazisban.",
                    "ename": "",
                    "traceback": []
                },
                {
                    "output_type": "display_data",
                    "data": {
                        "text/html": "Total execution time: 00:00:00.020"
                    },
                    "metadata": {}
                }
            ],
            "execution_count": 37
        },
        {
            "cell_type": "code",
            "source": [
                "EXEC EladasokBeirasa 'Sosanna Segeswoeth', 'Hugo', 'pezsgo', 2, 40 "
            ],
            "metadata": {
                "language": "sql",
                "azdata_cell_guid": "aab2d92a-f0ee-4cf0-9c33-f8696328eb5f"
            },
            "outputs": [
                {
                    "output_type": "display_data",
                    "data": {
                        "text/html": "Commands completed successfully."
                    },
                    "metadata": {}
                },
                {
                    "output_type": "display_data",
                    "data": {
                        "text/html": "Total execution time: 00:00:00.026"
                    },
                    "metadata": {}
                }
            ],
            "execution_count": 39
        },
        {
            "cell_type": "code",
            "source": [
                "SELECT * From Eladasok\r\n",
                "SELECT Nev, KocsmaID FROM Kocsmak\r\n",
                "SELECT Nev, ItalID FROM Italok\r\n",
                "SELECT * FROM ItalTipusok\r\n",
                "SELECT * FROM Arak"
            ],
            "metadata": {
                "language": "sql",
                "azdata_cell_guid": "28be950c-2589-4495-b765-ae6a9481968d"
            },
            "outputs": [
                {
                    "output_type": "display_data",
                    "data": {
                        "text/html": "(2 rows affected)"
                    },
                    "metadata": {}
                },
                {
                    "output_type": "display_data",
                    "data": {
                        "text/html": "(12 rows affected)"
                    },
                    "metadata": {}
                },
                {
                    "output_type": "display_data",
                    "data": {
                        "text/html": "(12 rows affected)"
                    },
                    "metadata": {}
                },
                {
                    "output_type": "display_data",
                    "data": {
                        "text/html": "(7 rows affected)"
                    },
                    "metadata": {}
                },
                {
                    "output_type": "display_data",
                    "data": {
                        "text/html": "(32 rows affected)"
                    },
                    "metadata": {}
                },
                {
                    "output_type": "display_data",
                    "data": {
                        "text/html": "Total execution time: 00:00:00.061"
                    },
                    "metadata": {}
                },
                {
                    "output_type": "execute_result",
                    "metadata": {},
                    "execution_count": 40,
                    "data": {
                        "application/vnd.dataresource+json": {
                            "schema": {
                                "fields": [
                                    {
                                        "name": "ItalID"
                                    },
                                    {
                                        "name": "KocsmaID"
                                    },
                                    {
                                        "name": "Mennyiseg"
                                    },
                                    {
                                        "name": "Egysegar"
                                    },
                                    {
                                        "name": "Datum"
                                    }
                                ]
                            },
                            "data": [
                                {
                                    "ItalID": "11",
                                    "KocsmaID": "4",
                                    "Mennyiseg": "3",
                                    "Egysegar": "10.5",
                                    "Datum": "2024-01-06"
                                },
                                {
                                    "ItalID": "12",
                                    "KocsmaID": "10",
                                    "Mennyiseg": "2",
                                    "Egysegar": "40",
                                    "Datum": "2024-01-06"
                                }
                            ]
                        },
                        "text/html": [
                            "<table>",
                            "<tr><th>ItalID</th><th>KocsmaID</th><th>Mennyiseg</th><th>Egysegar</th><th>Datum</th></tr>",
                            "<tr><td>11</td><td>4</td><td>3</td><td>10.5</td><td>2024-01-06</td></tr>",
                            "<tr><td>12</td><td>10</td><td>2</td><td>40</td><td>2024-01-06</td></tr>",
                            "</table>"
                        ]
                    }
                },
                {
                    "output_type": "execute_result",
                    "metadata": {},
                    "execution_count": 40,
                    "data": {
                        "application/vnd.dataresource+json": {
                            "schema": {
                                "fields": [
                                    {
                                        "name": "Nev"
                                    },
                                    {
                                        "name": "KocsmaID"
                                    }
                                ]
                            },
                            "data": [
                                {
                                    "Nev": "Frederico Sawley",
                                    "KocsmaID": "1"
                                },
                                {
                                    "Nev": "Orren Broadhurst",
                                    "KocsmaID": "2"
                                },
                                {
                                    "Nev": "Daisy Geeve",
                                    "KocsmaID": "3"
                                },
                                {
                                    "Nev": "Hedwiga Ledbetter",
                                    "KocsmaID": "4"
                                },
                                {
                                    "Nev": "Talia Henrionot",
                                    "KocsmaID": "5"
                                },
                                {
                                    "Nev": "Nilson Allflatt",
                                    "KocsmaID": "6"
                                },
                                {
                                    "Nev": "Lewes Ashbrook",
                                    "KocsmaID": "7"
                                },
                                {
                                    "Nev": "Sandra Tweed",
                                    "KocsmaID": "8"
                                },
                                {
                                    "Nev": "Perrine Chuney",
                                    "KocsmaID": "9"
                                },
                                {
                                    "Nev": "Sosanna Segeswoeth",
                                    "KocsmaID": "10"
                                },
                                {
                                    "Nev": "Lewes Ledbetter",
                                    "KocsmaID": "11"
                                },
                                {
                                    "Nev": "Planetarium",
                                    "KocsmaID": "12"
                                }
                            ]
                        },
                        "text/html": [
                            "<table>",
                            "<tr><th>Nev</th><th>KocsmaID</th></tr>",
                            "<tr><td>Frederico Sawley</td><td>1</td></tr>",
                            "<tr><td>Orren Broadhurst</td><td>2</td></tr>",
                            "<tr><td>Daisy Geeve</td><td>3</td></tr>",
                            "<tr><td>Hedwiga Ledbetter</td><td>4</td></tr>",
                            "<tr><td>Talia Henrionot</td><td>5</td></tr>",
                            "<tr><td>Nilson Allflatt</td><td>6</td></tr>",
                            "<tr><td>Lewes Ashbrook</td><td>7</td></tr>",
                            "<tr><td>Sandra Tweed</td><td>8</td></tr>",
                            "<tr><td>Perrine Chuney</td><td>9</td></tr>",
                            "<tr><td>Sosanna Segeswoeth</td><td>10</td></tr>",
                            "<tr><td>Lewes Ledbetter</td><td>11</td></tr>",
                            "<tr><td>Planetarium</td><td>12</td></tr>",
                            "</table>"
                        ]
                    }
                },
                {
                    "output_type": "execute_result",
                    "metadata": {},
                    "execution_count": 40,
                    "data": {
                        "application/vnd.dataresource+json": {
                            "schema": {
                                "fields": [
                                    {
                                        "name": "Nev"
                                    },
                                    {
                                        "name": "ItalID"
                                    }
                                ]
                            },
                            "data": [
                                {
                                    "Nev": "Valenties",
                                    "ItalID": "1"
                                },
                                {
                                    "Nev": "Alexandrion",
                                    "ItalID": "2"
                                },
                                {
                                    "Nev": "Absolute",
                                    "ItalID": "3"
                                },
                                {
                                    "Nev": "Alexander",
                                    "ItalID": "4"
                                },
                                {
                                    "Nev": "V33",
                                    "ItalID": "5"
                                },
                                {
                                    "Nev": "Tatra tea",
                                    "ItalID": "6"
                                },
                                {
                                    "Nev": "Coca Cola",
                                    "ItalID": "7"
                                },
                                {
                                    "Nev": "Banderas",
                                    "ItalID": "8"
                                },
                                {
                                    "Nev": "Fekete tea",
                                    "ItalID": "9"
                                },
                                {
                                    "Nev": "Kinley",
                                    "ItalID": "10"
                                },
                                {
                                    "Nev": "rose",
                                    "ItalID": "11"
                                },
                                {
                                    "Nev": "Hugo",
                                    "ItalID": "12"
                                }
                            ]
                        },
                        "text/html": [
                            "<table>",
                            "<tr><th>Nev</th><th>ItalID</th></tr>",
                            "<tr><td>Valenties</td><td>1</td></tr>",
                            "<tr><td>Alexandrion</td><td>2</td></tr>",
                            "<tr><td>Absolute</td><td>3</td></tr>",
                            "<tr><td>Alexander</td><td>4</td></tr>",
                            "<tr><td>V33</td><td>5</td></tr>",
                            "<tr><td>Tatra tea</td><td>6</td></tr>",
                            "<tr><td>Coca Cola</td><td>7</td></tr>",
                            "<tr><td>Banderas</td><td>8</td></tr>",
                            "<tr><td>Fekete tea</td><td>9</td></tr>",
                            "<tr><td>Kinley</td><td>10</td></tr>",
                            "<tr><td>rose</td><td>11</td></tr>",
                            "<tr><td>Hugo</td><td>12</td></tr>",
                            "</table>"
                        ]
                    }
                },
                {
                    "output_type": "execute_result",
                    "metadata": {},
                    "execution_count": 40,
                    "data": {
                        "application/vnd.dataresource+json": {
                            "schema": {
                                "fields": [
                                    {
                                        "name": "TipusID"
                                    },
                                    {
                                        "name": "TipusNev"
                                    }
                                ]
                            },
                            "data": [
                                {
                                    "TipusID": "6",
                                    "TipusNev": "bor"
                                },
                                {
                                    "TipusID": "3",
                                    "TipusNev": "konyak"
                                },
                                {
                                    "TipusID": "7",
                                    "TipusNev": "pezsgo"
                                },
                                {
                                    "TipusID": "4",
                                    "TipusNev": "tea"
                                },
                                {
                                    "TipusID": "5",
                                    "TipusNev": "tonic"
                                },
                                {
                                    "TipusID": "2",
                                    "TipusNev": "vodka"
                                },
                                {
                                    "TipusID": "1",
                                    "TipusNev": "whiskey"
                                }
                            ]
                        },
                        "text/html": [
                            "<table>",
                            "<tr><th>TipusID</th><th>TipusNev</th></tr>",
                            "<tr><td>6</td><td>bor</td></tr>",
                            "<tr><td>3</td><td>konyak</td></tr>",
                            "<tr><td>7</td><td>pezsgo</td></tr>",
                            "<tr><td>4</td><td>tea</td></tr>",
                            "<tr><td>5</td><td>tonic</td></tr>",
                            "<tr><td>2</td><td>vodka</td></tr>",
                            "<tr><td>1</td><td>whiskey</td></tr>",
                            "</table>"
                        ]
                    }
                },
                {
                    "output_type": "execute_result",
                    "metadata": {},
                    "execution_count": 40,
                    "data": {
                        "application/vnd.dataresource+json": {
                            "schema": {
                                "fields": [
                                    {
                                        "name": "KocsmaID"
                                    },
                                    {
                                        "name": "ItalID"
                                    },
                                    {
                                        "name": "Ar"
                                    }
                                ]
                            },
                            "data": [
                                {
                                    "KocsmaID": "1",
                                    "ItalID": "1",
                                    "Ar": "8"
                                },
                                {
                                    "KocsmaID": "1",
                                    "ItalID": "2",
                                    "Ar": "16"
                                },
                                {
                                    "KocsmaID": "1",
                                    "ItalID": "4",
                                    "Ar": "9"
                                },
                                {
                                    "KocsmaID": "1",
                                    "ItalID": "5",
                                    "Ar": "6"
                                },
                                {
                                    "KocsmaID": "1",
                                    "ItalID": "8",
                                    "Ar": "45"
                                },
                                {
                                    "KocsmaID": "1",
                                    "ItalID": "9",
                                    "Ar": "25"
                                },
                                {
                                    "KocsmaID": "1",
                                    "ItalID": "10",
                                    "Ar": "29"
                                },
                                {
                                    "KocsmaID": "2",
                                    "ItalID": "2",
                                    "Ar": "38"
                                },
                                {
                                    "KocsmaID": "2",
                                    "ItalID": "7",
                                    "Ar": "39"
                                },
                                {
                                    "KocsmaID": "2",
                                    "ItalID": "10",
                                    "Ar": "32"
                                },
                                {
                                    "KocsmaID": "4",
                                    "ItalID": "2",
                                    "Ar": "30"
                                },
                                {
                                    "KocsmaID": "4",
                                    "ItalID": "6",
                                    "Ar": "33"
                                },
                                {
                                    "KocsmaID": "4",
                                    "ItalID": "7",
                                    "Ar": "15"
                                },
                                {
                                    "KocsmaID": "4",
                                    "ItalID": "9",
                                    "Ar": "29"
                                },
                                {
                                    "KocsmaID": "4",
                                    "ItalID": "11",
                                    "Ar": "10"
                                },
                                {
                                    "KocsmaID": "5",
                                    "ItalID": "2",
                                    "Ar": "21"
                                },
                                {
                                    "KocsmaID": "6",
                                    "ItalID": "3",
                                    "Ar": "6"
                                },
                                {
                                    "KocsmaID": "6",
                                    "ItalID": "5",
                                    "Ar": "39"
                                },
                                {
                                    "KocsmaID": "7",
                                    "ItalID": "3",
                                    "Ar": "21"
                                },
                                {
                                    "KocsmaID": "7",
                                    "ItalID": "4",
                                    "Ar": "19"
                                },
                                {
                                    "KocsmaID": "7",
                                    "ItalID": "9",
                                    "Ar": "17"
                                },
                                {
                                    "KocsmaID": "8",
                                    "ItalID": "2",
                                    "Ar": "35"
                                },
                                {
                                    "KocsmaID": "8",
                                    "ItalID": "9",
                                    "Ar": "22"
                                },
                                {
                                    "KocsmaID": "8",
                                    "ItalID": "10",
                                    "Ar": "29"
                                },
                                {
                                    "KocsmaID": "9",
                                    "ItalID": "2",
                                    "Ar": "16"
                                },
                                {
                                    "KocsmaID": "9",
                                    "ItalID": "3",
                                    "Ar": "39"
                                },
                                {
                                    "KocsmaID": "9",
                                    "ItalID": "4",
                                    "Ar": "28"
                                },
                                {
                                    "KocsmaID": "9",
                                    "ItalID": "5",
                                    "Ar": "36"
                                },
                                {
                                    "KocsmaID": "10",
                                    "ItalID": "4",
                                    "Ar": "8"
                                },
                                {
                                    "KocsmaID": "10",
                                    "ItalID": "12",
                                    "Ar": "40"
                                },
                                {
                                    "KocsmaID": "11",
                                    "ItalID": "9",
                                    "Ar": "6"
                                },
                                {
                                    "KocsmaID": "12",
                                    "ItalID": "11",
                                    "Ar": "9"
                                }
                            ]
                        },
                        "text/html": [
                            "<table>",
                            "<tr><th>KocsmaID</th><th>ItalID</th><th>Ar</th></tr>",
                            "<tr><td>1</td><td>1</td><td>8</td></tr>",
                            "<tr><td>1</td><td>2</td><td>16</td></tr>",
                            "<tr><td>1</td><td>4</td><td>9</td></tr>",
                            "<tr><td>1</td><td>5</td><td>6</td></tr>",
                            "<tr><td>1</td><td>8</td><td>45</td></tr>",
                            "<tr><td>1</td><td>9</td><td>25</td></tr>",
                            "<tr><td>1</td><td>10</td><td>29</td></tr>",
                            "<tr><td>2</td><td>2</td><td>38</td></tr>",
                            "<tr><td>2</td><td>7</td><td>39</td></tr>",
                            "<tr><td>2</td><td>10</td><td>32</td></tr>",
                            "<tr><td>4</td><td>2</td><td>30</td></tr>",
                            "<tr><td>4</td><td>6</td><td>33</td></tr>",
                            "<tr><td>4</td><td>7</td><td>15</td></tr>",
                            "<tr><td>4</td><td>9</td><td>29</td></tr>",
                            "<tr><td>4</td><td>11</td><td>10</td></tr>",
                            "<tr><td>5</td><td>2</td><td>21</td></tr>",
                            "<tr><td>6</td><td>3</td><td>6</td></tr>",
                            "<tr><td>6</td><td>5</td><td>39</td></tr>",
                            "<tr><td>7</td><td>3</td><td>21</td></tr>",
                            "<tr><td>7</td><td>4</td><td>19</td></tr>",
                            "<tr><td>7</td><td>9</td><td>17</td></tr>",
                            "<tr><td>8</td><td>2</td><td>35</td></tr>",
                            "<tr><td>8</td><td>9</td><td>22</td></tr>",
                            "<tr><td>8</td><td>10</td><td>29</td></tr>",
                            "<tr><td>9</td><td>2</td><td>16</td></tr>",
                            "<tr><td>9</td><td>3</td><td>39</td></tr>",
                            "<tr><td>9</td><td>4</td><td>28</td></tr>",
                            "<tr><td>9</td><td>5</td><td>36</td></tr>",
                            "<tr><td>10</td><td>4</td><td>8</td></tr>",
                            "<tr><td>10</td><td>12</td><td>40</td></tr>",
                            "<tr><td>11</td><td>9</td><td>6</td></tr>",
                            "<tr><td>12</td><td>11</td><td>9</td></tr>",
                            "</table>"
                        ]
                    }
                }
            ],
            "execution_count": 40
        },
        {
            "cell_type": "code",
            "source": [
                "EXEC EladasokBeirasa 'Sosanna Segeswoeth', 'Hugo', 'pezsgo', -4, 40 "
            ],
            "metadata": {
                "language": "sql",
                "azdata_cell_guid": "62b098da-8cbf-4325-b647-345e95bfd3fa"
            },
            "outputs": [
                {
                    "output_type": "error",
                    "evalue": "Msg 50000, Level 16, State 2, Procedure EladasokBeirasa, Line 24\r\nHiba: Az eladott mennyiseg nem pozitiv",
                    "ename": "",
                    "traceback": []
                },
                {
                    "output_type": "display_data",
                    "data": {
                        "text/html": "Total execution time: 00:00:00.018"
                    },
                    "metadata": {}
                }
            ],
            "execution_count": 41
        }
    ]
}