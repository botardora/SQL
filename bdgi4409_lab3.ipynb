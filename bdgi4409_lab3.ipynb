{
    "metadata": {
        "kernelspec": {
            "name": "SQL",
            "display_name": "SQL",
            "language": "sql"
        },
        "language_info": {
            "name": "sql",
            "version": ""
        }
    },
    "nbformat_minor": 2,
    "nbformat": 4,
    "cells": [
        {
            "cell_type": "markdown",
            "source": [
                "1. Írjunk **tárolt eljárást**, amely meghatározza azokat a kocsmákat, amelyekben legalább 2 olyan italt árulnak, mint a paraméterként megadott kocsma (@KocsmaNev varchar(30) típusú)! Ha nincs ilyen kocsma, írjunk ki hibaüzenetet, majd szúrjuk be a kocsmát az adatbázisba!"
            ],
            "metadata": {
                "azdata_cell_guid": "aea7c913-031d-48f9-95e3-47a8eaf77226"
            },
            "attachments": {}
        },
        {
            "cell_type": "code",
            "source": [
                "CREATE OR ALTER PROCEDURE KocsmakEsItalok (\r\n",
                "    @KocsmaNev varchar(30)\r\n",
                ")\r\n",
                "AS\r\n",
                "BEGIN\r\n",
                "    DECLARE @KID INT\r\n",
                "    DECLARE @newID INT\r\n",
                "\r\n",
                "    SELECT @KID = KocsmaID FROM Kocsmak \r\n",
                "    WHERE Nev = @KocsmaNev\r\n",
                "\r\n",
                "    IF @KID IS NULL\r\n",
                "    BEGIN\r\n",
                "        PRINT 'NINCS ILYEN KOCSMA'\r\n",
                "        SELECT @newID = (SELECT COUNT(KocsmaID) FROM Kocsmak) + 1\r\n",
                "        INSERT INTO Kocsmak (KocsmaID, Nev, Cim, NyitasDatuma) VALUES (@newID, @KocsmaNev, 'UNKNOWN', GETDATE())\r\n",
                "        \r\n",
                "        RETURN\r\n",
                "    END\r\n",
                "\r\n",
                "    SELECT k.Nev AS KocsmaNeve, COUNT(*) AS ItalSzam FROM Kocsmak k \r\n",
                "    INNER JOIN Arak a ON k.KocsmaID = a.KocsmaID\r\n",
                "    WHERE a.ItalID IN (\r\n",
                "            SELECT ItalID FROM Arak\r\n",
                "            WHERE KocsmaID = @KID AND K.KocsmaID != @KID\r\n",
                "        )\r\n",
                "    GROUP BY k.Nev\r\n",
                "    HAVING COUNT(*) >= 2\r\n",
                "END"
            ],
            "metadata": {
                "azdata_cell_guid": "ce482c8f-5714-482a-9b05-4c11b66b1944",
                "language": "sql"
            },
            "outputs": [
                {
                    "output_type": "display_data",
                    "data": {
                        "text/html": "Commands completed successfully."
                    },
                    "metadata": {}
                },
                {
                    "output_type": "display_data",
                    "data": {
                        "text/html": "Total execution time: 00:00:00.008"
                    },
                    "metadata": {}
                }
            ],
            "execution_count": 49
        },
        {
            "cell_type": "code",
            "source": [
                "EXEC KocsmakEsItalok @KocsmaNev = 'Sandra Tweed'"
            ],
            "metadata": {
                "azdata_cell_guid": "b218f69c-54ed-4af2-a014-c916a72bb61f",
                "language": "sql"
            },
            "outputs": [
                {
                    "output_type": "display_data",
                    "data": {
                        "text/html": "(3 rows affected)"
                    },
                    "metadata": {}
                },
                {
                    "output_type": "display_data",
                    "data": {
                        "text/html": "Total execution time: 00:00:00.020"
                    },
                    "metadata": {}
                },
                {
                    "output_type": "execute_result",
                    "execution_count": 50,
                    "data": {
                        "application/vnd.dataresource+json": {
                            "schema": {
                                "fields": [
                                    {
                                        "name": "KocsmaNeve"
                                    },
                                    {
                                        "name": "ItalSzam"
                                    }
                                ]
                            },
                            "data": [
                                {
                                    "KocsmaNeve": "Frederico Sawley",
                                    "ItalSzam": "3"
                                },
                                {
                                    "KocsmaNeve": "Hedwiga Ledbetter",
                                    "ItalSzam": "2"
                                },
                                {
                                    "KocsmaNeve": "Orren Broadhurst",
                                    "ItalSzam": "2"
                                }
                            ]
                        },
                        "text/html": "<table><tr><th>KocsmaNeve</th><th>ItalSzam</th></tr><tr><td>Frederico Sawley</td><td>3</td></tr><tr><td>Hedwiga Ledbetter</td><td>2</td></tr><tr><td>Orren Broadhurst</td><td>2</td></tr></table>"
                    },
                    "metadata": {}
                }
            ],
            "execution_count": 50
        },
        {
            "cell_type": "code",
            "source": [
                "EXEC KocsmakEsItalok @KocsmaNev = 'Planetarium'"
            ],
            "metadata": {
                "azdata_cell_guid": "14fa9938-c2e5-4a16-a278-258fd4c83d1c",
                "language": "sql"
            },
            "outputs": [
                {
                    "output_type": "display_data",
                    "data": {
                        "text/html": "NINCS ILYEN KOCSMA"
                    },
                    "metadata": {}
                },
                {
                    "output_type": "display_data",
                    "data": {
                        "text/html": "(1 row affected)"
                    },
                    "metadata": {}
                },
                {
                    "output_type": "display_data",
                    "data": {
                        "text/html": "Total execution time: 00:00:00.007"
                    },
                    "metadata": {}
                }
            ],
            "execution_count": 30
        },
        {
            "cell_type": "code",
            "source": [
                "SELECT * FROM Kocsmak\r\n",
                "SELECT * FROM Baratok\r\n",
                "SELECT * FROM ItalTipusok"
            ],
            "metadata": {
                "azdata_cell_guid": "c0cfdfbe-58ec-4216-919c-af09d54a4174",
                "language": "sql"
            },
            "outputs": [
                {
                    "output_type": "display_data",
                    "data": {
                        "text/html": "(13 rows affected)"
                    },
                    "metadata": {}
                },
                {
                    "output_type": "display_data",
                    "data": {
                        "text/html": "(16 rows affected)"
                    },
                    "metadata": {}
                },
                {
                    "output_type": "display_data",
                    "data": {
                        "text/html": "(5 rows affected)"
                    },
                    "metadata": {}
                },
                {
                    "output_type": "display_data",
                    "data": {
                        "text/html": "Total execution time: 00:00:00.046"
                    },
                    "metadata": {}
                },
                {
                    "output_type": "execute_result",
                    "execution_count": 35,
                    "data": {
                        "application/vnd.dataresource+json": {
                            "schema": {
                                "fields": [
                                    {
                                        "name": "KocsmaID"
                                    },
                                    {
                                        "name": "Nev"
                                    },
                                    {
                                        "name": "Cim"
                                    },
                                    {
                                        "name": "NyitasDatuma"
                                    }
                                ]
                            },
                            "data": [
                                {
                                    "KocsmaID": "1",
                                    "Nev": "Frederico Sawley",
                                    "Cim": "9 Logan Way",
                                    "NyitasDatuma": "2014-12-06"
                                },
                                {
                                    "KocsmaID": "2",
                                    "Nev": "Orren Broadhurst",
                                    "Cim": "87124 Basil Avenue",
                                    "NyitasDatuma": "2016-12-20"
                                },
                                {
                                    "KocsmaID": "3",
                                    "Nev": "Daisy Geeve",
                                    "Cim": "5265 Maple Wood Point",
                                    "NyitasDatuma": "2010-08-26"
                                },
                                {
                                    "KocsmaID": "4",
                                    "Nev": "Hedwiga Ledbetter",
                                    "Cim": "6 Packers Parkway",
                                    "NyitasDatuma": "2012-07-07"
                                },
                                {
                                    "KocsmaID": "5",
                                    "Nev": "Talia Henrionot",
                                    "Cim": "20571 Waxwing Junction",
                                    "NyitasDatuma": "2016-12-07"
                                },
                                {
                                    "KocsmaID": "6",
                                    "Nev": "Nilson Allflatt",
                                    "Cim": "954 Roth Pass",
                                    "NyitasDatuma": "2017-09-16"
                                },
                                {
                                    "KocsmaID": "7",
                                    "Nev": "Lewes Ashbrook",
                                    "Cim": "10 Clyde Gallagher Crossing",
                                    "NyitasDatuma": "2012-10-08"
                                },
                                {
                                    "KocsmaID": "8",
                                    "Nev": "Sandra Tweed",
                                    "Cim": "8 Superior Alley",
                                    "NyitasDatuma": "2011-08-28"
                                },
                                {
                                    "KocsmaID": "9",
                                    "Nev": "Perrine Chuney",
                                    "Cim": "26 Almo Road",
                                    "NyitasDatuma": "2015-10-12"
                                },
                                {
                                    "KocsmaID": "10",
                                    "Nev": "Sosanna Segeswoeth",
                                    "Cim": "4 Cody Park",
                                    "NyitasDatuma": "2013-08-30"
                                },
                                {
                                    "KocsmaID": "11",
                                    "Nev": "Lewes Ledbetter",
                                    "Cim": "6 Hyde Park",
                                    "NyitasDatuma": "2016-12-25"
                                },
                                {
                                    "KocsmaID": "12",
                                    "Nev": "Insomnia",
                                    "Cim": "UNKNOWN",
                                    "NyitasDatuma": "2023-11-25"
                                },
                                {
                                    "KocsmaID": "13",
                                    "Nev": "Planetarium",
                                    "Cim": "UNKNOWN",
                                    "NyitasDatuma": "2023-11-25"
                                }
                            ]
                        },
                        "text/html": "<table><tr><th>KocsmaID</th><th>Nev</th><th>Cim</th><th>NyitasDatuma</th></tr><tr><td>1</td><td>Frederico Sawley</td><td>9 Logan Way</td><td>2014-12-06</td></tr><tr><td>2</td><td>Orren Broadhurst</td><td>87124 Basil Avenue</td><td>2016-12-20</td></tr><tr><td>3</td><td>Daisy Geeve</td><td>5265 Maple Wood Point</td><td>2010-08-26</td></tr><tr><td>4</td><td>Hedwiga Ledbetter</td><td>6 Packers Parkway</td><td>2012-07-07</td></tr><tr><td>5</td><td>Talia Henrionot</td><td>20571 Waxwing Junction</td><td>2016-12-07</td></tr><tr><td>6</td><td>Nilson Allflatt</td><td>954 Roth Pass</td><td>2017-09-16</td></tr><tr><td>7</td><td>Lewes Ashbrook</td><td>10 Clyde Gallagher Crossing</td><td>2012-10-08</td></tr><tr><td>8</td><td>Sandra Tweed</td><td>8 Superior Alley</td><td>2011-08-28</td></tr><tr><td>9</td><td>Perrine Chuney</td><td>26 Almo Road</td><td>2015-10-12</td></tr><tr><td>10</td><td>Sosanna Segeswoeth</td><td>4 Cody Park</td><td>2013-08-30</td></tr><tr><td>11</td><td>Lewes Ledbetter</td><td>6 Hyde Park</td><td>2016-12-25</td></tr><tr><td>12</td><td>Insomnia</td><td>UNKNOWN</td><td>2023-11-25</td></tr><tr><td>13</td><td>Planetarium</td><td>UNKNOWN</td><td>2023-11-25</td></tr></table>"
                    },
                    "metadata": {}
                },
                {
                    "output_type": "execute_result",
                    "execution_count": 35,
                    "data": {
                        "application/vnd.dataresource+json": {
                            "schema": {
                                "fields": [
                                    {
                                        "name": "BaratID"
                                    },
                                    {
                                        "name": "Nev"
                                    },
                                    {
                                        "name": "Tel"
                                    },
                                    {
                                        "name": "Email"
                                    },
                                    {
                                        "name": "Cim"
                                    }
                                ]
                            },
                            "data": [
                                {
                                    "BaratID": "1",
                                    "Nev": "Fern Dunphy",
                                    "Tel": "6483578626",
                                    "Email": "fdunphy0@princeton.edu",
                                    "Cim": "8261 Waxwing Place"
                                },
                                {
                                    "BaratID": "2",
                                    "Nev": "Dinnie Hebble",
                                    "Tel": "1821798103",
                                    "Email": "dhebble1@angelfire.com",
                                    "Cim": "76066 Tennessee Road"
                                },
                                {
                                    "BaratID": "3",
                                    "Nev": "Prisca Dronsfield",
                                    "Tel": "8331573181",
                                    "Email": "pdronsfield2@guardian.co.uk",
                                    "Cim": "5824 Brown Center"
                                },
                                {
                                    "BaratID": "4",
                                    "Nev": "Dennie Billison",
                                    "Tel": "2911989379",
                                    "Email": "dbillison3@twitter.com",
                                    "Cim": "9 Bay Lane"
                                },
                                {
                                    "BaratID": "5",
                                    "Nev": "Elle Shortell",
                                    "Tel": "8449569855",
                                    "Email": "eshortell4@topsy.com",
                                    "Cim": "291 Holy Cross Parkway"
                                },
                                {
                                    "BaratID": "6",
                                    "Nev": "Gipsy Yashunin",
                                    "Tel": "6315387706",
                                    "Email": "gyashunin5@csmonitor.com",
                                    "Cim": "9 Meadow Ridge Hill"
                                },
                                {
                                    "BaratID": "7",
                                    "Nev": "Aarika Mashal",
                                    "Tel": "5523618089",
                                    "Email": "amashal6@wired.com",
                                    "Cim": "288 Lotheville Avenue"
                                },
                                {
                                    "BaratID": "8",
                                    "Nev": "Celestina Woolaston",
                                    "Tel": "9998149794",
                                    "Email": "cwoolaston7@alibaba.gov.cn",
                                    "Cim": "934 Kings Center"
                                },
                                {
                                    "BaratID": "9",
                                    "Nev": "Garvey Chartre",
                                    "Tel": "4934922638",
                                    "Email": "gchartre8@alibaba.com",
                                    "Cim": "218 Spenser Terrace"
                                },
                                {
                                    "BaratID": "10",
                                    "Nev": "Rik Turbard",
                                    "Tel": "8485977307",
                                    "Email": "rturbard9@vistaprint.com",
                                    "Cim": "737 Ramsey Plaza"
                                },
                                {
                                    "BaratID": "11",
                                    "Nev": "Lucius Elce",
                                    "Tel": "4104352971",
                                    "Email": "lelcea@taobao.com",
                                    "Cim": "3636 Mockingbird Lane"
                                },
                                {
                                    "BaratID": "12",
                                    "Nev": "Adeline Whittington",
                                    "Tel": "6226594773",
                                    "Email": "awhittingtonb@kickstarter.com",
                                    "Cim": "09 Lillian Street"
                                },
                                {
                                    "BaratID": "13",
                                    "Nev": "Ganny Ffoulkes",
                                    "Tel": "4649570937",
                                    "Email": "gffoulkesc@qq.com",
                                    "Cim": "26595 Macpherson Court"
                                },
                                {
                                    "BaratID": "14",
                                    "Nev": "Bryn Darragon",
                                    "Tel": "7278018298",
                                    "Email": "bdarragond@youtube.com",
                                    "Cim": "782 Fremont Crossing"
                                },
                                {
                                    "BaratID": "15",
                                    "Nev": "Karim Measor",
                                    "Tel": "3237902132",
                                    "Email": "kmeasore@sitemeter.com",
                                    "Cim": "10 Division Lane"
                                },
                                {
                                    "BaratID": "16",
                                    "Nev": "Rik Turbard",
                                    "Tel": "88888833344",
                                    "Email": "rik1@sitemeter.com",
                                    "Cim": "10 Avenue Lane"
                                }
                            ]
                        },
                        "text/html": "<table><tr><th>BaratID</th><th>Nev</th><th>Tel</th><th>Email</th><th>Cim</th></tr><tr><td>1</td><td>Fern Dunphy</td><td>6483578626</td><td>fdunphy0@princeton.edu</td><td>8261 Waxwing Place</td></tr><tr><td>2</td><td>Dinnie Hebble</td><td>1821798103</td><td>dhebble1@angelfire.com</td><td>76066 Tennessee Road</td></tr><tr><td>3</td><td>Prisca Dronsfield</td><td>8331573181</td><td>pdronsfield2@guardian.co.uk</td><td>5824 Brown Center</td></tr><tr><td>4</td><td>Dennie Billison</td><td>2911989379</td><td>dbillison3@twitter.com</td><td>9 Bay Lane</td></tr><tr><td>5</td><td>Elle Shortell</td><td>8449569855</td><td>eshortell4@topsy.com</td><td>291 Holy Cross Parkway</td></tr><tr><td>6</td><td>Gipsy Yashunin</td><td>6315387706</td><td>gyashunin5@csmonitor.com</td><td>9 Meadow Ridge Hill</td></tr><tr><td>7</td><td>Aarika Mashal</td><td>5523618089</td><td>amashal6@wired.com</td><td>288 Lotheville Avenue</td></tr><tr><td>8</td><td>Celestina Woolaston</td><td>9998149794</td><td>cwoolaston7@alibaba.gov.cn</td><td>934 Kings Center</td></tr><tr><td>9</td><td>Garvey Chartre</td><td>4934922638</td><td>gchartre8@alibaba.com</td><td>218 Spenser Terrace</td></tr><tr><td>10</td><td>Rik Turbard</td><td>8485977307</td><td>rturbard9@vistaprint.com</td><td>737 Ramsey Plaza</td></tr><tr><td>11</td><td>Lucius Elce</td><td>4104352971</td><td>lelcea@taobao.com</td><td>3636 Mockingbird Lane</td></tr><tr><td>12</td><td>Adeline Whittington</td><td>6226594773</td><td>awhittingtonb@kickstarter.com</td><td>09 Lillian Street</td></tr><tr><td>13</td><td>Ganny Ffoulkes</td><td>4649570937</td><td>gffoulkesc@qq.com</td><td>26595 Macpherson Court</td></tr><tr><td>14</td><td>Bryn Darragon</td><td>7278018298</td><td>bdarragond@youtube.com</td><td>782 Fremont Crossing</td></tr><tr><td>15</td><td>Karim Measor</td><td>3237902132</td><td>kmeasore@sitemeter.com</td><td>10 Division Lane</td></tr><tr><td>16</td><td>Rik Turbard</td><td>88888833344</td><td>rik1@sitemeter.com</td><td>10 Avenue Lane</td></tr></table>"
                    },
                    "metadata": {}
                },
                {
                    "output_type": "execute_result",
                    "execution_count": 35,
                    "data": {
                        "application/vnd.dataresource+json": {
                            "schema": {
                                "fields": [
                                    {
                                        "name": "TipusID"
                                    },
                                    {
                                        "name": "TipusNev"
                                    }
                                ]
                            },
                            "data": [
                                {
                                    "TipusID": "3",
                                    "TipusNev": "konyak"
                                },
                                {
                                    "TipusID": "4",
                                    "TipusNev": "tea"
                                },
                                {
                                    "TipusID": "5",
                                    "TipusNev": "tonic"
                                },
                                {
                                    "TipusID": "2",
                                    "TipusNev": "vodka"
                                },
                                {
                                    "TipusID": "1",
                                    "TipusNev": "whiskey"
                                }
                            ]
                        },
                        "text/html": "<table><tr><th>TipusID</th><th>TipusNev</th></tr><tr><td>3</td><td>konyak</td></tr><tr><td>4</td><td>tea</td></tr><tr><td>5</td><td>tonic</td></tr><tr><td>2</td><td>vodka</td></tr><tr><td>1</td><td>whiskey</td></tr></table>"
                    },
                    "metadata": {}
                }
            ],
            "execution_count": 35
        },
        {
            "cell_type": "markdown",
            "source": [
                "2. <span style=\"background-color: rgb(255, 255, 255); color: rgb(45, 59, 69); font-family: LatoWeb, &quot;Helvetica Neue&quot;, Helvetica, Arial, sans-serif; font-size: 16px;\">Írjunk&nbsp;</span> **függvényt**<span style=\"background-color: rgb(255, 255, 255); color: rgb(45, 59, 69); font-family: LatoWeb, &quot;Helvetica Neue&quot;, Helvetica, Arial, sans-serif; font-size: 16px;\">, melynek bemenő paraméterei: @pBaratNev, @pItaltipusNev. A függvény egy táblában térítse vissza azon kocsmá(k) nevét, címét és a kapható italok nevét és árát mely(ek)et a paraméterként megadott barát kedvel és ahol a megadott italtípusból kapható ital!</span>"
            ],
            "metadata": {
                "azdata_cell_guid": "8296db94-1b69-4b3a-96ab-488018e721c7"
            },
            "attachments": {}
        },
        {
            "cell_type": "code",
            "source": [
                "CREATE OR ALTER FUNCTION KedvencKocsmaEsItal (\r\n",
                "    @pBaratNev VARCHAR(30),\r\n",
                "    @pItaltipusNev VARCHAR(30)\r\n",
                ")\r\n",
                "RETURNS @Visszaterit TABLE\r\n",
                "(\r\n",
                "    KocsmaNev VARCHAR(30),\r\n",
                "    KocsmaCim VARCHAR(30),\r\n",
                "    ItalNev VARCHAR(30),\r\n",
                "    Ar INT\r\n",
                ")\r\n",
                "AS\r\n",
                "BEGIN\r\n",
                "    INSERT INTO @Visszaterit (KocsmaNev, KocsmaCim, ItalNev, Ar)\r\n",
                "    SELECT k.Nev, k.Cim, i.Nev, a.Ar FROM Baratok b\r\n",
                "    JOIN Kedvencek ke ON b.BaratID = ke.BaratID\r\n",
                "    JOIN Kocsmak k ON ke.KocsmaID = k.KocsmaID\r\n",
                "    JOIN Arak a ON k.KocsmaID = a.KocsmaID\r\n",
                "    JOIN Italok i ON a.ItalID = i.ItalID\r\n",
                "    JOIN ItalTipusok it ON i.TipusID = it.TipusID\r\n",
                "    WHERE b.Nev = @pBaratNev AND it.TipusNev = @pItaltipusNev\r\n",
                "\r\n",
                "    RETURN\r\n",
                "END\r\n",
                ""
            ],
            "metadata": {
                "azdata_cell_guid": "26dddfe0-3742-40fe-825c-4b886354cfec",
                "language": "sql"
            },
            "outputs": [
                {
                    "output_type": "display_data",
                    "data": {
                        "text/html": "Commands completed successfully."
                    },
                    "metadata": {}
                },
                {
                    "output_type": "display_data",
                    "data": {
                        "text/html": "Total execution time: 00:00:00.010"
                    },
                    "metadata": {}
                }
            ],
            "execution_count": 43
        },
        {
            "cell_type": "code",
            "source": [
                "SELECT * FROM KedvencKocsmaEsItal('Elle Shortell', 'vodka');"
            ],
            "metadata": {
                "language": "sql",
                "azdata_cell_guid": "0acbba24-0f2f-4bf0-a5e6-645196ffe24f"
            },
            "outputs": [
                {
                    "output_type": "display_data",
                    "data": {
                        "text/html": "(2 rows affected)"
                    },
                    "metadata": {}
                },
                {
                    "output_type": "display_data",
                    "data": {
                        "text/html": "Total execution time: 00:00:00.027"
                    },
                    "metadata": {}
                },
                {
                    "output_type": "execute_result",
                    "execution_count": 44,
                    "data": {
                        "application/vnd.dataresource+json": {
                            "schema": {
                                "fields": [
                                    {
                                        "name": "KocsmaNev"
                                    },
                                    {
                                        "name": "KocsmaCim"
                                    },
                                    {
                                        "name": "ItalNev"
                                    },
                                    {
                                        "name": "Ar"
                                    }
                                ]
                            },
                            "data": [
                                {
                                    "KocsmaNev": "Frederico Sawley",
                                    "KocsmaCim": "9 Logan Way",
                                    "ItalNev": "Alexander",
                                    "Ar": "9"
                                },
                                {
                                    "KocsmaNev": "Frederico Sawley",
                                    "KocsmaCim": "9 Logan Way",
                                    "ItalNev": "V33",
                                    "Ar": "6"
                                }
                            ]
                        },
                        "text/html": "<table><tr><th>KocsmaNev</th><th>KocsmaCim</th><th>ItalNev</th><th>Ar</th></tr><tr><td>Frederico Sawley</td><td>9 Logan Way</td><td>Alexander</td><td>9</td></tr><tr><td>Frederico Sawley</td><td>9 Logan Way</td><td>V33</td><td>6</td></tr></table>"
                    },
                    "metadata": {}
                }
            ],
            "execution_count": 44
        },
        {
            "cell_type": "markdown",
            "source": [
                "3. <span style=\"background-color: rgb(255, 255, 255); color: rgb(45, 59, 69); font-family: LatoWeb, &quot;Helvetica Neue&quot;, Helvetica, Arial, sans-serif; font-size: 16px;\">Írjunk&nbsp;</span> **DELETE triggert**<span style=\"background-color: rgb(255, 255, 255); color: rgb(45, 59, 69); font-family: LatoWeb, &quot;Helvetica Neue&quot;, Helvetica, Arial, sans-serif; font-size: 16px;\">, mely akkor aktiválódik, ha törlünk</span> **egy vagy több** <span style=\"background-color: rgb(255, 255, 255); color: rgb(45, 59, 69); font-family: LatoWeb, &quot;Helvetica Neue&quot;, Helvetica, Arial, sans-serif; font-size: 16px;\">sort az ItalTipusok táblából! (</span>**Figyelem!** <span style=\"background-color: rgb(255, 255, 255); color: rgb(45, 59, 69); font-family: LatoWeb, &quot;Helvetica Neue&quot;, Helvetica, Arial, sans-serif; font-size: 16px;\">A hivatkozási épség megszorítások fenntartása miatt probléma lehet, ha egy olyan italtípust szeretnék törölni, melyhez tartozik ital. Ezt a problémát orvosoljuk a trigger segítségével! Az adott italtípus mindenképp törlődjön a trigger végrehajtásának következtében!)</span>"
            ],
            "metadata": {
                "azdata_cell_guid": "977fd790-1d09-4814-83a8-a123398ed63a"
            },
            "attachments": {}
        },
        {
            "cell_type": "code",
            "source": [
                "CREATE OR ALTER TRIGGER italtipustorles ON ItalTipusok\r\n",
                "INSTEAD OF\r\n",
                "DELETE \r\n",
                "AS\r\n",
                "BEGIN\r\n",
                "    SET NOCOUNT ON\r\n",
                "\r\n",
                "    DECLARE @Torolve TABLE (ItalID INT)\r\n",
                "    INSERT INTO @Torolve (ItalID)\r\n",
                "    SELECT ItalID FROM Italok\r\n",
                "    WHERE TipusID IN (SELECT deleted.TipusID FROM deleted)\r\n",
                "\r\n",
                "    DELETE FROM Italok\r\n",
                "    WHERE ItalID IN (SELECT ItalID FROM @Torolve)\r\n",
                "\r\n",
                "    DELETE FROM Arak\r\n",
                "    WHERE ItalID IN (SELECT ItalID FROM @Torolve)\r\n",
                "\r\n",
                "    DELETE FROM ItalTipusok\r\n",
                "    WHERE TipusID IN (SELECT deleted.TipusID FROM deleted)\r\n",
                "\r\n",
                "    --DROP TABLE @Torolve(ItalID)\r\n",
                "END\r\n",
                ""
            ],
            "metadata": {
                "azdata_cell_guid": "a65d074d-a913-4162-bba5-a61d76e01ec3",
                "language": "sql"
            },
            "outputs": [
                {
                    "output_type": "display_data",
                    "data": {
                        "text/html": "Commands completed successfully."
                    },
                    "metadata": {}
                },
                {
                    "output_type": "display_data",
                    "data": {
                        "text/html": "Total execution time: 00:00:00.026"
                    },
                    "metadata": {}
                }
            ],
            "execution_count": 45
        },
        {
            "cell_type": "markdown",
            "source": [
                "4. <span style=\"background-color: rgb(255, 255, 255); color: rgb(45, 59, 69); font-family: LatoWeb, &quot;Helvetica Neue&quot;, Helvetica, Arial, sans-serif; font-size: 16px;\">Írjunk&nbsp;</span> **INSERT** <span style=\"background-color: rgb(255, 255, 255); color: rgb(45, 59, 69); font-family: LatoWeb, &quot;Helvetica Neue&quot;, Helvetica, Arial, sans-serif; font-size: 16px;\">és</span> **UPDATE** <span style=\"background-color: rgb(255, 255, 255); color: rgb(45, 59, 69); font-family: LatoWeb, &quot;Helvetica Neue&quot;, Helvetica, Arial, sans-serif; font-size: 16px;\">triggert az Arak táblára vonatkozóan, amely csak akkor engedélyezi a művelet végrehajtását, ha az árak összértéke</span> **5** <span style=\"background-color: rgb(255, 255, 255); color: rgb(45, 59, 69); font-family: LatoWeb, &quot;Helvetica Neue&quot;, Helvetica, Arial, sans-serif; font-size: 16px;\">és</span> **1000** <span style=\"background-color: rgb(255, 255, 255); color: rgb(45, 59, 69); font-family: LatoWeb, &quot;Helvetica Neue&quot;, Helvetica, Arial, sans-serif; font-size: 16px;\">között marad!</span>"
            ],
            "metadata": {
                "azdata_cell_guid": "0c7d33f9-26b1-492c-8456-b4fb39f0349f"
            },
            "attachments": {}
        },
        {
            "cell_type": "code",
            "source": [
                "CREATE OR ALTER TRIGGER insertEsUpdateArak ON Arak\r\n",
                "INSTEAD OF\r\n",
                "INSERT\r\n",
                "AS \r\n",
                "BEGIN\r\n",
                "    SET NOCOUNT ON\r\n",
                "    DECLARE @TeljesAr INT\r\n",
                "    SELECT @TeljesAr = SUM(Ar) FROM Arak\r\n",
                "\r\n",
                "    IF @TeljesAr < 5 OR @TeljesAr > 1000\r\n",
                "    BEGIN\r\n",
                "        PRINT 'Az arak osszerteke 5 es 1000 kozott kell legyen!'\r\n",
                "        RAISERROR ('Az arak osszerteke 5 es 1000 kozott kell legyen!', 16, 1)\r\n",
                "        ROLLBACK TRANSACTION\r\n",
                "    END\r\n",
                "    ELSE\r\n",
                "    BEGIN\r\n",
                "        INSERT INTO Arak (KocsmaID, ItalID, Ar)\r\n",
                "        SELECT KocsmaID, ItalID, Ar\r\n",
                "        FROM inserted\r\n",
                "    END\r\n",
                "END"
            ],
            "metadata": {
                "azdata_cell_guid": "1f34ba86-227d-441a-a680-cd9e37d800e7",
                "language": "sql"
            },
            "outputs": [
                {
                    "output_type": "display_data",
                    "data": {
                        "text/html": "Commands completed successfully."
                    },
                    "metadata": {}
                },
                {
                    "output_type": "display_data",
                    "data": {
                        "text/html": "Total execution time: 00:00:00.011"
                    },
                    "metadata": {}
                }
            ],
            "execution_count": 6
        },
        {
            "cell_type": "code",
            "source": [
                "INSERT INTO Arak (KocsmaID, ItalID, Ar) VALUES (1, 4, 500)"
            ],
            "metadata": {
                "language": "sql",
                "azdata_cell_guid": "f49e2ce3-65e9-44fe-80cf-f091bb85ccbf"
            },
            "outputs": [
                {
                    "output_type": "display_data",
                    "data": {
                        "text/html": "Az arak osszerteke 5 es 1000 kozott kell legyen!"
                    },
                    "metadata": {}
                },
                {
                    "output_type": "error",
                    "evalue": "Msg 50000, Level 16, State 1, Procedure insertEsUpdateArak, Line 13\r\nAz arak osszerteke 5 es 1000 kozott kell legyen!",
                    "ename": "",
                    "traceback": []
                },
                {
                    "output_type": "error",
                    "evalue": "Msg 3609, Level 16, State 1, Line 1\r\nThe transaction ended in the trigger. The batch has been aborted.",
                    "ename": "",
                    "traceback": []
                },
                {
                    "output_type": "display_data",
                    "data": {
                        "text/html": "Total execution time: 00:00:00.002"
                    },
                    "metadata": {}
                }
            ],
            "execution_count": 13
        },
        {
            "cell_type": "code",
            "source": [
                "select * FROM Arak"
            ],
            "metadata": {
                "language": "sql",
                "azdata_cell_guid": "2fef9fdd-cf2b-4b8e-b4be-99209c1ae0a9"
            },
            "outputs": [
                {
                    "output_type": "display_data",
                    "data": {
                        "text/html": "(30 rows affected)"
                    },
                    "metadata": {}
                },
                {
                    "output_type": "display_data",
                    "data": {
                        "text/html": "Total execution time: 00:00:00.006"
                    },
                    "metadata": {}
                },
                {
                    "output_type": "execute_result",
                    "metadata": {},
                    "execution_count": 15,
                    "data": {
                        "application/vnd.dataresource+json": {
                            "schema": {
                                "fields": [
                                    {
                                        "name": "KocsmaID"
                                    },
                                    {
                                        "name": "ItalID"
                                    },
                                    {
                                        "name": "Ar"
                                    }
                                ]
                            },
                            "data": [
                                {
                                    "KocsmaID": "1",
                                    "ItalID": "1",
                                    "Ar": "8"
                                },
                                {
                                    "KocsmaID": "1",
                                    "ItalID": "2",
                                    "Ar": "16"
                                },
                                {
                                    "KocsmaID": "1",
                                    "ItalID": "3",
                                    "Ar": "500"
                                },
                                {
                                    "KocsmaID": "1",
                                    "ItalID": "4",
                                    "Ar": "9"
                                },
                                {
                                    "KocsmaID": "1",
                                    "ItalID": "5",
                                    "Ar": "6"
                                },
                                {
                                    "KocsmaID": "1",
                                    "ItalID": "8",
                                    "Ar": "45"
                                },
                                {
                                    "KocsmaID": "1",
                                    "ItalID": "9",
                                    "Ar": "25"
                                },
                                {
                                    "KocsmaID": "1",
                                    "ItalID": "10",
                                    "Ar": "29"
                                },
                                {
                                    "KocsmaID": "2",
                                    "ItalID": "2",
                                    "Ar": "38"
                                },
                                {
                                    "KocsmaID": "2",
                                    "ItalID": "7",
                                    "Ar": "39"
                                },
                                {
                                    "KocsmaID": "2",
                                    "ItalID": "10",
                                    "Ar": "32"
                                },
                                {
                                    "KocsmaID": "4",
                                    "ItalID": "2",
                                    "Ar": "30"
                                },
                                {
                                    "KocsmaID": "4",
                                    "ItalID": "6",
                                    "Ar": "33"
                                },
                                {
                                    "KocsmaID": "4",
                                    "ItalID": "7",
                                    "Ar": "15"
                                },
                                {
                                    "KocsmaID": "4",
                                    "ItalID": "9",
                                    "Ar": "29"
                                },
                                {
                                    "KocsmaID": "5",
                                    "ItalID": "2",
                                    "Ar": "21"
                                },
                                {
                                    "KocsmaID": "6",
                                    "ItalID": "3",
                                    "Ar": "6"
                                },
                                {
                                    "KocsmaID": "6",
                                    "ItalID": "5",
                                    "Ar": "39"
                                },
                                {
                                    "KocsmaID": "7",
                                    "ItalID": "3",
                                    "Ar": "21"
                                },
                                {
                                    "KocsmaID": "7",
                                    "ItalID": "4",
                                    "Ar": "19"
                                },
                                {
                                    "KocsmaID": "7",
                                    "ItalID": "9",
                                    "Ar": "17"
                                },
                                {
                                    "KocsmaID": "8",
                                    "ItalID": "2",
                                    "Ar": "35"
                                },
                                {
                                    "KocsmaID": "8",
                                    "ItalID": "9",
                                    "Ar": "22"
                                },
                                {
                                    "KocsmaID": "8",
                                    "ItalID": "10",
                                    "Ar": "29"
                                },
                                {
                                    "KocsmaID": "9",
                                    "ItalID": "2",
                                    "Ar": "16"
                                },
                                {
                                    "KocsmaID": "9",
                                    "ItalID": "3",
                                    "Ar": "39"
                                },
                                {
                                    "KocsmaID": "9",
                                    "ItalID": "4",
                                    "Ar": "28"
                                },
                                {
                                    "KocsmaID": "9",
                                    "ItalID": "5",
                                    "Ar": "36"
                                },
                                {
                                    "KocsmaID": "10",
                                    "ItalID": "4",
                                    "Ar": "8"
                                },
                                {
                                    "KocsmaID": "11",
                                    "ItalID": "9",
                                    "Ar": "6"
                                }
                            ]
                        },
                        "text/html": [
                            "<table>",
                            "<tr><th>KocsmaID</th><th>ItalID</th><th>Ar</th></tr>",
                            "<tr><td>1</td><td>1</td><td>8</td></tr>",
                            "<tr><td>1</td><td>2</td><td>16</td></tr>",
                            "<tr><td>1</td><td>3</td><td>500</td></tr>",
                            "<tr><td>1</td><td>4</td><td>9</td></tr>",
                            "<tr><td>1</td><td>5</td><td>6</td></tr>",
                            "<tr><td>1</td><td>8</td><td>45</td></tr>",
                            "<tr><td>1</td><td>9</td><td>25</td></tr>",
                            "<tr><td>1</td><td>10</td><td>29</td></tr>",
                            "<tr><td>2</td><td>2</td><td>38</td></tr>",
                            "<tr><td>2</td><td>7</td><td>39</td></tr>",
                            "<tr><td>2</td><td>10</td><td>32</td></tr>",
                            "<tr><td>4</td><td>2</td><td>30</td></tr>",
                            "<tr><td>4</td><td>6</td><td>33</td></tr>",
                            "<tr><td>4</td><td>7</td><td>15</td></tr>",
                            "<tr><td>4</td><td>9</td><td>29</td></tr>",
                            "<tr><td>5</td><td>2</td><td>21</td></tr>",
                            "<tr><td>6</td><td>3</td><td>6</td></tr>",
                            "<tr><td>6</td><td>5</td><td>39</td></tr>",
                            "<tr><td>7</td><td>3</td><td>21</td></tr>",
                            "<tr><td>7</td><td>4</td><td>19</td></tr>",
                            "<tr><td>7</td><td>9</td><td>17</td></tr>",
                            "<tr><td>8</td><td>2</td><td>35</td></tr>",
                            "<tr><td>8</td><td>9</td><td>22</td></tr>",
                            "<tr><td>8</td><td>10</td><td>29</td></tr>",
                            "<tr><td>9</td><td>2</td><td>16</td></tr>",
                            "<tr><td>9</td><td>3</td><td>39</td></tr>",
                            "<tr><td>9</td><td>4</td><td>28</td></tr>",
                            "<tr><td>9</td><td>5</td><td>36</td></tr>",
                            "<tr><td>10</td><td>4</td><td>8</td></tr>",
                            "<tr><td>11</td><td>9</td><td>6</td></tr>",
                            "</table>"
                        ]
                    }
                }
            ],
            "execution_count": 15
        },
        {
            "cell_type": "code",
            "source": [
                "delete from Arak where Ar=1500"
            ],
            "metadata": {
                "azdata_cell_guid": "9760fd6a-e5b0-447e-bab1-fafb75b2b9a9",
                "language": "sql"
            },
            "outputs": [
                {
                    "output_type": "display_data",
                    "data": {
                        "text/html": "(1 row affected)"
                    },
                    "metadata": {}
                },
                {
                    "output_type": "display_data",
                    "data": {
                        "text/html": "Total execution time: 00:00:00.014"
                    },
                    "metadata": {}
                }
            ],
            "execution_count": 9
        },
        {
            "cell_type": "markdown",
            "source": [
                "5. <span style=\"background-color: rgb(255, 255, 255); color: rgb(45, 59, 69); font-family: LatoWeb, &quot;Helvetica Neue&quot;, Helvetica, Arial, sans-serif; font-size: 16px;\">Írjunk&nbsp;</span> **DELETE triggert**<span style=\"background-color: rgb(255, 255, 255); color: rgb(45, 59, 69); font-family: LatoWeb, &quot;Helvetica Neue&quot;, Helvetica, Arial, sans-serif; font-size: 16px;\">, amely nem enged törölni olyan kocsmát, melyet legalább 3-an kedvelnek és a nyitás dátuma 2015 után történt!</span>"
            ],
            "metadata": {
                "azdata_cell_guid": "2f74f309-ad35-4853-bd21-d5c44e265e0f"
            },
            "attachments": {}
        },
        {
            "cell_type": "code",
            "source": [
                "CREATE OR ALTER TRIGGER NemTorolKocsma ON Kocsmak\r\n",
                "INSTEAD OF\r\n",
                "DELETE\r\n",
                "AS\r\n",
                "BEGIN\r\n",
                "    SET NOCOUNT ON\r\n",
                "    IF EXISTS (\r\n",
                "        SELECT k.KocsmaID FROM deleted d\r\n",
                "        JOIN Kedvencek k ON d.KocsmaID = k.KocsmaID\r\n",
                "        WHERE d.NyitasDatuma > '2015-01-01'\r\n",
                "        GROUP BY k.KocsmaID\r\n",
                "        HAVING COUNT(*) >= 3\r\n",
                "    )\r\n",
                "    BEGIN\r\n",
                "        RAISERROR('Nem torolheto, 2015 utan nyitottak es legalabb 3-an kedvelik!', 16, 1)\r\n",
                "        END\r\n",
                "    ELSE\r\n",
                "    BEGIN\r\n",
                "        DELETE FROM Kocsmak\r\n",
                "        WHERE KocsmaID IN (SELECT KocsmaID FROM deleted)\r\n",
                "    END\r\n",
                "END"
            ],
            "metadata": {
                "azdata_cell_guid": "cee792eb-a9d9-49d0-bd88-e8e5555245bf",
                "language": "sql"
            },
            "outputs": [
                {
                    "output_type": "display_data",
                    "data": {
                        "text/html": "Commands completed successfully."
                    },
                    "metadata": {}
                },
                {
                    "output_type": "display_data",
                    "data": {
                        "text/html": "Total execution time: 00:00:00.032"
                    },
                    "metadata": {}
                }
            ],
            "execution_count": 82
        },
        {
            "cell_type": "code",
            "source": [
                "DELETE from Kocsmak where KocsmaID=2"
            ],
            "metadata": {
                "azdata_cell_guid": "0d0e733a-ddbe-4f4b-906b-19a336ca121c",
                "language": "sql"
            },
            "outputs": [
                {
                    "output_type": "error",
                    "ename": "",
                    "evalue": "Msg 50000, Level 16, State 1, Procedure NemTorolKocsma, Line 15\r\nNem torolheto, 2015 utan nyitottak es legalabb 3-an kedvelik!",
                    "traceback": []
                },
                {
                    "output_type": "display_data",
                    "data": {
                        "text/html": "(1 row affected)"
                    },
                    "metadata": {}
                },
                {
                    "output_type": "display_data",
                    "data": {
                        "text/html": "Total execution time: 00:00:00.164"
                    },
                    "metadata": {}
                }
            ],
            "execution_count": 8
        },
        {
            "cell_type": "markdown",
            "source": [
                "**6.** **a.** <span style=\"color: var(--vscode-foreground);\">&nbsp;Hozzunk létre egy új táblát:</span>\n",
                "\n",
                "  Arak\\_Log(ID, Idopont, Muvelet, KocsmaID, KocsmaNev, ItalID, ItalNev, RegiAr, UjAr),\n",
                "\n",
                "ahol Idopont-datetime, Muvelet-varchar(50), RegiAr-int, UjAr-int típusú mezők."
            ],
            "metadata": {
                "azdata_cell_guid": "8b199219-be21-4801-8c51-52292164aa65"
            },
            "attachments": {}
        },
        {
            "cell_type": "code",
            "source": [
                "CREATE TABLE Arak_Log(\r\n",
                "    ID INT PRIMARY KEY, \r\n",
                "    Idopont DATETIME,\r\n",
                "    Muvelet VARCHAR(50),\r\n",
                "    KocsmaID INT FOREIGN KEY REFERENCES Kocsmak(KocsmaID),\r\n",
                "    KocsmaNev VARCHAR(30),\r\n",
                "    ItalID INT FOREIGN KEY REFERENCES Italok(ItalID),\r\n",
                "    ItalNev VARCHAR(30),\r\n",
                "    RegiAr INT,\r\n",
                "    UjAr INT,\r\n",
                ")"
            ],
            "metadata": {
                "azdata_cell_guid": "38817172-0c20-40f1-bfaa-95a337273a99",
                "language": "sql"
            },
            "outputs": [
                {
                    "output_type": "display_data",
                    "data": {
                        "text/html": "Commands completed successfully."
                    },
                    "metadata": {}
                },
                {
                    "output_type": "display_data",
                    "data": {
                        "text/html": "Total execution time: 00:00:00.017"
                    },
                    "metadata": {}
                }
            ],
            "execution_count": 5
        },
        {
            "cell_type": "markdown",
            "source": [
                "6\\. b. <span style=\"color: rgb(45, 59, 69); font-family: LatoWeb, &quot;Helvetica Neue&quot;, Helvetica, Arial, sans-serif; font-size: 16px; background-color: rgb(255, 255, 255);\">Oldjuk meg, hogy a&nbsp;</span> <span style=\"color: rgb(45, 59, 69); font-family: LatoWeb, &quot;Helvetica Neue&quot;, Helvetica, Arial, sans-serif; font-size: 16px; background-color: rgb(255, 255, 255);\">Kocsmak táblából való törlés esetén az Arak_Log tábla&nbsp;</span> <span style=\"color: rgb(45, 59, 69); font-family: LatoWeb, &quot;Helvetica Neue&quot;, Helvetica, Arial, sans-serif; font-size: 16px; background-color: rgb(255, 255, 255);\">KocsmaID</span> <span style=\"color: rgb(45, 59, 69); font-family: LatoWeb, &quot;Helvetica Neue&quot;, Helvetica, Arial, sans-serif; font-size: 16px; background-color: rgb(255, 255, 255);\">mezőjének értéke&nbsp;</span> <span style=\"color: rgb(45, 59, 69); font-family: LatoWeb, &quot;Helvetica Neue&quot;, Helvetica, Arial, sans-serif; font-size: 16px; background-color: rgb(255, 255, 255);\">NULL-ra módosuljon!</span>"
            ],
            "metadata": {
                "azdata_cell_guid": "8ee74aea-9d9b-41ed-b3dd-e7284a43ec77"
            },
            "attachments": {}
        },
        {
            "cell_type": "code",
            "source": [
                "ALTER TABLE Arak_Log\r\n",
                "DROP CONSTRAINT FK__Arak_Log__Kocsma__71D1E811\r\n",
                "\r\n",
                "ALTER TABLE Arak_Log\r\n",
                "ADD CONSTRAINT FK__Arak_Log__Kocsma__71D1E811\r\n",
                "FOREIGN KEY (KocsmaID)\r\n",
                "REFERENCES Kocsmak(KocsmaID)\r\n",
                "ON DELETE SET NULL"
            ],
            "metadata": {
                "azdata_cell_guid": "9cefabbc-f52b-4e59-be09-61303ef9b2b2",
                "language": "sql"
            },
            "outputs": [
                {
                    "output_type": "display_data",
                    "data": {
                        "text/html": "Commands completed successfully."
                    },
                    "metadata": {}
                },
                {
                    "output_type": "display_data",
                    "data": {
                        "text/html": "Total execution time: 00:00:00.075"
                    },
                    "metadata": {}
                }
            ],
            "execution_count": 80
        },
        {
            "cell_type": "code",
            "source": [
                "SELECT name\r\n",
                "FROM sys.foreign_keys\r\n",
                "WHERE parent_object_id = OBJECT_ID('Arak_Log')"
            ],
            "metadata": {
                "language": "sql",
                "azdata_cell_guid": "79ca6822-4a9f-4cbe-9b30-614644d7f843"
            },
            "outputs": [
                {
                    "output_type": "display_data",
                    "data": {
                        "text/html": "(2 rows affected)"
                    },
                    "metadata": {}
                },
                {
                    "output_type": "display_data",
                    "data": {
                        "text/html": "Total execution time: 00:00:00.016"
                    },
                    "metadata": {}
                },
                {
                    "output_type": "execute_result",
                    "execution_count": 81,
                    "data": {
                        "application/vnd.dataresource+json": {
                            "schema": {
                                "fields": [
                                    {
                                        "name": "name"
                                    }
                                ]
                            },
                            "data": [
                                {
                                    "name": "FK__Arak_Log__ItalID__72C60C4A"
                                },
                                {
                                    "name": "FK__Arak_Log__Kocsma__71D1E811"
                                }
                            ]
                        },
                        "text/html": "<table><tr><th>name</th></tr><tr><td>FK__Arak_Log__ItalID__72C60C4A</td></tr><tr><td>FK__Arak_Log__Kocsma__71D1E811</td></tr></table>"
                    },
                    "metadata": {}
                }
            ],
            "execution_count": 81
        },
        {
            "cell_type": "markdown",
            "source": [
                "6\\. c. <span style=\"color: rgb(45, 59, 69); font-family: LatoWeb, &quot;Helvetica Neue&quot;, Helvetica, Arial, sans-serif; font-size: 16px; background-color: rgb(255, 255, 255);\">Írjunk&nbsp;</span> **UPDATE triggert**<span style=\"color: rgb(45, 59, 69); font-family: LatoWeb, &quot;Helvetica Neue&quot;, Helvetica, Arial, sans-serif; font-size: 16px; background-color: rgb(255, 255, 255);\">, mely az Arak tábla Ar mezőjének módosításakor beszúr egy új sort a Arak_Log táblába. Az időpont legyen a módosítás időpontja, művelet szövege: ‘ar növelése’ vagy ‘ar csökkentése’, RegiAr-régi érték, UjAr-új érték.</span>"
            ],
            "metadata": {
                "azdata_cell_guid": "32aac2d8-4d87-49a8-833a-f177dc7bc8c6"
            },
            "attachments": {}
        },
        {
            "cell_type": "code",
            "source": [
                "CREATE TRIGGER Arak_Update\r\n",
                "ON Arak\r\n",
                "AFTER UPDATE\r\n",
                "AS\r\n",
                "BEGIN\r\n",
                "    DECLARE @RegiAr INT, @UjAr INT, @Muvelet VARCHAR(50)\r\n",
                "\r\n",
                "    IF UPDATE(Ar)\r\n",
                "    BEGIN\r\n",
                "        SELECT @RegiAr = d.Ar, @UjAr = i.Ar\r\n",
                "        FROM inserted i\r\n",
                "        JOIN deleted d ON i.ItalID = d.ItalID AND i.KocsmaID = d.KocsmaID\r\n",
                "\r\n",
                "        IF @RegiAr < @UjAr\r\n",
                "            SET @Muvelet = 'ar novelese'\r\n",
                "        ELSE IF @RegiAr > @UjAr\r\n",
                "            SET @Muvelet = 'ar csokkentese'\r\n",
                "        ELSE\r\n",
                "            SET @Muvelet = 'ar modositasa nelkul'\r\n",
                "\r\n",
                "        INSERT INTO Arak_Log (Idopont, Muvelet, KocsmaID, KocsmaNev, ItalID, ItalNev, RegiAr, UjAr)\r\n",
                "        SELECT GETDATE(), @Muvelet, i.KocsmaID, k.Nev AS KocsmaNev, i.ItalID, it.Nev AS ItalNev, @RegiAr, @UjAr\r\n",
                "        FROM inserted i\r\n",
                "        JOIN deleted d ON i.ItalID = d.ItalID AND i.KocsmaID = d.KocsmaID\r\n",
                "        JOIN Kocsmak k ON i.KocsmaID = k.KocsmaID\r\n",
                "        JOIN Italok it ON i.ItalID = it.ItalID\r\n",
                "    END\r\n",
                "END"
            ],
            "metadata": {
                "azdata_cell_guid": "32361d0a-1248-4884-8c0c-fde58a15ff31",
                "language": "sql"
            },
            "outputs": [
                {
                    "output_type": "display_data",
                    "data": {
                        "text/html": "Commands completed successfully."
                    },
                    "metadata": {}
                },
                {
                    "output_type": "display_data",
                    "data": {
                        "text/html": "Total execution time: 00:00:00.010"
                    },
                    "metadata": {}
                }
            ],
            "execution_count": 84
        }
    ]
}