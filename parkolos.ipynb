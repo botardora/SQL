{
    "metadata": {
        "kernelspec": {
            "name": "SQL",
            "display_name": "SQL",
            "language": "sql"
        },
        "language_info": {
            "name": "sql",
            "version": ""
        }
    },
    "nbformat_minor": 2,
    "nbformat": 4,
    "cells": [
        {
            "cell_type": "markdown",
            "source": [
                "## Parkolóház\n",
                "\n",
                "Adott a következő adatbázis:\n",
                "\n",
                "  ![diag](.\\diag.png)\n",
                "\n",
                "Írjunk tárolt eljárást, amely a parkolásokat menedzseli. A feladat megoldásához használjunk tranzakció kezelést, valamint megfelelően kezeljük a hibákat.\n",
                "\n",
                "Paraméterek:\n",
                "\n",
                "- Bemeneti paraméterként megkapja egy parkolóház ID-ját, egy kezdeti es egy végső időpontot, valamint egy rendszámot\n",
                "    \n",
                "- Kimeneti paraméterként visszaadja a parkolás összköltséget\n",
                "    \n",
                "\n",
                "### Feladatai\n",
                "\n",
                "- Ellenőrzi, hogy a megadott parkolóház ID létezik-e es van szabad férőhely(Parkolóház.Férőhely\\>0) ha nem, akkor hiba üzenetet dob, valamint -1-gyel tér vissza (pl. 'Nincs ilyen parkolóház!')\n",
                "    \n",
                "- Ellenőrzi, hogy a megadott kezdeti es végső időpontok helyesek-e (megfelelő sorrendben vannak), ha nem, akkor hiba üzenetet dob (pl. 'Hibás időpontok!') -2-vel tér vissza\n",
                "    \n",
                "- Ellenőrzi, hogy a megadott rendszam létezik-e, ha nem akkor felvezeti a rendszámot a Járművek táblába az 'Anonim' nevű klienshez\n",
                "    \n",
                "\n",
                "Ezután a parkolás felvezetése (az EgyediParkolasok táblába) 3 módon történhet: bérlettel rendelkező, bérlet nélküli vagy Anonim ügyfél\n",
                "\n",
                "- Bérlettel rendelkezik az ügyfél, ha a HonaposParkoloBerletek táblában van olyan sor, amelynek a Kliense az illető jármű tulajdonosa, a BerletKezdete és a BerletVege között van a parkolás kezdeti és végső időpontja és a parkolóházba szól. Ebben az esetben a parkolás költsége 0 (az alap parkolási díj és a fizetett díj is)\n",
                "    \n",
                "- Ha a kliens anonim az alapdíj 2000 valamint ha nem rendelkezik bérlettel az alapdíj 1000 lesz. A parkolás költségét (Fizetettdíj) a parkolás kezdeti és végső időpontja közötti időtartam alapján számoljuk ki az alábbiak szerint:\n",
                "    \n",
                "    - 500/óra ha a parkolás kezdeti és végső időpontja közötti időtartam 24 óra vagy annál kevesebb + az alapdíj\n",
                "    - 8000/nap különben + az alapdíj\n",
                "\n",
                "  A parkolás beszúrása után a parkolóházban a szabad helyek szamat csökkenti 1-gyel (Parkolohaz.Ferohely)  \n",
                "\n",
                "**Hívjuk is meg az eljárást és jelenítsük meg a kimeneti paramétert és visszatérési értéket!**\n",
                "\n",
                "**Minimális követelmény**\n",
                "\n",
                "- A tárolt eljárás létrehozása es meghivasa\n",
                "- 1 paraméter ellenőrzése hiba kezeléssel\n",
                "- Tranzakció hirdetése és minden ágon való befejezése\n",
                "- Parkolás sor beszúrása"
            ],
            "metadata": {
                "azdata_cell_guid": "ebd5844d-3bfe-4497-9dae-7e16aaa587f8"
            },
            "attachments": {}
        },
        {
            "cell_type": "code",
            "source": [
                "CREATE OR ALTER PROCEDURE spParkolos\r\n",
                "@ParkoloHazID INT,\r\n",
                "@KezdetiIdo DATETIME,\r\n",
                "@VegzesiIdo DATETIME,\r\n",
                "@Rendszam VARCHAR(30),\r\n",
                "@Osszkoltseg DECIMAL OUTPUT\r\n",
                "AS\r\n",
                "BEGIN\r\n",
                "    SET NOCOUNT ON;\r\n",
                "    SET TRANSACTION ISOLATION LEVEL SERIALIZABLE;\r\n",
                "    \r\n",
                "    DECLARE @Ferohely INT\r\n",
                "    DECLARE @Kliens INT, @berlet int, @alapdij DECIMAL, @idopontokKulonbseg DECIMAL, @TULID INT\r\n",
                "\r\n",
                "    BEGIN TRY\r\n",
                "        BEGIN TRANSACTION\r\n",
                "        set @Osszkoltseg=0\r\n",
                "        SELECT @Ferohely = Ferohely FROM ParkoloHazak WHERE ParkoloHazID = @ParkoloHazID;\r\n",
                "\r\n",
                "--LETEZIK E A PARKOLOHAZ, HA IGEN, VAN E BENNE URES HELY\r\n",
                "        IF NOT EXISTS (SELECT 1 FROM ParkoloHazak WHERE ParkoloHazID = @ParkoloHazID)\r\n",
                "        BEGIN\r\n",
                "            RAISERROR('NINCS ILYEN PARKOLOHAZ', 16, 1)\r\n",
                "            RETURN -1\r\n",
                "        END\r\n",
                "        ELSE IF @Ferohely <= 0\r\n",
                "        BEGIN\r\n",
                "            RAISERROR('NINCS SZABAD FEROHELY A PARKOLOHAZBAN', 16, 1)\r\n",
                "            RETURN -1\r\n",
                "        END\r\n",
                "\r\n",
                "--IDOPONTOK ELLENORZESE\r\n",
                "        IF @KezdetiIdo>=@VegzesiIdo\r\n",
                "        BEGIN\r\n",
                "            RAISERROR('HIBAS IDOPONTOK',16,1)\r\n",
                "            RETURN -2\r\n",
                "        END\r\n",
                "\r\n",
                "--LETEZIK E A RENDSZAM\r\n",
                "        IF NOT EXISTS (SELECT 1 FROM Jarmuvek WHERE RendSzam=@Rendszam)\r\n",
                "        BEGIN\r\n",
                "            SELECT @Kliens=KliensID FROM Kliensek WHERE Nev='Anonim'\r\n",
                "            INSERT INTO Jarmuvek(KliensID,RendSzam) VALUES (@Kliens,@Rendszam)\r\n",
                "        END\r\n",
                "\r\n",
                "        SELECT @berlet=BerletID FROM HonaposParkoloBerletek\r\n",
                "        WHERE ParkoloHazID=@ParkoloHazID \r\n",
                "        AND KezdoIdopont<=@KezdetiIdo\r\n",
                "        AND VegsoIdopont>=@VegzesiIdo\r\n",
                "        AND KliensID=(SELECT KliensID FROM Jarmuvek WHERE RendSzam=@Rendszam)\r\n",
                "\r\n",
                "        IF @berlet IS NOT NULL\r\n",
                "        BEGIN\r\n",
                "            SET @alapdij=0\r\n",
                "        END\r\n",
                "        ELSE IF @TULID=(SELECT KliensID FROM Kliensek WHERE Nev='Anonim')\r\n",
                "        BEGIN\r\n",
                "            SET @alapdij=2000\r\n",
                "            SET @Osszkoltseg =CASE\r\n",
                "\t\t\t\t\t\t\tWHEN DATEDIFF(HOUR,@KezdetiIdo,@VegzesiIdo)<24 THEN 500*DATEDIFF(HOUR,@KezdetiIdo,@VegzesiIdo)+@alapdij\r\n",
                "\t\t\t\t\t\t\tELSE 8000+@alapdij\r\n",
                "\t\t\t\t\t\t\tEND\r\n",
                "        END\r\n",
                "        ELSE\r\n",
                "        BEGIN\r\n",
                "            SET @alapdij=1000\r\n",
                "            SET @Osszkoltseg =CASE\r\n",
                "\t\t\t\t\t\t\tWHEN DATEDIFF(HOUR,@KezdetiIdo,@VegzesiIdo)<24 THEN 500*DATEDIFF(HOUR,@KezdetiIdo,@VegzesiIdo)+@alapdij\r\n",
                "\t\t\t\t\t\t\tELSE 8000+@alapdij\r\n",
                "\t\t\t\t\t\t\tEND\r\n",
                "        END\r\n",
                "            INSERT INTO EgyszeriParkolasok VALUES ((SELECT JarmuID FROM Jarmuvek WHERE RendSzam=@RendSzam),\r\n",
                "\t\t\t@ParkoloHazID,@KezdetiIdo,@VegzesiIdo,@alapdij,@Osszkoltseg)\r\n",
                "\t\t\tUPDATE ParkoloHazak \r\n",
                "\t\t\tSET Ferohely=Ferohely-1\r\n",
                "\t\t\tWHERE ParkoloHazID=@ParkoloHazID\r\n",
                "\r\n",
                "        COMMIT TRANSACTION\r\n",
                "    END TRY\r\n",
                "\r\n",
                "    BEGIN CATCH\r\n",
                "        SELECT\r\n",
                "            ERROR_MESSAGE() AS Errormessage,\r\n",
                "            ERROR_NUMBER() AS Errornumber,\r\n",
                "            ERROR_SEVERITY() AS Errorseverity,\r\n",
                "            ERROR_STATE() AS Errorstate;\r\n",
                "        ROLLBACK\r\n",
                "    END CATCH\r\n",
                "END"
            ],
            "metadata": {
                "azdata_cell_guid": "3f07bd47-5642-46f1-bfbc-fbed489f0ee1",
                "language": "sql"
            },
            "outputs": [
                {
                    "output_type": "display_data",
                    "data": {
                        "text/html": "Commands completed successfully."
                    },
                    "metadata": {}
                },
                {
                    "output_type": "display_data",
                    "data": {
                        "text/html": "Total execution time: 00:00:00.009"
                    },
                    "metadata": {}
                }
            ],
            "execution_count": 68
        },
        {
            "cell_type": "code",
            "source": [
                "select * from HonaposParkoloBerletek\r\n",
                "select * from Jarmuvek\r\n",
                "select * from ParkoloHazak\r\n",
                "select * from Kliensek\r\n",
                "select * from EgyszeriParkolasok"
            ],
            "metadata": {
                "azdata_cell_guid": "890423bd-739c-4547-a130-fc2d51f1f3af",
                "language": "sql"
            },
            "outputs": [
                {
                    "output_type": "display_data",
                    "data": {
                        "text/html": "(12 rows affected)"
                    },
                    "metadata": {}
                },
                {
                    "output_type": "display_data",
                    "data": {
                        "text/html": "(10 rows affected)"
                    },
                    "metadata": {}
                },
                {
                    "output_type": "display_data",
                    "data": {
                        "text/html": "(5 rows affected)"
                    },
                    "metadata": {}
                },
                {
                    "output_type": "display_data",
                    "data": {
                        "text/html": "(7 rows affected)"
                    },
                    "metadata": {}
                },
                {
                    "output_type": "display_data",
                    "data": {
                        "text/html": "(7 rows affected)"
                    },
                    "metadata": {}
                },
                {
                    "output_type": "display_data",
                    "data": {
                        "text/html": "Total execution time: 00:00:00.017"
                    },
                    "metadata": {}
                },
                {
                    "output_type": "execute_result",
                    "execution_count": 65,
                    "data": {
                        "application/vnd.dataresource+json": {
                            "schema": {
                                "fields": [
                                    {
                                        "name": "BerletID"
                                    },
                                    {
                                        "name": "KliensID"
                                    },
                                    {
                                        "name": "ParkoloHazID"
                                    },
                                    {
                                        "name": "VasarlasDatuma"
                                    },
                                    {
                                        "name": "KezdoIdopont"
                                    },
                                    {
                                        "name": "VegsoIdopont"
                                    },
                                    {
                                        "name": "Dij"
                                    }
                                ]
                            },
                            "data": [
                                {
                                    "BerletID": "1",
                                    "KliensID": "2",
                                    "ParkoloHazID": "1",
                                    "VasarlasDatuma": "2021-06-29",
                                    "KezdoIdopont": "2021-06-29 15:00:00.000",
                                    "VegsoIdopont": "2021-07-29 15:00:00.000",
                                    "Dij": "300.00"
                                },
                                {
                                    "BerletID": "2",
                                    "KliensID": "2",
                                    "ParkoloHazID": "4",
                                    "VasarlasDatuma": "2021-08-30",
                                    "KezdoIdopont": "2021-08-30 16:30:00.000",
                                    "VegsoIdopont": "2021-09-30 16:30:00.000",
                                    "Dij": "250.00"
                                },
                                {
                                    "BerletID": "3",
                                    "KliensID": "4",
                                    "ParkoloHazID": "2",
                                    "VasarlasDatuma": "2021-11-13",
                                    "KezdoIdopont": "2021-11-17 08:00:00.000",
                                    "VegsoIdopont": "2021-12-16 18:00:00.000",
                                    "Dij": "450.00"
                                },
                                {
                                    "BerletID": "4",
                                    "KliensID": "4",
                                    "ParkoloHazID": "2",
                                    "VasarlasDatuma": "2023-12-15",
                                    "KezdoIdopont": "2023-12-17 08:00:00.000",
                                    "VegsoIdopont": "2024-01-16 18:00:00.000",
                                    "Dij": "450.00"
                                },
                                {
                                    "BerletID": "5",
                                    "KliensID": "4",
                                    "ParkoloHazID": "2",
                                    "VasarlasDatuma": "2022-01-17",
                                    "KezdoIdopont": "2022-01-17 08:00:00.000",
                                    "VegsoIdopont": "2022-02-16 18:00:00.000",
                                    "Dij": "450.00"
                                },
                                {
                                    "BerletID": "6",
                                    "KliensID": "5",
                                    "ParkoloHazID": "2",
                                    "VasarlasDatuma": "2021-09-01",
                                    "KezdoIdopont": "2021-09-02 08:00:00.000",
                                    "VegsoIdopont": "2021-10-01 18:00:00.000",
                                    "Dij": "450.00"
                                },
                                {
                                    "BerletID": "7",
                                    "KliensID": "5",
                                    "ParkoloHazID": "3",
                                    "VasarlasDatuma": "2023-10-02",
                                    "KezdoIdopont": "2023-10-02 09:00:00.000",
                                    "VegsoIdopont": "2023-11-01 18:00:00.000",
                                    "Dij": "350.00"
                                },
                                {
                                    "BerletID": "8",
                                    "KliensID": "3",
                                    "ParkoloHazID": "3",
                                    "VasarlasDatuma": "2022-01-12",
                                    "KezdoIdopont": "2022-01-15 08:00:00.000",
                                    "VegsoIdopont": "2022-02-14 08:00:00.000",
                                    "Dij": "350.00"
                                },
                                {
                                    "BerletID": "9",
                                    "KliensID": "6",
                                    "ParkoloHazID": "2",
                                    "VasarlasDatuma": "2023-11-12",
                                    "KezdoIdopont": "2023-11-12 08:00:00.000",
                                    "VegsoIdopont": "2023-12-11 18:00:00.000",
                                    "Dij": "450.00"
                                },
                                {
                                    "BerletID": "10",
                                    "KliensID": "1",
                                    "ParkoloHazID": "2",
                                    "VasarlasDatuma": "2023-12-14",
                                    "KezdoIdopont": "2023-12-14 08:00:00.000",
                                    "VegsoIdopont": "2024-02-16 18:00:00.000",
                                    "Dij": "450.00"
                                },
                                {
                                    "BerletID": "11",
                                    "KliensID": "2",
                                    "ParkoloHazID": "2",
                                    "VasarlasDatuma": "2023-07-03",
                                    "KezdoIdopont": "2023-07-03 12:00:00.000",
                                    "VegsoIdopont": "2023-08-04 12:00:00.000",
                                    "Dij": "450.00"
                                },
                                {
                                    "BerletID": "12",
                                    "KliensID": "3",
                                    "ParkoloHazID": "2",
                                    "VasarlasDatuma": "2024-01-18",
                                    "KezdoIdopont": "2024-01-18 08:00:00.000",
                                    "VegsoIdopont": "2024-02-18 18:00:00.000",
                                    "Dij": "450.00"
                                }
                            ]
                        },
                        "text/html": "<table><tr><th>BerletID</th><th>KliensID</th><th>ParkoloHazID</th><th>VasarlasDatuma</th><th>KezdoIdopont</th><th>VegsoIdopont</th><th>Dij</th></tr><tr><td>1</td><td>2</td><td>1</td><td>2021-06-29</td><td>2021-06-29 15:00:00.000</td><td>2021-07-29 15:00:00.000</td><td>300.00</td></tr><tr><td>2</td><td>2</td><td>4</td><td>2021-08-30</td><td>2021-08-30 16:30:00.000</td><td>2021-09-30 16:30:00.000</td><td>250.00</td></tr><tr><td>3</td><td>4</td><td>2</td><td>2021-11-13</td><td>2021-11-17 08:00:00.000</td><td>2021-12-16 18:00:00.000</td><td>450.00</td></tr><tr><td>4</td><td>4</td><td>2</td><td>2023-12-15</td><td>2023-12-17 08:00:00.000</td><td>2024-01-16 18:00:00.000</td><td>450.00</td></tr><tr><td>5</td><td>4</td><td>2</td><td>2022-01-17</td><td>2022-01-17 08:00:00.000</td><td>2022-02-16 18:00:00.000</td><td>450.00</td></tr><tr><td>6</td><td>5</td><td>2</td><td>2021-09-01</td><td>2021-09-02 08:00:00.000</td><td>2021-10-01 18:00:00.000</td><td>450.00</td></tr><tr><td>7</td><td>5</td><td>3</td><td>2023-10-02</td><td>2023-10-02 09:00:00.000</td><td>2023-11-01 18:00:00.000</td><td>350.00</td></tr><tr><td>8</td><td>3</td><td>3</td><td>2022-01-12</td><td>2022-01-15 08:00:00.000</td><td>2022-02-14 08:00:00.000</td><td>350.00</td></tr><tr><td>9</td><td>6</td><td>2</td><td>2023-11-12</td><td>2023-11-12 08:00:00.000</td><td>2023-12-11 18:00:00.000</td><td>450.00</td></tr><tr><td>10</td><td>1</td><td>2</td><td>2023-12-14</td><td>2023-12-14 08:00:00.000</td><td>2024-02-16 18:00:00.000</td><td>450.00</td></tr><tr><td>11</td><td>2</td><td>2</td><td>2023-07-03</td><td>2023-07-03 12:00:00.000</td><td>2023-08-04 12:00:00.000</td><td>450.00</td></tr><tr><td>12</td><td>3</td><td>2</td><td>2024-01-18</td><td>2024-01-18 08:00:00.000</td><td>2024-02-18 18:00:00.000</td><td>450.00</td></tr></table>"
                    },
                    "metadata": {}
                },
                {
                    "output_type": "execute_result",
                    "execution_count": 65,
                    "data": {
                        "application/vnd.dataresource+json": {
                            "schema": {
                                "fields": [
                                    {
                                        "name": "JarmuID"
                                    },
                                    {
                                        "name": "KliensID"
                                    },
                                    {
                                        "name": "RendSzam"
                                    }
                                ]
                            },
                            "data": [
                                {
                                    "JarmuID": "1",
                                    "KliensID": "2",
                                    "RendSzam": "CJ 01 ABX"
                                },
                                {
                                    "JarmuID": "2",
                                    "KliensID": "1",
                                    "RendSzam": "CJ 32 ABC"
                                },
                                {
                                    "JarmuID": "3",
                                    "KliensID": "4",
                                    "RendSzam": "SM 12 FGT"
                                },
                                {
                                    "JarmuID": "4",
                                    "KliensID": "4",
                                    "RendSzam": "MS 17 PAX"
                                },
                                {
                                    "JarmuID": "5",
                                    "KliensID": "3",
                                    "RendSzam": "B 04 EFT"
                                },
                                {
                                    "JarmuID": "6",
                                    "KliensID": "2",
                                    "RendSzam": "HR 05 YSR"
                                },
                                {
                                    "JarmuID": "7",
                                    "KliensID": "5",
                                    "RendSzam": "CV 12 BAW"
                                },
                                {
                                    "JarmuID": "8",
                                    "KliensID": "5",
                                    "RendSzam": "CJ 09 SKY"
                                },
                                {
                                    "JarmuID": "9",
                                    "KliensID": "6",
                                    "RendSzam": "BH 14 UGE"
                                },
                                {
                                    "JarmuID": "10",
                                    "KliensID": "5",
                                    "RendSzam": "CJ 06 SKY"
                                }
                            ]
                        },
                        "text/html": "<table><tr><th>JarmuID</th><th>KliensID</th><th>RendSzam</th></tr><tr><td>1</td><td>2</td><td>CJ 01 ABX</td></tr><tr><td>2</td><td>1</td><td>CJ 32 ABC</td></tr><tr><td>3</td><td>4</td><td>SM 12 FGT</td></tr><tr><td>4</td><td>4</td><td>MS 17 PAX</td></tr><tr><td>5</td><td>3</td><td>B 04 EFT</td></tr><tr><td>6</td><td>2</td><td>HR 05 YSR</td></tr><tr><td>7</td><td>5</td><td>CV 12 BAW</td></tr><tr><td>8</td><td>5</td><td>CJ 09 SKY</td></tr><tr><td>9</td><td>6</td><td>BH 14 UGE</td></tr><tr><td>10</td><td>5</td><td>CJ 06 SKY</td></tr></table>"
                    },
                    "metadata": {}
                },
                {
                    "output_type": "execute_result",
                    "execution_count": 65,
                    "data": {
                        "application/vnd.dataresource+json": {
                            "schema": {
                                "fields": [
                                    {
                                        "name": "ParkoloHazID"
                                    },
                                    {
                                        "name": "Ferohely"
                                    },
                                    {
                                        "name": "Cim"
                                    },
                                    {
                                        "name": "CegNev"
                                    },
                                    {
                                        "name": "MukodikEjszaka"
                                    },
                                    {
                                        "name": "MinFizetendoOraSzam"
                                    },
                                    {
                                        "name": "HonaposBerletElerheto"
                                    },
                                    {
                                        "name": "HonaposBerletiDij"
                                    }
                                ]
                            },
                            "data": [
                                {
                                    "ParkoloHazID": "1",
                                    "Ferohely": "164",
                                    "Cim": "Foter 14, Kolozsvar",
                                    "CegNev": "Kolozsvari Parkolohaz",
                                    "MukodikEjszaka": "0",
                                    "MinFizetendoOraSzam": "1",
                                    "HonaposBerletElerheto": "1",
                                    "HonaposBerletiDij": "300.00"
                                },
                                {
                                    "ParkoloHazID": "2",
                                    "Ferohely": "100",
                                    "Cim": "Beke ter 37, Kolozsvar",
                                    "CegNev": "Cool Parking",
                                    "MukodikEjszaka": "1",
                                    "MinFizetendoOraSzam": "0.5",
                                    "HonaposBerletElerheto": "1",
                                    "HonaposBerletiDij": "450.00"
                                },
                                {
                                    "ParkoloHazID": "3",
                                    "Ferohely": "40",
                                    "Cim": "Hosszu ut 56",
                                    "CegNev": "Best Parking",
                                    "MukodikEjszaka": "1",
                                    "MinFizetendoOraSzam": "1",
                                    "HonaposBerletElerheto": "1",
                                    "HonaposBerletiDij": "350.00"
                                },
                                {
                                    "ParkoloHazID": "4",
                                    "Ferohely": "1030",
                                    "Cim": "Monostor 198",
                                    "CegNev": "Affordable PArking",
                                    "MukodikEjszaka": "1",
                                    "MinFizetendoOraSzam": "1",
                                    "HonaposBerletElerheto": "1",
                                    "HonaposBerletiDij": "250.00"
                                },
                                {
                                    "ParkoloHazID": "5",
                                    "Ferohely": "0",
                                    "Cim": "Kalacs ut 23",
                                    "CegNev": "Maskara KFT",
                                    "MukodikEjszaka": "1",
                                    "MinFizetendoOraSzam": "1",
                                    "HonaposBerletElerheto": "1",
                                    "HonaposBerletiDij": "400.00"
                                }
                            ]
                        },
                        "text/html": "<table><tr><th>ParkoloHazID</th><th>Ferohely</th><th>Cim</th><th>CegNev</th><th>MukodikEjszaka</th><th>MinFizetendoOraSzam</th><th>HonaposBerletElerheto</th><th>HonaposBerletiDij</th></tr><tr><td>1</td><td>164</td><td>Foter 14, Kolozsvar</td><td>Kolozsvari Parkolohaz</td><td>0</td><td>1</td><td>1</td><td>300.00</td></tr><tr><td>2</td><td>100</td><td>Beke ter 37, Kolozsvar</td><td>Cool Parking</td><td>1</td><td>0.5</td><td>1</td><td>450.00</td></tr><tr><td>3</td><td>40</td><td>Hosszu ut 56</td><td>Best Parking</td><td>1</td><td>1</td><td>1</td><td>350.00</td></tr><tr><td>4</td><td>1030</td><td>Monostor 198</td><td>Affordable PArking</td><td>1</td><td>1</td><td>1</td><td>250.00</td></tr><tr><td>5</td><td>0</td><td>Kalacs ut 23</td><td>Maskara KFT</td><td>1</td><td>1</td><td>1</td><td>400.00</td></tr></table>"
                    },
                    "metadata": {}
                },
                {
                    "output_type": "execute_result",
                    "execution_count": 65,
                    "data": {
                        "application/vnd.dataresource+json": {
                            "schema": {
                                "fields": [
                                    {
                                        "name": "KliensID"
                                    },
                                    {
                                        "name": "RegisztracioDatuma"
                                    },
                                    {
                                        "name": "TelSzam"
                                    },
                                    {
                                        "name": "Nev"
                                    },
                                    {
                                        "name": "Cim"
                                    }
                                ]
                            },
                            "data": [
                                {
                                    "KliensID": "1",
                                    "RegisztracioDatuma": "1970-01-01",
                                    "TelSzam": "----",
                                    "Nev": "Anonim",
                                    "Cim": "----"
                                },
                                {
                                    "KliensID": "2",
                                    "RegisztracioDatuma": "2020-12-13",
                                    "TelSzam": "0740-123456",
                                    "Nev": "Toth Adam",
                                    "Cim": "Hosszu ut 24"
                                },
                                {
                                    "KliensID": "3",
                                    "RegisztracioDatuma": "2021-06-24",
                                    "TelSzam": "+40-745-456456",
                                    "Nev": "Horvath Denes",
                                    "Cim": "Kossuth utca 19/24"
                                },
                                {
                                    "KliensID": "4",
                                    "RegisztracioDatuma": "2022-01-16",
                                    "TelSzam": "0746123456",
                                    "Nev": "Szabo Annamari",
                                    "Cim": "Rozsak tere 6"
                                },
                                {
                                    "KliensID": "5",
                                    "RegisztracioDatuma": "2021-08-08",
                                    "TelSzam": "0745654321",
                                    "Nev": "Lakatos Lajos",
                                    "Cim": "Petofi utca 78B"
                                },
                                {
                                    "KliensID": "6",
                                    "RegisztracioDatuma": "2021-01-01",
                                    "TelSzam": "0743-909089",
                                    "Nev": "Bertalan Lilla",
                                    "Cim": "Farkas utca 1"
                                },
                                {
                                    "KliensID": "7",
                                    "RegisztracioDatuma": "2021-11-11",
                                    "TelSzam": "0722-786756",
                                    "Nev": "Tamasi Virag",
                                    "Cim": "Kis utca 3"
                                }
                            ]
                        },
                        "text/html": "<table><tr><th>KliensID</th><th>RegisztracioDatuma</th><th>TelSzam</th><th>Nev</th><th>Cim</th></tr><tr><td>1</td><td>1970-01-01</td><td>----</td><td>Anonim</td><td>----</td></tr><tr><td>2</td><td>2020-12-13</td><td>0740-123456</td><td>Toth Adam</td><td>Hosszu ut 24</td></tr><tr><td>3</td><td>2021-06-24</td><td>+40-745-456456</td><td>Horvath Denes</td><td>Kossuth utca 19/24</td></tr><tr><td>4</td><td>2022-01-16</td><td>0746123456</td><td>Szabo Annamari</td><td>Rozsak tere 6</td></tr><tr><td>5</td><td>2021-08-08</td><td>0745654321</td><td>Lakatos Lajos</td><td>Petofi utca 78B</td></tr><tr><td>6</td><td>2021-01-01</td><td>0743-909089</td><td>Bertalan Lilla</td><td>Farkas utca 1</td></tr><tr><td>7</td><td>2021-11-11</td><td>0722-786756</td><td>Tamasi Virag</td><td>Kis utca 3</td></tr></table>"
                    },
                    "metadata": {}
                },
                {
                    "output_type": "execute_result",
                    "execution_count": 65,
                    "data": {
                        "application/vnd.dataresource+json": {
                            "schema": {
                                "fields": [
                                    {
                                        "name": "ParkolasID"
                                    },
                                    {
                                        "name": "JarmuID"
                                    },
                                    {
                                        "name": "ParkoloHazID"
                                    },
                                    {
                                        "name": "KezdoIdopont"
                                    },
                                    {
                                        "name": "VegsoIdopont"
                                    },
                                    {
                                        "name": "AlapParkolasiDij"
                                    },
                                    {
                                        "name": "FizetettDij"
                                    }
                                ]
                            },
                            "data": [
                                {
                                    "ParkolasID": "1",
                                    "JarmuID": "10",
                                    "ParkoloHazID": "1",
                                    "KezdoIdopont": "2022-01-24 15:04:00.000",
                                    "VegsoIdopont": "2022-01-24 16:30:40.000",
                                    "AlapParkolasiDij": "7.00",
                                    "FizetettDij": "12.00"
                                },
                                {
                                    "ParkolasID": "2",
                                    "JarmuID": "10",
                                    "ParkoloHazID": "1",
                                    "KezdoIdopont": "2021-02-25 13:56:00.000",
                                    "VegsoIdopont": "2021-02-25 14:35:40.000",
                                    "AlapParkolasiDij": "7.00",
                                    "FizetettDij": "12.00"
                                },
                                {
                                    "ParkolasID": "3",
                                    "JarmuID": "6",
                                    "ParkoloHazID": "3",
                                    "KezdoIdopont": "2021-11-14 19:16:00.000",
                                    "VegsoIdopont": "2021-11-14 20:30:40.000",
                                    "AlapParkolasiDij": "9.00",
                                    "FizetettDij": "20.00"
                                },
                                {
                                    "ParkolasID": "4",
                                    "JarmuID": "7",
                                    "ParkoloHazID": "3",
                                    "KezdoIdopont": "2021-09-04 09:08:00.000",
                                    "VegsoIdopont": "2021-09-04 11:58:00.000",
                                    "AlapParkolasiDij": "10.00",
                                    "FizetettDij": "50.00"
                                },
                                {
                                    "ParkolasID": "5",
                                    "JarmuID": "5",
                                    "ParkoloHazID": "2",
                                    "KezdoIdopont": "2022-01-22 12:04:00.000",
                                    "VegsoIdopont": "2022-01-22 15:25:40.000",
                                    "AlapParkolasiDij": "8.00",
                                    "FizetettDij": "30.00"
                                },
                                {
                                    "ParkolasID": "6",
                                    "JarmuID": "2",
                                    "ParkoloHazID": "2",
                                    "KezdoIdopont": "2022-01-23 14:07:00.000",
                                    "VegsoIdopont": "2022-01-23 15:47:30.000",
                                    "AlapParkolasiDij": "8.00",
                                    "FizetettDij": "25.00"
                                },
                                {
                                    "ParkolasID": "7",
                                    "JarmuID": "2",
                                    "ParkoloHazID": "1",
                                    "KezdoIdopont": "2021-06-11 18:00:00.000",
                                    "VegsoIdopont": "2021-06-11 19:00:00.000",
                                    "AlapParkolasiDij": "2000.00",
                                    "FizetettDij": "2500.00"
                                }
                            ]
                        },
                        "text/html": "<table><tr><th>ParkolasID</th><th>JarmuID</th><th>ParkoloHazID</th><th>KezdoIdopont</th><th>VegsoIdopont</th><th>AlapParkolasiDij</th><th>FizetettDij</th></tr><tr><td>1</td><td>10</td><td>1</td><td>2022-01-24 15:04:00.000</td><td>2022-01-24 16:30:40.000</td><td>7.00</td><td>12.00</td></tr><tr><td>2</td><td>10</td><td>1</td><td>2021-02-25 13:56:00.000</td><td>2021-02-25 14:35:40.000</td><td>7.00</td><td>12.00</td></tr><tr><td>3</td><td>6</td><td>3</td><td>2021-11-14 19:16:00.000</td><td>2021-11-14 20:30:40.000</td><td>9.00</td><td>20.00</td></tr><tr><td>4</td><td>7</td><td>3</td><td>2021-09-04 09:08:00.000</td><td>2021-09-04 11:58:00.000</td><td>10.00</td><td>50.00</td></tr><tr><td>5</td><td>5</td><td>2</td><td>2022-01-22 12:04:00.000</td><td>2022-01-22 15:25:40.000</td><td>8.00</td><td>30.00</td></tr><tr><td>6</td><td>2</td><td>2</td><td>2022-01-23 14:07:00.000</td><td>2022-01-23 15:47:30.000</td><td>8.00</td><td>25.00</td></tr><tr><td>7</td><td>2</td><td>1</td><td>2021-06-11 18:00:00.000</td><td>2021-06-11 19:00:00.000</td><td>2000.00</td><td>2500.00</td></tr></table>"
                    },
                    "metadata": {}
                }
            ],
            "execution_count": 65
        },
        {
            "cell_type": "code",
            "source": [
                "DECLARE @Osszkoltseg DECIMAL\r\n",
                "EXEC spParkolos \r\n",
                "@ParkoloHazID = 2,\r\n",
                "@KezdetiIdo='2023-12-19 09:00:00.000',\r\n",
                "@VegzesiIdo='2023-12-28 20:30:40.000',\r\n",
                "@Rendszam= 'SM 12 FGT',\r\n",
                "@Osszkoltseg=@Osszkoltseg OUT\r\n",
                "SELECT @Osszkoltseg AS Osszkoltseg\r\n",
                ""
            ],
            "metadata": {
                "azdata_cell_guid": "662e3e08-b419-44e1-95b0-06dd8a31f047",
                "language": "sql"
            },
            "outputs": [
                {
                    "output_type": "display_data",
                    "data": {
                        "text/html": "(1 row affected)"
                    },
                    "metadata": {}
                },
                {
                    "output_type": "display_data",
                    "data": {
                        "text/html": "Total execution time: 00:00:00.015"
                    },
                    "metadata": {}
                },
                {
                    "output_type": "execute_result",
                    "metadata": {},
                    "execution_count": 4,
                    "data": {
                        "application/vnd.dataresource+json": {
                            "schema": {
                                "fields": [
                                    {
                                        "name": "Osszkoltseg"
                                    }
                                ]
                            },
                            "data": [
                                {
                                    "Osszkoltseg": "0"
                                }
                            ]
                        },
                        "text/html": [
                            "<table>",
                            "<tr><th>Osszkoltseg</th></tr>",
                            "<tr><td>0</td></tr>",
                            "</table>"
                        ]
                    }
                }
            ],
            "execution_count": 4
        },
        {
            "cell_type": "code",
            "source": [
                "select * from EgyszeriParkolasok\r\n",
                "select * from ParkoloHazak"
            ],
            "metadata": {
                "azdata_cell_guid": "08cca4e2-5b6a-48ae-955a-8d8ff9182112",
                "language": "sql"
            },
            "outputs": [
                {
                    "output_type": "display_data",
                    "data": {
                        "text/html": "(11 rows affected)"
                    },
                    "metadata": {}
                },
                {
                    "output_type": "display_data",
                    "data": {
                        "text/html": "(5 rows affected)"
                    },
                    "metadata": {}
                },
                {
                    "output_type": "display_data",
                    "data": {
                        "text/html": "Total execution time: 00:00:00.017"
                    },
                    "metadata": {}
                },
                {
                    "output_type": "execute_result",
                    "metadata": {},
                    "execution_count": 5,
                    "data": {
                        "application/vnd.dataresource+json": {
                            "schema": {
                                "fields": [
                                    {
                                        "name": "ParkolasID"
                                    },
                                    {
                                        "name": "JarmuID"
                                    },
                                    {
                                        "name": "ParkoloHazID"
                                    },
                                    {
                                        "name": "KezdoIdopont"
                                    },
                                    {
                                        "name": "VegsoIdopont"
                                    },
                                    {
                                        "name": "AlapParkolasiDij"
                                    },
                                    {
                                        "name": "FizetettDij"
                                    }
                                ]
                            },
                            "data": [
                                {
                                    "ParkolasID": "1",
                                    "JarmuID": "10",
                                    "ParkoloHazID": "1",
                                    "KezdoIdopont": "2022-01-24 15:04:00.000",
                                    "VegsoIdopont": "2022-01-24 16:30:40.000",
                                    "AlapParkolasiDij": "7.00",
                                    "FizetettDij": "12.00"
                                },
                                {
                                    "ParkolasID": "2",
                                    "JarmuID": "10",
                                    "ParkoloHazID": "1",
                                    "KezdoIdopont": "2021-02-25 13:56:00.000",
                                    "VegsoIdopont": "2021-02-25 14:35:40.000",
                                    "AlapParkolasiDij": "7.00",
                                    "FizetettDij": "12.00"
                                },
                                {
                                    "ParkolasID": "3",
                                    "JarmuID": "6",
                                    "ParkoloHazID": "3",
                                    "KezdoIdopont": "2021-11-14 19:16:00.000",
                                    "VegsoIdopont": "2021-11-14 20:30:40.000",
                                    "AlapParkolasiDij": "9.00",
                                    "FizetettDij": "20.00"
                                },
                                {
                                    "ParkolasID": "4",
                                    "JarmuID": "7",
                                    "ParkoloHazID": "3",
                                    "KezdoIdopont": "2021-09-04 09:08:00.000",
                                    "VegsoIdopont": "2021-09-04 11:58:00.000",
                                    "AlapParkolasiDij": "10.00",
                                    "FizetettDij": "50.00"
                                },
                                {
                                    "ParkolasID": "5",
                                    "JarmuID": "5",
                                    "ParkoloHazID": "2",
                                    "KezdoIdopont": "2022-01-22 12:04:00.000",
                                    "VegsoIdopont": "2022-01-22 15:25:40.000",
                                    "AlapParkolasiDij": "8.00",
                                    "FizetettDij": "30.00"
                                },
                                {
                                    "ParkolasID": "6",
                                    "JarmuID": "2",
                                    "ParkoloHazID": "2",
                                    "KezdoIdopont": "2022-01-23 14:07:00.000",
                                    "VegsoIdopont": "2022-01-23 15:47:30.000",
                                    "AlapParkolasiDij": "8.00",
                                    "FizetettDij": "25.00"
                                },
                                {
                                    "ParkolasID": "7",
                                    "JarmuID": "2",
                                    "ParkoloHazID": "1",
                                    "KezdoIdopont": "2021-06-11 18:00:00.000",
                                    "VegsoIdopont": "2021-06-11 19:00:00.000",
                                    "AlapParkolasiDij": "2000.00",
                                    "FizetettDij": "2500.00"
                                },
                                {
                                    "ParkolasID": "8",
                                    "JarmuID": "2",
                                    "ParkoloHazID": "1",
                                    "KezdoIdopont": "2021-06-11 18:00:00.000",
                                    "VegsoIdopont": "2021-06-11 19:00:00.000",
                                    "AlapParkolasiDij": "2000.00",
                                    "FizetettDij": "2500.00"
                                },
                                {
                                    "ParkolasID": "9",
                                    "JarmuID": "4",
                                    "ParkoloHazID": "2",
                                    "KezdoIdopont": "2024-01-24 15:04:00.000",
                                    "VegsoIdopont": "2024-01-24 20:30:40.000",
                                    "AlapParkolasiDij": "1000.00",
                                    "FizetettDij": "3500.00"
                                },
                                {
                                    "ParkolasID": "10",
                                    "JarmuID": "3",
                                    "ParkoloHazID": "2",
                                    "KezdoIdopont": "2023-12-17 09:00:00.000",
                                    "VegsoIdopont": "2023-12-17 20:30:40.000",
                                    "AlapParkolasiDij": "0.00",
                                    "FizetettDij": "0.00"
                                },
                                {
                                    "ParkolasID": "11",
                                    "JarmuID": "3",
                                    "ParkoloHazID": "2",
                                    "KezdoIdopont": "2023-12-19 09:00:00.000",
                                    "VegsoIdopont": "2023-12-28 20:30:40.000",
                                    "AlapParkolasiDij": "0.00",
                                    "FizetettDij": "0.00"
                                }
                            ]
                        },
                        "text/html": [
                            "<table>",
                            "<tr><th>ParkolasID</th><th>JarmuID</th><th>ParkoloHazID</th><th>KezdoIdopont</th><th>VegsoIdopont</th><th>AlapParkolasiDij</th><th>FizetettDij</th></tr>",
                            "<tr><td>1</td><td>10</td><td>1</td><td>2022-01-24 15:04:00.000</td><td>2022-01-24 16:30:40.000</td><td>7.00</td><td>12.00</td></tr>",
                            "<tr><td>2</td><td>10</td><td>1</td><td>2021-02-25 13:56:00.000</td><td>2021-02-25 14:35:40.000</td><td>7.00</td><td>12.00</td></tr>",
                            "<tr><td>3</td><td>6</td><td>3</td><td>2021-11-14 19:16:00.000</td><td>2021-11-14 20:30:40.000</td><td>9.00</td><td>20.00</td></tr>",
                            "<tr><td>4</td><td>7</td><td>3</td><td>2021-09-04 09:08:00.000</td><td>2021-09-04 11:58:00.000</td><td>10.00</td><td>50.00</td></tr>",
                            "<tr><td>5</td><td>5</td><td>2</td><td>2022-01-22 12:04:00.000</td><td>2022-01-22 15:25:40.000</td><td>8.00</td><td>30.00</td></tr>",
                            "<tr><td>6</td><td>2</td><td>2</td><td>2022-01-23 14:07:00.000</td><td>2022-01-23 15:47:30.000</td><td>8.00</td><td>25.00</td></tr>",
                            "<tr><td>7</td><td>2</td><td>1</td><td>2021-06-11 18:00:00.000</td><td>2021-06-11 19:00:00.000</td><td>2000.00</td><td>2500.00</td></tr>",
                            "<tr><td>8</td><td>2</td><td>1</td><td>2021-06-11 18:00:00.000</td><td>2021-06-11 19:00:00.000</td><td>2000.00</td><td>2500.00</td></tr>",
                            "<tr><td>9</td><td>4</td><td>2</td><td>2024-01-24 15:04:00.000</td><td>2024-01-24 20:30:40.000</td><td>1000.00</td><td>3500.00</td></tr>",
                            "<tr><td>10</td><td>3</td><td>2</td><td>2023-12-17 09:00:00.000</td><td>2023-12-17 20:30:40.000</td><td>0.00</td><td>0.00</td></tr>",
                            "<tr><td>11</td><td>3</td><td>2</td><td>2023-12-19 09:00:00.000</td><td>2023-12-28 20:30:40.000</td><td>0.00</td><td>0.00</td></tr>",
                            "</table>"
                        ]
                    }
                },
                {
                    "output_type": "execute_result",
                    "metadata": {},
                    "execution_count": 5,
                    "data": {
                        "application/vnd.dataresource+json": {
                            "schema": {
                                "fields": [
                                    {
                                        "name": "ParkoloHazID"
                                    },
                                    {
                                        "name": "Ferohely"
                                    },
                                    {
                                        "name": "Cim"
                                    },
                                    {
                                        "name": "CegNev"
                                    },
                                    {
                                        "name": "MukodikEjszaka"
                                    },
                                    {
                                        "name": "MinFizetendoOraSzam"
                                    },
                                    {
                                        "name": "HonaposBerletElerheto"
                                    },
                                    {
                                        "name": "HonaposBerletiDij"
                                    }
                                ]
                            },
                            "data": [
                                {
                                    "ParkoloHazID": "1",
                                    "Ferohely": "163",
                                    "Cim": "Foter 14, Kolozsvar",
                                    "CegNev": "Kolozsvari Parkolohaz",
                                    "MukodikEjszaka": "0",
                                    "MinFizetendoOraSzam": "1",
                                    "HonaposBerletElerheto": "1",
                                    "HonaposBerletiDij": "300.00"
                                },
                                {
                                    "ParkoloHazID": "2",
                                    "Ferohely": "97",
                                    "Cim": "Beke ter 37, Kolozsvar",
                                    "CegNev": "Cool Parking",
                                    "MukodikEjszaka": "1",
                                    "MinFizetendoOraSzam": "0.5",
                                    "HonaposBerletElerheto": "1",
                                    "HonaposBerletiDij": "450.00"
                                },
                                {
                                    "ParkoloHazID": "3",
                                    "Ferohely": "40",
                                    "Cim": "Hosszu ut 56",
                                    "CegNev": "Best Parking",
                                    "MukodikEjszaka": "1",
                                    "MinFizetendoOraSzam": "1",
                                    "HonaposBerletElerheto": "1",
                                    "HonaposBerletiDij": "350.00"
                                },
                                {
                                    "ParkoloHazID": "4",
                                    "Ferohely": "1030",
                                    "Cim": "Monostor 198",
                                    "CegNev": "Affordable PArking",
                                    "MukodikEjszaka": "1",
                                    "MinFizetendoOraSzam": "1",
                                    "HonaposBerletElerheto": "1",
                                    "HonaposBerletiDij": "250.00"
                                },
                                {
                                    "ParkoloHazID": "5",
                                    "Ferohely": "0",
                                    "Cim": "Kalacs ut 23",
                                    "CegNev": "Maskara KFT",
                                    "MukodikEjszaka": "1",
                                    "MinFizetendoOraSzam": "1",
                                    "HonaposBerletElerheto": "1",
                                    "HonaposBerletiDij": "400.00"
                                }
                            ]
                        },
                        "text/html": [
                            "<table>",
                            "<tr><th>ParkoloHazID</th><th>Ferohely</th><th>Cim</th><th>CegNev</th><th>MukodikEjszaka</th><th>MinFizetendoOraSzam</th><th>HonaposBerletElerheto</th><th>HonaposBerletiDij</th></tr>",
                            "<tr><td>1</td><td>163</td><td>Foter 14, Kolozsvar</td><td>Kolozsvari Parkolohaz</td><td>0</td><td>1</td><td>1</td><td>300.00</td></tr>",
                            "<tr><td>2</td><td>97</td><td>Beke ter 37, Kolozsvar</td><td>Cool Parking</td><td>1</td><td>0.5</td><td>1</td><td>450.00</td></tr>",
                            "<tr><td>3</td><td>40</td><td>Hosszu ut 56</td><td>Best Parking</td><td>1</td><td>1</td><td>1</td><td>350.00</td></tr>",
                            "<tr><td>4</td><td>1030</td><td>Monostor 198</td><td>Affordable PArking</td><td>1</td><td>1</td><td>1</td><td>250.00</td></tr>",
                            "<tr><td>5</td><td>0</td><td>Kalacs ut 23</td><td>Maskara KFT</td><td>1</td><td>1</td><td>1</td><td>400.00</td></tr>",
                            "</table>"
                        ]
                    }
                }
            ],
            "execution_count": 5
        },
        {
            "cell_type": "code",
            "source": [
                "INSERT INTO ParkoloHazak(Ferohely, Cim, CegNev, MukodikEjszaka,MinFizetendoOraSzam,HonaposBerletElerheto,HonaposBerletiDij)\r\n",
                "VALUES (0, 'Kalacs ut 23', 'Maskara KFT', 1, 1, 1, 400)"
            ],
            "metadata": {
                "azdata_cell_guid": "13b72f6b-fb95-4533-a5bd-f65a32f9592c",
                "language": "sql"
            },
            "outputs": [
                {
                    "output_type": "display_data",
                    "data": {
                        "text/html": "(1 row affected)"
                    },
                    "metadata": {}
                },
                {
                    "output_type": "display_data",
                    "data": {
                        "text/html": "Total execution time: 00:00:00.007"
                    },
                    "metadata": {}
                }
            ],
            "execution_count": 47
        },
        {
            "cell_type": "code",
            "source": [
                "SELECT * FROM ParkoloHazak"
            ],
            "metadata": {
                "azdata_cell_guid": "12feb794-c026-4ad4-afae-feb41b6c8b94",
                "language": "sql"
            },
            "outputs": [
                {
                    "output_type": "display_data",
                    "data": {
                        "text/html": "(5 rows affected)"
                    },
                    "metadata": {}
                },
                {
                    "output_type": "display_data",
                    "data": {
                        "text/html": "Total execution time: 00:00:00.008"
                    },
                    "metadata": {}
                },
                {
                    "output_type": "execute_result",
                    "execution_count": 48,
                    "data": {
                        "application/vnd.dataresource+json": {
                            "schema": {
                                "fields": [
                                    {
                                        "name": "ParkoloHazID"
                                    },
                                    {
                                        "name": "Ferohely"
                                    },
                                    {
                                        "name": "Cim"
                                    },
                                    {
                                        "name": "CegNev"
                                    },
                                    {
                                        "name": "MukodikEjszaka"
                                    },
                                    {
                                        "name": "MinFizetendoOraSzam"
                                    },
                                    {
                                        "name": "HonaposBerletElerheto"
                                    },
                                    {
                                        "name": "HonaposBerletiDij"
                                    }
                                ]
                            },
                            "data": [
                                {
                                    "ParkoloHazID": "1",
                                    "Ferohely": "165",
                                    "Cim": "Foter 14, Kolozsvar",
                                    "CegNev": "Kolozsvari Parkolohaz",
                                    "MukodikEjszaka": "0",
                                    "MinFizetendoOraSzam": "1",
                                    "HonaposBerletElerheto": "1",
                                    "HonaposBerletiDij": "300.00"
                                },
                                {
                                    "ParkoloHazID": "2",
                                    "Ferohely": "100",
                                    "Cim": "Beke ter 37, Kolozsvar",
                                    "CegNev": "Cool Parking",
                                    "MukodikEjszaka": "1",
                                    "MinFizetendoOraSzam": "0.5",
                                    "HonaposBerletElerheto": "1",
                                    "HonaposBerletiDij": "450.00"
                                },
                                {
                                    "ParkoloHazID": "3",
                                    "Ferohely": "40",
                                    "Cim": "Hosszu ut 56",
                                    "CegNev": "Best Parking",
                                    "MukodikEjszaka": "1",
                                    "MinFizetendoOraSzam": "1",
                                    "HonaposBerletElerheto": "1",
                                    "HonaposBerletiDij": "350.00"
                                },
                                {
                                    "ParkoloHazID": "4",
                                    "Ferohely": "1030",
                                    "Cim": "Monostor 198",
                                    "CegNev": "Affordable PArking",
                                    "MukodikEjszaka": "1",
                                    "MinFizetendoOraSzam": "1",
                                    "HonaposBerletElerheto": "1",
                                    "HonaposBerletiDij": "250.00"
                                },
                                {
                                    "ParkoloHazID": "5",
                                    "Ferohely": "0",
                                    "Cim": "Kalacs ut 23",
                                    "CegNev": "Maskara KFT",
                                    "MukodikEjszaka": "1",
                                    "MinFizetendoOraSzam": "1",
                                    "HonaposBerletElerheto": "1",
                                    "HonaposBerletiDij": "400.00"
                                }
                            ]
                        },
                        "text/html": "<table><tr><th>ParkoloHazID</th><th>Ferohely</th><th>Cim</th><th>CegNev</th><th>MukodikEjszaka</th><th>MinFizetendoOraSzam</th><th>HonaposBerletElerheto</th><th>HonaposBerletiDij</th></tr><tr><td>1</td><td>165</td><td>Foter 14, Kolozsvar</td><td>Kolozsvari Parkolohaz</td><td>0</td><td>1</td><td>1</td><td>300.00</td></tr><tr><td>2</td><td>100</td><td>Beke ter 37, Kolozsvar</td><td>Cool Parking</td><td>1</td><td>0.5</td><td>1</td><td>450.00</td></tr><tr><td>3</td><td>40</td><td>Hosszu ut 56</td><td>Best Parking</td><td>1</td><td>1</td><td>1</td><td>350.00</td></tr><tr><td>4</td><td>1030</td><td>Monostor 198</td><td>Affordable PArking</td><td>1</td><td>1</td><td>1</td><td>250.00</td></tr><tr><td>5</td><td>0</td><td>Kalacs ut 23</td><td>Maskara KFT</td><td>1</td><td>1</td><td>1</td><td>400.00</td></tr></table>"
                    },
                    "metadata": {}
                }
            ],
            "execution_count": 48
        }
    ]
}